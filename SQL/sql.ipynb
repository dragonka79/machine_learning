{
 "cells": [
  {
   "attachments": {},
   "cell_type": "markdown",
   "id": "58a440c6-3493-4928-bc83-799d78c59907",
   "metadata": {
    "jp-MarkdownHeadingCollapsed": true
   },
   "source": [
    "# Basic information"
   ]
  },
  {
   "cell_type": "markdown",
   "id": "80980d39-96fb-4ec0-95ce-47de890f5b0b",
   "metadata": {},
   "source": [
    "Two types of databases: relational and non-relational\n",
    " - relational databases: include things like tables, very structured data: stores data in row and columns\n",
    " - non-relational: for unstructured data"
   ]
  },
  {
   "cell_type": "markdown",
   "id": "cfb5d61d-ec71-4e6e-9ce6-6c8e239f2b28",
   "metadata": {},
   "source": [
    "### \n",
    "<div style=\"display: flex; gap: 10px;\">\n",
    "  <img src=\"relational.png\" width=\"1200\" height=\"300\"/>\n",
    "  <img src=\"non_relational.png\" width=\"600\" height=\"300\"/>\n",
    "</div>\n",
    "\n",
    "<!-- <div style=\"display: flex; gap: 10px;\">\n",
    "  <img src=\"relational.png\" style=\"width: 50%; height: auto;\"/>\n",
    "  <img src=\"non_relational.png\" style=\"width: 20%; height: auto;\"/>\n",
    "</div>\n",
    " -->"
   ]
  },
  {
   "cell_type": "markdown",
   "id": "106168ad-6cfc-47a4-8f2d-ee1ab800cbca",
   "metadata": {},
   "source": [
    "Fact tables: Contains the core data for business analysis and measure and record business events (e..g job posting)\n",
    "Dimension tables: describe attributes or dimensions of the data (skills, companies). It also supports filtering, grouping and labeling of facts in reports."
   ]
  },
  {
   "cell_type": "markdown",
   "id": "a3ec1be3-d5c4-42b6-ac5a-15b6635494d4",
   "metadata": {},
   "source": [
    "Basic database for SQLite:  \n",
    "lukeb.co/sql_jobs_db  \n",
    "lukeb.co/sql_invoices_db\n",
    "  \n",
    "Run: CTRL ENTER or \"Run SQL Query\" button on the right.<br>\n",
    "<br>\n",
    "Order to write commands:  \n",
    "SELECT  \n",
    "FROM  \n",
    "WHERE  \n",
    "GROUP BY  \n",
    "HAVING  \n",
    "ORDER BY ... ASC|DESC  \n",
    "LIMIT"
   ]
  },
  {
   "cell_type": "markdown",
   "id": "c7d7a6d5-bcca-49c8-83e5-8f996daa55a6",
   "metadata": {
    "jp-MarkdownHeadingCollapsed": true
   },
   "source": [
    "# Basic Statements and Commands"
   ]
  },
  {
   "attachments": {},
   "cell_type": "markdown",
   "id": "0d1397e3-204b-45c7-8e5e-a525ce0ffd80",
   "metadata": {},
   "source": [
    "## Select all columns"
   ]
  },
  {
   "cell_type": "markdown",
   "id": "00dbc488-db4c-4277-8edc-93b29b6a6c3a",
   "metadata": {},
   "source": [
    "SELECT: identifies the columns (or data) from database  \n",
    "FROM: identifies the table we are connecting to  \n",
    "*: select all the columns  \n",
    "\n",
    "\n",
    "\n",
    "\n",
    "SELECT *  \n",
    "FROM job_posting_fact  \n"
   ]
  },
  {
   "cell_type": "markdown",
   "id": "8a3467ea-d4a7-45c3-b119-bdfea4662888",
   "metadata": {},
   "source": [
    "## Select specific Columns: put the items under each other separating them by a comma for better readability"
   ]
  },
  {
   "cell_type": "markdown",
   "id": "995c0587-6c5f-4dc5-bfda-ba05da5940c9",
   "metadata": {},
   "source": [
    "SELECT  \n",
    "&emsp;company_id,  \n",
    "&emsp;name  \n",
    "FROM  \n",
    "&emsp;company_dim  "
   ]
  },
  {
   "cell_type": "markdown",
   "id": "a5015a9d-78ef-4e0d-ac38-ec8b7ecb5181",
   "metadata": {},
   "source": [
    "There is a better way for that: make a reference to the table:"
   ]
  },
  {
   "cell_type": "markdown",
   "id": "4b65dd41-8511-4ae3-9e92-99e95e7a53b4",
   "metadata": {},
   "source": [
    "SELECT  \n",
    "&emsp;company_dim.company_id,  \n",
    "&emsp;company_dim.name  \n",
    "FROM  \n",
    "&emsp;company_dim  \n"
   ]
  },
  {
   "cell_type": "markdown",
   "id": "9b7fe72e-817d-41e2-a81a-2a5d77bc1c28",
   "metadata": {},
   "source": [
    "## Limitation of the outputs  "
   ]
  },
  {
   "cell_type": "markdown",
   "id": "1d2cf7cc-6f68-42ff-b300-eca67ed3fb9c",
   "metadata": {},
   "source": [
    "SELECT  \n",
    "&emsp; company_dim.company_id,  \n",
    "&emsp; company_dim.name  \n",
    "FROM  \n",
    "&emsp; company_dim  \n",
    "__LIMIT__ 5  "
   ]
  },
  {
   "cell_type": "markdown",
   "id": "8ba3ff0c-a55b-46e7-95c2-d4f2404765bb",
   "metadata": {},
   "source": [
    "## Reading different (dictinct) columns only\n",
    "List all the different job titles by job_title_short column"
   ]
  },
  {
   "cell_type": "markdown",
   "id": "3333eda6-3265-4938-b33b-c0cb90a749a0",
   "metadata": {},
   "source": [
    "__SELECT DISTINCT__  \n",
    "&emsp; job_postings_fact.job_title_short  \n",
    "FROM job_postings_fact  "
   ]
  },
  {
   "cell_type": "markdown",
   "id": "704576dd-a176-476b-b013-de5c40f3678a",
   "metadata": {},
   "source": [
    "## Running more different SQL queries: one below the other separated by semicolon  "
   ]
  },
  {
   "cell_type": "markdown",
   "id": "b5b45f34-3ee6-4fc3-809e-f7fe30062c61",
   "metadata": {},
   "source": [
    "SELECT DISTINCT  \n",
    "&emsp; job_postings_fact.job_title_short  \n",
    "FROM job_postings_fact;  \n",
    "\n",
    "SELECT DISTINCT  \n",
    "&emsp; job_postings_fact.salary_year_avg  \n",
    "FROM job_postings_fact;"
   ]
  },
  {
   "cell_type": "markdown",
   "id": "0bd88ae3-4216-4eb4-b6d9-5e5fd49c48a8",
   "metadata": {},
   "source": [
    "!Note, currently with that editor only the last result can be shown. With advanced editor later on the others can also be shown"
   ]
  },
  {
   "cell_type": "markdown",
   "id": "aca3d7b2-d29f-469c-879b-7a314d28672c",
   "metadata": {},
   "source": [
    "## Filter out particular data from the output"
   ]
  },
  {
   "cell_type": "markdown",
   "id": "1105e620-6d72-4867-b56d-98d76ada39f5",
   "metadata": {},
   "source": [
    "!WHERE is put right after FROM and the keyword is put between '' and not \"\"."
   ]
  },
  {
   "cell_type": "markdown",
   "id": "4a940a45-75f2-43c6-9b68-1bbdd9aa224a",
   "metadata": {},
   "source": [
    "  - e.g.:I am interested only in a job title, where it is \"Data Analyst\"\n",
    "\n",
    "SELECT  \n",
    "    &emsp;job_postings_fact.job_title_short,  \n",
    "    &emsp;job_postings_fact.job_location,  \n",
    "    &emsp;job_postings_fact.job_via,  \n",
    "    &emsp;job_postings_fact.salary_year_avg  \n",
    "    \n",
    "FROM  \n",
    "    &emsp;job_postings_fact  \n",
    "__WHERE__  \n",
    "    &emsp;job_title_short = 'Data Analyst'  \n",
    "LIMIT 10  "
   ]
  },
  {
   "cell_type": "markdown",
   "id": "291c3123-1674-48b9-82e3-ae9f187f3b03",
   "metadata": {},
   "source": [
    "  -  e.g.: I am interested in job posts of Data Analysts where the salary is above 90000 per year. List only the first 15 hits."
   ]
  },
  {
   "cell_type": "markdown",
   "id": "a6a0842f-4c2e-481e-b5e1-0e686d338a8b",
   "metadata": {},
   "source": [
    "SELECT  \n",
    "    &emsp;job_postings_fact.job_title_short,  \n",
    "    &emsp;job_postings_fact.job_location,  \n",
    "    &emsp;job_postings_fact.job_via,  \n",
    "    &emsp;job_postings_fact.salary_year_avg  \n",
    "    \n",
    "FROM  \n",
    "    &emsp;job_postings_fact  \n",
    "__WHERE__  \n",
    "    &emsp;job_title_short = 'Data Analyst' __AND__ salary_year_avg > 90000  \n",
    "LIMIT 15  "
   ]
  },
  {
   "cell_type": "markdown",
   "id": "01f17a58-2a20-4fb8-b09f-1cc498b9a57a",
   "metadata": {
    "jp-MarkdownHeadingCollapsed": true
   },
   "source": [
    "## Adding comments"
   ]
  },
  {
   "cell_type": "markdown",
   "id": "83cd57fd-e911-461a-9167-06bd8628af79",
   "metadata": {
    "jp-MarkdownHeadingCollapsed": true
   },
   "source": [
    "### Single line comment: --. Comment starts with '--', for strings of one line only, can be put anywhere in the query"
   ]
  },
  {
   "cell_type": "markdown",
   "id": "8b71bf23-0c63-49da-9811-248a76fadc1d",
   "metadata": {},
   "source": [
    "-- query to see relevant data for DAs  \n",
    "SELECT  \n",
    "    &emsp;job_postings_fact.job_title_short,  \n",
    "    &emsp;job_postings_fact.job_location,  \n",
    "    &emsp;job_postings_fact.job_via,  \n",
    "    &emsp;job_postings_fact.salary_year_avg    \n",
    "FROM  \n",
    "    &emsp;job_postings_fact  \n",
    "WHERE  \n",
    "    &emsp;job_title_short = 'Data Analyst' AND salary_year_avg > 90000  \n",
    "LIMIT 10"
   ]
  },
  {
   "cell_type": "markdown",
   "id": "cf9f088d-a2ba-4fe8-907f-62b4e676c67e",
   "metadata": {
    "jp-MarkdownHeadingCollapsed": true
   },
   "source": [
    "### Multi-line comment: E.g. I open a Note section at the beginning of the query why I do that specific query"
   ]
  },
  {
   "cell_type": "markdown",
   "id": "eff66034-4283-48a0-b817-0a2d4d0e0917",
   "metadata": {},
   "source": [
    "__/*__ multi  \n",
    "line  \n",
    "comment  \n",
    "__*/__"
   ]
  },
  {
   "cell_type": "markdown",
   "id": "1630c526-d0f6-45f8-9c36-fadc19443ef0",
   "metadata": {},
   "source": [
    "## Ordering (sorting)"
   ]
  },
  {
   "cell_type": "markdown",
   "id": "48d97616-41f6-4f49-ae88-b79e2ba80c37",
   "metadata": {
    "jp-MarkdownHeadingCollapsed": true
   },
   "source": [
    "### Sort Ascending, from smallest to largest. ! NULL is the smallest if no values"
   ]
  },
  {
   "cell_type": "markdown",
   "id": "85db7e89-ac60-49fa-a2fb-b71fa2ae3f46",
   "metadata": {},
   "source": [
    "/*  \n",
    "Line 1 for multi-comment  \n",
    "something  \n",
    "Line 3  \n",
    "*/  \n",
    "SELECT  \n",
    "    &emsp;job_postings_fact.job_title_short,  \n",
    "    &emsp;job_postings_fact.job_location,  \n",
    "    &emsp;job_postings_fact.job_via,  \n",
    "    &emsp;job_postings_fact.salary_year_avg    \n",
    "FROM  \n",
    "    &emsp;job_postings_fact  \n",
    "WHERE  \n",
    "    &emsp;job_title_short = 'Data Analyst'AND salary_year_avg > 90000  \n",
    "__ORDER BY__  \n",
    "    &emsp;salary_year_avg  -- you can put here __ASC__, right after the sorting key, but it is not necessary, the default ORDER is ASC  \n",
    "LIMIT 10  "
   ]
  },
  {
   "cell_type": "markdown",
   "id": "f2b2b2ed-937d-44a8-b32e-d2ea41eadc3f",
   "metadata": {
    "jp-MarkdownHeadingCollapsed": true
   },
   "source": [
    "### Sort Descending"
   ]
  },
  {
   "cell_type": "markdown",
   "id": "5924efda-163e-42a4-a95f-5975139e667a",
   "metadata": {},
   "source": [
    "/*  \n",
    "Line 1 for multi-comment  \n",
    "something  \n",
    "Line 3  \n",
    "*/  \n",
    "SELECT  \n",
    "    &emsp;job_postings_fact.job_title_short,  \n",
    "    &emsp;job_postings_fact.job_location,  \n",
    "    &emsp;job_postings_fact.job_via,  \n",
    "    &emsp;job_postings_fact.salary_year_avg    \n",
    "FROM  \n",
    "    &emsp;job_postings_fact  \n",
    "WHERE  \n",
    "    &emsp;job_title_short = 'Data Analyst'AND salary_year_avg > 90000  \n",
    "__ORDER BY__  \n",
    "    &emsp;salary_year_avg __DESC__  \n",
    "LIMIT 10  "
   ]
  },
  {
   "cell_type": "markdown",
   "id": "89ece1e1-d7a8-4ae4-b6f3-a01bcc870a18",
   "metadata": {
    "jp-MarkdownHeadingCollapsed": true
   },
   "source": [
    "# Comparisons"
   ]
  },
  {
   "cell_type": "markdown",
   "id": "f969846b-fe5d-4d82-a2e0-6b45233b80ae",
   "metadata": {},
   "source": [
    "## Notes:"
   ]
  },
  {
   "cell_type": "markdown",
   "id": "32602fb8-aff2-4d73-9dd7-a2de9fd08c6a",
   "metadata": {},
   "source": [
    "Used with WHERE and HAVING clause  \n",
    "Used in conjunction with comparison operators: $=,<>,>,<,<=,>=$  \n",
    "Used in conjunction with logical operators: __AND,OR,BETWEEN,IN__"
   ]
  },
  {
   "cell_type": "markdown",
   "id": "eb222080-f356-4a05-b054-5a2e95d927db",
   "metadata": {},
   "source": [
    "## Comparison operators, e.g.: Not equal: select the job_via via not 'via Ai-Jobs.net'"
   ]
  },
  {
   "cell_type": "markdown",
   "id": "c44aa8b5-e244-4e4d-a712-02f8b3d51a30",
   "metadata": {
    "jp-MarkdownHeadingCollapsed": true
   },
   "source": [
    "### First solution:  \n",
    "SELECT  \n",
    "    &emsp;job_postings_fact.job_id,  \n",
    "    &emsp;job_postings_fact.job_title_short,  \n",
    "    &emsp;job_postings_fact.job_via,  \n",
    "    &emsp;job_postings_fact.salary_year_avg  \n",
    "FROM   \n",
    "    &emsp;job_postings_fact  \n",
    "WHERE  \n",
    "    &emsp;job_postings_fact.job_via <> 'via Ai-Jobs.net'\n"
   ]
  },
  {
   "cell_type": "markdown",
   "id": "5b894aa1-e7c6-46b2-888b-a178726b7f12",
   "metadata": {
    "jp-MarkdownHeadingCollapsed": true
   },
   "source": [
    "### Second solution:  \n",
    "SELECT  \n",
    "    &emsp;job_postings_fact.job_id,  \n",
    "    &emsp;job_postings_fact.job_title_short,  \n",
    "    &emsp;job_postings_fact.job_via,  \n",
    "    &emsp;job_postings_fact.salary_year_avg  \n",
    "FROM   \n",
    "    &emsp;job_postings_fact  \n",
    "WHERE __NOT__  \n",
    "    &emsp;job_postings_fact.job_via = 'via Ai-Jobs.net'"
   ]
  },
  {
   "cell_type": "markdown",
   "id": "73673d78-cbf1-4852-b5a0-75c64ed52c2a",
   "metadata": {
    "jp-MarkdownHeadingCollapsed": true
   },
   "source": [
    "### Note, that double negation works: select the job_via via 'via Ai-Jobs.net'"
   ]
  },
  {
   "cell_type": "markdown",
   "id": "149bd417-0826-4838-82d2-87c1e525a0bc",
   "metadata": {},
   "source": [
    "SELECT  \n",
    "    &emsp;job_postings_fact.job_id,  \n",
    "    &emsp;job_postings_fact.job_title_short,  \n",
    "    &emsp;job_postings_fact.job_via,  \n",
    "    &emsp;job_postings_fact.salary_year_avg  \n",
    "FROM   \n",
    "    &emsp;job_postings_fact  \n",
    "WHERE NOT  \n",
    "    &emsp;job_postings_fact.job_via <> 'via Ai-Jobs.net'"
   ]
  },
  {
   "cell_type": "markdown",
   "id": "18e938c1-d10c-42e1-94d2-603f9cb00c4f",
   "metadata": {},
   "source": [
    "## Logical operators"
   ]
  },
  {
   "cell_type": "markdown",
   "id": "bee99fe0-31b2-46f1-afe7-0997db03859e",
   "metadata": {
    "jp-MarkdownHeadingCollapsed": true
   },
   "source": [
    "### AND: Salary is more than 100000 per year for Data Analysts:  "
   ]
  },
  {
   "cell_type": "markdown",
   "id": "d086aee8-afd7-49f2-a8c6-623523ba692a",
   "metadata": {},
   "source": [
    "SELECT  \n",
    "    &emsp;job_postings_fact.job_id,  \n",
    "    &emsp;job_postings_fact.job_title_short,  \n",
    "    &emsp;job_postings_fact.job_via,  \n",
    "    &emsp;job_postings_fact.salary_year_avg  \n",
    "FROM   \n",
    "    &emsp;job_postings_fact  \n",
    "WHERE  \n",
    "    &emsp;job_postings_fact.salary_year_avg > 100000  \n",
    "    &emsp;__AND__ job_postings_fact.job_title = 'Data Analyst'  \n",
    "ORDER BY  \n",
    "    &emsp;job_postings_fact.salary_year_avg"
   ]
  },
  {
   "cell_type": "markdown",
   "id": "0691c45f-efcf-40f3-ac39-942f65f3034a",
   "metadata": {},
   "source": [
    "### OR: In case of OR, it is permissive OR ( both conditions are allowed,too).  \n",
    "List the jobs where it is for Data Analyst OR the salary_year_avg > 100000 (so it can be e.g.: Data Analyst with 120000 salary/year)"
   ]
  },
  {
   "cell_type": "markdown",
   "id": "c24cc6e7-b670-4c8e-b48b-1744ac00dd48",
   "metadata": {},
   "source": [
    "SELECT  \n",
    "    &emsp;job_postings_fact.job_id,  \n",
    "    &emsp;job_postings_fact.job_title_short,  \n",
    "    &emsp;job_postings_fact.job_via,  \n",
    "    &emsp;job_postings_fact.salary_year_avg  \n",
    "FROM  \n",
    "    &emsp;job_postings_fact  \n",
    "WHERE  \n",
    "    &emsp;job_postings_fact.job_title_short = 'Data Analyst'  \n",
    "    &emsp;OR job_postings_fact.salary_year_avg > 100000  \n",
    "ORDER BY  \n",
    "    &emsp;job_postings_fact.salary_year_avg"
   ]
  },
  {
   "cell_type": "markdown",
   "id": "269050e9-58b5-4fa4-a032-55dc367b567a",
   "metadata": {},
   "source": [
    "### BETWEEN"
   ]
  },
  {
   "cell_type": "markdown",
   "id": "2661af66-4047-4b67-994a-13f669183067",
   "metadata": {},
   "source": [
    "SELECT  \n",
    "    &emsp;job_postings_fact.job_id,  \n",
    "    &emsp;job_postings_fact.job_title_short,  \n",
    "    &emsp;job_postings_fact.job_via,  \n",
    "    &emsp;job_postings_fact.salary_year_avg  \n",
    "FROM  \n",
    "    &emsp;job_postings_fact  \n",
    "WHERE  \n",
    "    &emsp;job_postings_fact.job_title_short = 'Data Analyst'  \n",
    "    &emsp;OR job_postings_fact.salary_year_avg BETWEEN 60000 AND 90000  \n",
    "ORDER BY  \n",
    "    &emsp;job_postings_fact.salary_year_avg"
   ]
  },
  {
   "cell_type": "markdown",
   "id": "1714da08-2383-47d4-81de-dc27adcc5f7b",
   "metadata": {},
   "source": [
    "### IN: Match not to a condition, but to any condition in a list: IN (cond1, cond2, .., condn)  "
   ]
  },
  {
   "cell_type": "markdown",
   "id": "6a9a2137-ea9d-4101-96da-cd0a07576fc6",
   "metadata": {},
   "source": [
    "Job titles of Data Analyst or Data Engineer or Data Scientist:  \n",
    "SELECT  \n",
    "    &emsp;job_postings_fact.job_id,  \n",
    "    &emsp;job_postings_fact.job_title_short,  \n",
    "    &emsp;job_postings_fact.job_via,  \n",
    "    &emsp;job_postings_fact.salary_year_avg  \n",
    "FROM  \n",
    "    &emsp;job_postings_fact  \n",
    "WHERE  \n",
    "    &emsp;job_postings_fact.job_title_short __IN__ ('Data Analyst', 'Data Engineer', 'Data Scientist)  "
   ]
  },
  {
   "cell_type": "markdown",
   "id": "d1f1404f-e973-475a-9189-ede2cc9abfe8",
   "metadata": {
    "jp-MarkdownHeadingCollapsed": true
   },
   "source": [
    "# Practice Problem 1"
   ]
  },
  {
   "cell_type": "markdown",
   "id": "2fded5f5-a5d9-445b-8b68-dfe91b32ab40",
   "metadata": {},
   "source": [
    "### Get the job details for BOTH 'Data Analyst' or 'Business Analyst' positions\n",
    "  - For 'Data Analyst', jobs only > 100.000\n",
    "  - For 'Business Analyst', jobs only > 70.000\n",
    "  - Jobs are located either in 'Boston, MA' or 'Anywhere'\n",
    "\n"
   ]
  },
  {
   "cell_type": "markdown",
   "id": "9d07bdcb-900b-458c-a82f-0f359f82370f",
   "metadata": {},
   "source": [
    "SELECT  \n",
    "    &emsp;job_postings_fact.job_title_short,  \n",
    "    &emsp;job_postings_fact.job_location,  \n",
    "    &emsp;job_postings_fact.job_via,  \n",
    "    &emsp;job_postings_fact.salary_year_avg  \n",
    "FROM   \n",
    "    &emsp;job_postings_fact  \n",
    "WHERE  \n",
    "    &emsp;(\n",
    "&emsp;&emsp;        (job_postings_fact.job_title_short = 'Data Analyst' AND job_postings_fact.salary_year_avg > 100000)  \n",
    "&emsp;    OR  \n",
    "&emsp;&emsp;&emsp;  (job_postings_fact.job_title_short = 'Business Analyst' AND job_postings_fact.salary_rate > 70000)  \n",
    "&emsp;    )  \n",
    "&emsp;    AND  \n",
    "&emsp;        job_postings_fact.job_location IN ('Boston, MA', 'Anywhere')  \n",
    "&emsp;    AND  \n",
    "&emsp;        job_postings_fact.salary_year_avg IS NOT NULL  \n",
    "ORDER BY  \n",
    "&emsp;    job_postings_fact.salary_year_avg ASC  "
   ]
  },
  {
   "cell_type": "markdown",
   "id": "db016350-84b4-4a29-ae81-6061d58d10bb",
   "metadata": {
    "jp-MarkdownHeadingCollapsed": true
   },
   "source": [
    "# Wildcards"
   ]
  },
  {
   "cell_type": "markdown",
   "id": "52108b58-d5dc-4a85-9d0e-f4251986fea6",
   "metadata": {},
   "source": [
    "## zero or more characters: __LIKE %__. It is as * for bash"
   ]
  },
  {
   "cell_type": "markdown",
   "id": "0d6b2ecc-602c-4e23-b4c7-0167b29721a9",
   "metadata": {},
   "source": [
    "### Get all the jobs of 'Analyst'"
   ]
  },
  {
   "cell_type": "markdown",
   "id": "a856a4c2-9f5c-44c7-811e-34a3f489a65d",
   "metadata": {},
   "source": [
    "SELECT  \n",
    "    &emsp;job_postings_fact.job_title_short,  \n",
    "    &emsp;job_postings_fact.job_title,  \n",
    "    &emsp;job_postings_fact.job_location,  \n",
    "    &emsp;job_postings_fact.job_via,  \n",
    "    &emsp;job_postings_fact.salary_year_avg  \n",
    "FROM   \n",
    "    &emsp;job_postings_fact  \n",
    "WHERE  \n",
    "    &emsp;job_postings_fact.job_title LIKE '%Analyst%'  \n",
    "ORDER BY  \n",
    "    &emsp;job_postings_fact.salary_year_avg ASC  "
   ]
  },
  {
   "cell_type": "markdown",
   "id": "d5a3eb01-ed4c-411f-be34-7d1e41d35582",
   "metadata": {},
   "source": [
    "## single character: **_**"
   ]
  },
  {
   "cell_type": "markdown",
   "id": "2404573e-a42d-4ea0-a311-7e3fc8c4d9a3",
   "metadata": {},
   "source": [
    "### List the jobs of 'Business Analyst' only. Hint: There is a 'Business Data Analyst' job I am not interested in."
   ]
  },
  {
   "cell_type": "markdown",
   "id": "0970a165-82cf-4d4d-bf2f-6ea6467a3d67",
   "metadata": {},
   "source": [
    "#### First solution"
   ]
  },
  {
   "cell_type": "markdown",
   "id": "5a2d0f9e-6e46-401a-b13e-68ddc8fb2a04",
   "metadata": {},
   "source": [
    "SELECT  \n",
    "    &emsp;job_postings_fact.job_title_short,  \n",
    "    &emsp;job_postings_fact.job_title,  \n",
    "    &emsp;job_postings_fact.job_location,  \n",
    "    &emsp;job_postings_fact.job_via,  \n",
    "    &emsp;job_postings_fact.salary_year_avg  \n",
    "FROM   \n",
    "    &emsp;job_postings_fact  \n",
    "WHERE  \n",
    "    &emsp;job_postings_fact.job_title_short LIKE 'Business_Analyst'  \n",
    "ORDER BY  \n",
    "    &emsp;job_postings_fact.salary_year_avg ASC  "
   ]
  },
  {
   "cell_type": "markdown",
   "id": "9de2e65b-8259-4622-9ed7-7560cacf060a",
   "metadata": {},
   "source": [
    "#### Second solution (does not work in SQLite)"
   ]
  },
  {
   "cell_type": "markdown",
   "id": "62f420cc-a97e-437e-a033-33126851f735",
   "metadata": {},
   "source": [
    "SELECT  \n",
    "    &emsp;job_postings_fact.job_title_short,  \n",
    "    &emsp;job_postings_fact.job_title,  \n",
    "    &emsp;job_postings_fact.job_location,  \n",
    "    &emsp;job_postings_fact.job_via,  \n",
    "    &emsp;job_postings_fact.salary_year_avg  \n",
    "FROM   \n",
    "    &emsp;job_postings_fact  \n",
    "WHERE  \n",
    "    &emsp;job_postings_fact.job_title ILIKE '%Business_Analyst%'  \n",
    "ORDER BY  \n",
    "    &emsp;job_postings_fact.salary_year_avg ASC  "
   ]
  },
  {
   "cell_type": "markdown",
   "id": "6982911a-72c6-45ec-9e48-52221f777fc3",
   "metadata": {
    "jp-MarkdownHeadingCollapsed": true
   },
   "source": [
    "# Aliases: AS\n"
   ]
  },
  {
   "cell_type": "markdown",
   "id": "d5f652af-57cd-49ca-ad11-f020c4d90878",
   "metadata": {},
   "source": [
    "Temporarily rename  \n",
    "  - a column in a table. It makes the column names more readable. Practical for presentations.\n",
    "  - works for tables, too."
   ]
  },
  {
   "cell_type": "markdown",
   "id": "f4514a58-3d63-4a56-8086-3f623fa7eef2",
   "metadata": {},
   "source": [
    "### Present the following columns in a different name:\n",
    "job_title_short -> job_title  \n",
    "job_location -> location  \n",
    "job_via -> online_platform  \n",
    "salary_year_avg -> salary"
   ]
  },
  {
   "cell_type": "markdown",
   "id": "d1a8800b-dbb6-4d77-8205-baf566c589e1",
   "metadata": {},
   "source": [
    "SELECT  \n",
    "    &emsp;job_postings_fact.job_title_short AS job_title,  \n",
    "    &emsp;job_postings_fact.job_location AS location,  \n",
    "    &emsp;job_postings_fact.job_via AS online_platform,  \n",
    "    &emsp;job_postings_fact.salary_year_avg AS salary  \n",
    "FROM   \n",
    "    &emsp;job_postings_fact  "
   ]
  },
  {
   "cell_type": "markdown",
   "id": "5af8f2ea-99b6-4c66-ab65-aded779500ab",
   "metadata": {},
   "source": [
    "### Load job_posting_fact as jpc. Also modify the load of the columns according to it. Give 2 solutions, the second solution is the simpler form of the first one."
   ]
  },
  {
   "cell_type": "markdown",
   "id": "c7f1b004-d4ae-4997-aedf-e6db144b396f",
   "metadata": {},
   "source": [
    "#### With AS in FROM\n",
    "SELECT  \n",
    "    &emsp;jpc.job_title_short **AS** job_title,  \n",
    "    &emsp;jpc.job_location AS location,  \n",
    "    &emsp;jpc.job_via AS online_platform,  \n",
    "    &emsp;jpc.salary_year_avg AS salary  \n",
    "FROM  \n",
    "    &emsp;job_postings_fact **AS** jpc  "
   ]
  },
  {
   "cell_type": "markdown",
   "id": "b972d6f6-0097-42f2-a889-39db7f4e4bf2",
   "metadata": {},
   "source": [
    "#### Without AS either in SELECT or FROM. It works but makes it harder read.\n",
    "SELECT  \n",
    "    &emsp;jpc.job_title_short job_title,  \n",
    "    &emsp;jpc.job_location location,  \n",
    "    &emsp;jpc.job_via online_platform,  \n",
    "    &emsp;jpc.salary_year_avg salary  \n",
    "FROM  \n",
    "    &emsp;job_postings_fact jpc  \n",
    "<br>\n",
    "!important note: in this case **jpc**.job_title_short works but **job_postings_fact**.job_title_short does not"
   ]
  },
  {
   "cell_type": "markdown",
   "id": "0dd25839-aa59-4c48-bffd-331183c8ad7c",
   "metadata": {
    "jp-MarkdownHeadingCollapsed": true
   },
   "source": [
    "# Practice Problem 1"
   ]
  },
  {
   "cell_type": "markdown",
   "id": "b14212c5-c2e5-4177-95aa-c75d0b632ade",
   "metadata": {},
   "source": [
    "### Look for non-senior data analyst or business analyst roles  \n",
    "Get the job title, location and average year salary"
   ]
  },
  {
   "cell_type": "markdown",
   "id": "dd22d0ef-bc24-4a5f-99ed-5100754ae24c",
   "metadata": {},
   "source": [
    "#### First Solution"
   ]
  },
  {
   "cell_type": "markdown",
   "id": "af693a8b-f3f7-4304-838c-e710bc7ea31e",
   "metadata": {},
   "source": [
    "SELECT  \n",
    "    &emsp;job_postings_fact.job_title,  \n",
    "    &emsp;job_postings_fact.job_location,  \n",
    "    &emsp;job_postings_fact.salary_year_avg  \n",
    "FROM  \n",
    "    &emsp;job_postings_fact  \n",
    "WHERE  \n",
    "    &emsp;(job_postings_fact.job_title NOT LIKE '%Senior%')  \n",
    "    &emsp; AND  \n",
    "     &emsp;(    (job_postings_fact.job_title LIKE '%Data%' OR job_postings_fact.job_title LIKE '%Business%') AND job_postings_fact.job_title LIKE '%Analyst%'  \n",
    "    &emsp; )  \n",
    "     "
   ]
  },
  {
   "cell_type": "markdown",
   "id": "5b3f195b-da0a-4846-867d-094fa9cdde4f",
   "metadata": {
    "jp-MarkdownHeadingCollapsed": true
   },
   "source": [
    "#### Second Solution"
   ]
  },
  {
   "cell_type": "markdown",
   "id": "a2928992-3767-40bc-a401-83fc732e7ae8",
   "metadata": {},
   "source": [
    "SELECT  \n",
    "    &emsp;job_postings_fact.job_title,  \n",
    "    &emsp;job_postings_fact.job_location,  \n",
    "    &emsp;job_postings_fact.salary_year_avg  \n",
    "FROM  \n",
    "    &emsp;job_postings_fact  \n",
    "WHERE  \n",
    "    &emsp;(job_postings_fact.job_title NOT LIKE '%Senior%')  \n",
    "    &emsp; AND  \n",
    "     &emsp;job_postings_fact.job_title_short IN ('Data Analyst', 'Business Analyst')"
   ]
  },
  {
   "cell_type": "markdown",
   "id": "56518ba5-2048-40b4-a313-cd8153454099",
   "metadata": {
    "jp-MarkdownHeadingCollapsed": true
   },
   "source": [
    "# Basic Operations"
   ]
  },
  {
   "cell_type": "markdown",
   "id": "0582eaf3-4055-43fd-b18c-a852a6b29226",
   "metadata": {},
   "source": [
    "### Here is the core query from lukeb.co/sql_invoices_db"
   ]
  },
  {
   "cell_type": "markdown",
   "id": "51a79dac-646c-485e-bdb9-e55784eaf80a",
   "metadata": {},
   "source": [
    "### Addition and subtraction"
   ]
  },
  {
   "cell_type": "markdown",
   "id": "3ec89fed-5b2d-4108-9989-7d50e7a54f63",
   "metadata": {
    "jp-MarkdownHeadingCollapsed": true
   },
   "source": [
    "#### Modify the core query as per follows:  \n",
    "  - load hours_rate as rate_original\n",
    "  - subtract 5 from all the values in hours rate column and load it as rate_drop"
   ]
  },
  {
   "cell_type": "markdown",
   "id": "8ea826cb-ac31-497c-9df2-dd88a804126b",
   "metadata": {},
   "source": [
    "SELECT  \n",
    "    &emsp; invoices_fact.project_company,  \n",
    "    &emsp; invoices_fact.nerd_id,  \n",
    "    &emsp; invoices_fact.nerd_role,  \n",
    "    &emsp; invoices_fact.hours_rate AS rate_original,  \n",
    "    &emsp; invoices_fact.hours_rate - 5 AS rate_drop  \n",
    "FROM  \n",
    "    &emsp; invoices_fact  "
   ]
  },
  {
   "cell_type": "markdown",
   "id": "91cbec63-f638-4afa-9876-e404e4c9ff15",
   "metadata": {
    "jp-MarkdownHeadingCollapsed": true
   },
   "source": [
    "### Multiplication: Get the following from lukeb.co/sql_invoices_db:  \n",
    "  -  load every column\n",
    "  -  filter by invoices_fact.hours_spent * invoices_fact.hours_rate > 180000\n",
    "  -  sort it by nerd_id"
   ]
  },
  {
   "cell_type": "markdown",
   "id": "28c964bd-053a-4031-8ea9-f79d327d14cd",
   "metadata": {
    "jp-MarkdownHeadingCollapsed": true
   },
   "source": [
    "#### Solution"
   ]
  },
  {
   "cell_type": "markdown",
   "id": "8379158f-31c2-4959-b3b6-809efd86d87e",
   "metadata": {},
   "source": [
    "SELECT    \n",
    "    &emsp; *    \n",
    "FROM    \n",
    "    &emsp;invoices_fact    \n",
    "WHERE    \n",
    "    &emsp;invoices_fact.hours_spent * invoices_fact.hours_rate > 180000    \n",
    "ORDER BY    \n",
    "    &emsp;invoices_fact.nerd_id ASC  "
   ]
  },
  {
   "cell_type": "markdown",
   "id": "11bd7318-fae6-442d-8dfa-5da17dab27bd",
   "metadata": {
    "jp-MarkdownHeadingCollapsed": true
   },
   "source": [
    "### Modulus operator. lukeb.co/sql_invoices_db\n",
    "The task: In general, people work 8 hours a day. Give back an extra_hours column where the overtime value between 8 and 16 working hours(hours_spent)."
   ]
  },
  {
   "cell_type": "markdown",
   "id": "441104c3-24f6-4bea-982d-b68f6f095eaa",
   "metadata": {},
   "source": [
    "SELECT  \n",
    "    &emsp; *,  \n",
    "    &emsp; invoices_fact.hours_spent % 8 AS extra_hours  \n",
    "FROM  \n",
    "    &emsp; invoices_fact  \n",
    "WHERE  \n",
    "    &emsp; extra_hours <> 0 AND (invoices_fact.hours_spent BETWEEN 8 AND 16)  \n",
    "ORDER BY  \n",
    "    &emsp; extra_hours  \n",
    "\n",
    "   "
   ]
  },
  {
   "cell_type": "markdown",
   "id": "25df3644-cd3c-45c3-b4bc-ed520bf630d1",
   "metadata": {
    "jp-MarkdownHeadingCollapsed": true
   },
   "source": [
    "# Aggregation: SUM(), COUNT(), AVG(), MAX(), MIN()  \n",
    "Used in conjunction with GROUP BY and/or HAVING.  \n",
    "lukeb.co/sql_jobs_db is used"
   ]
  },
  {
   "cell_type": "markdown",
   "id": "45ee0ab4-72f4-4e54-83e5-9a0529fef5da",
   "metadata": {},
   "source": [
    "### Add up all the values in salary_year_avg and return with that sum only with name salary_sum"
   ]
  },
  {
   "cell_type": "markdown",
   "id": "a2fbbd8c-445e-42b0-964e-97bc3d0b95a8",
   "metadata": {},
   "source": [
    "SELECT  \n",
    "    &emsp; SUM(job_postings_fact.salary_year_avg) AS salary_sum  \n",
    "FROM  \n",
    "    &emsp;job_postings_fact  \n"
   ]
  },
  {
   "cell_type": "markdown",
   "id": "df963a88-df93-4f51-8bdf-013cda3bdfb9",
   "metadata": {},
   "source": [
    "### Modify the query just above as per follows: add the number of rows of the column as count_rows"
   ]
  },
  {
   "cell_type": "markdown",
   "id": "913553fa-66ba-4a98-a04c-df83550e6fdc",
   "metadata": {},
   "source": [
    "SELECT  \n",
    "    &emsp; SUM(job_postings_fact.salary_year_avg) AS salary_sum,  \n",
    "    &emsp; COUNT(*) as count_rows  \n",
    "FROM  \n",
    "    &emsp;job_postings_fact  "
   ]
  },
  {
   "cell_type": "markdown",
   "id": "7fd72bac-d5a7-4302-9551-41ae3b7639e6",
   "metadata": {},
   "source": [
    "### Modify the query just above as per follows: add the number of rows of the column where the value is not NULL as count_rows_2"
   ]
  },
  {
   "cell_type": "markdown",
   "id": "da70a910-1c97-4761-a3bc-2ba979376990",
   "metadata": {},
   "source": [
    "SELECT  \n",
    "    &emsp; SUM(job_postings_fact.salary_year_avg) AS salary_sum,  \n",
    "    &emsp; COUNT(*) as count_rows,  \n",
    "    &emsp; COUNT(job_postings_fact.salary_year_avg) as count_rows_2  \n",
    "FROM  \n",
    "    &emsp;job_postings_fact  \n",
    "\n",
    "  So: COUNT(*) counts every rows; COUNT(<specific column>) counts only the rows where the values are not NULL    "
   ]
  },
  {
   "cell_type": "markdown",
   "id": "1055f69d-944a-4d78-b03f-e5d34dece190",
   "metadata": {},
   "source": [
    "### How many different job titles exist?"
   ]
  },
  {
   "cell_type": "markdown",
   "id": "ed2d476a-f47d-435a-a842-4331763b0ed9",
   "metadata": {},
   "source": [
    "SELECT  \n",
    "    &emsp; COUNT(DISTINCT(job_postings_fact.job_title_short)) AS different_jobs  \n",
    "FROM  \n",
    "    &emsp; job_postings_fact  "
   ]
  },
  {
   "cell_type": "markdown",
   "id": "0b7918e4-6909-4269-8938-458199332734",
   "metadata": {},
   "source": [
    "### How many part-time job advertisements exist?"
   ]
  },
  {
   "cell_type": "markdown",
   "id": "bb9287aa-9e69-4633-9d59-2a56311ab150",
   "metadata": {},
   "source": [
    "SELECT  \n",
    "    &emsp; COUNT(job_postings_fact.job_schedule_type) AS part_time_jobs  \n",
    "FROM  \n",
    "    &emsp;job_postings_fact  \n",
    "WHERE  \n",
    "   &emsp;job_postings_fact.job_schedule_type LIKE '%Part-time%'  "
   ]
  },
  {
   "cell_type": "markdown",
   "id": "0665e7f7-baae-47c1-994f-deb51de07f51",
   "metadata": {},
   "source": [
    "### What is the yearly average salary for Data Analysts rounded to 2 decimals + what are the mimimum and maximum salary values on a yearly basis?\n"
   ]
  },
  {
   "cell_type": "markdown",
   "id": "1cf6e82a-b4b2-42f2-bdf2-94eeed61d1c6",
   "metadata": {},
   "source": [
    "SELECT   \n",
    "    &emsp; ROUND(AVG(job_postings_fact.salary_year_avg), 2) AS average_salary_year,  \n",
    "     &emsp;MIN(job_postings_fact.salary_year_avg) AS salary_min,  \n",
    "     &emsp;MAX(job_postings_fact.salary_year_avg) AS salary_max  \n",
    "FROM  \n",
    "     &emsp;job_postings_fact  \n",
    "WHERE  \n",
    "     &emsp;job_postings_fact.job_title_short = 'Data Analyst'   "
   ]
  },
  {
   "cell_type": "markdown",
   "id": "0907e13c-088c-4c9b-be82-c8b078e7ab11",
   "metadata": {},
   "source": [
    "### What is the average, the min and the max salary for all the jobs? Hint: modify the query above"
   ]
  },
  {
   "cell_type": "markdown",
   "id": "586b4004-1340-4653-88bc-95fe1b680ae3",
   "metadata": {},
   "source": [
    "SELECT   \n",
    "    &emsp; job_postings_fact.job_title_short AS jobs,  \n",
    "    &emsp; ROUND(AVG(job_postings_fact.salary_year_avg), 2) AS average_salary_year,  \n",
    "    &emsp; MIN(job_postings_fact.salary_year_avg) AS salary_min,  \n",
    "    &emsp; MAX(job_postings_fact.salary_year_avg) AS salary_max  \n",
    "FROM  \n",
    "    &emsp; job_postings_fact  \n",
    "GROUP BY  \n",
    "    &emsp; job_postings_fact.job_title_short  "
   ]
  },
  {
   "cell_type": "markdown",
   "id": "bdd716f6-4b20-4f34-8bb7-af450d9549e9",
   "metadata": {},
   "source": [
    "### Add the following query to the above one: get the job number advertisements in total for all the jobs"
   ]
  },
  {
   "cell_type": "markdown",
   "id": "1bf47cfa-284a-439f-9cb0-d3366b28c8b3",
   "metadata": {},
   "source": [
    "SELECT   \n",
    "    &emsp; job_postings_fact.job_title_short AS jobs,  \n",
    "    &emsp; COUNT(job_postings_fact.job_title_short) AS job_numbers,  \n",
    "    &emsp; ROUND(AVG(job_postings_fact.salary_year_avg), 2) AS average_salary_year,  \n",
    "    &emsp; MIN(job_postings_fact.salary_year_avg) AS salary_min,  \n",
    "    &emsp; MAX(job_postings_fact.salary_year_avg) AS salary_max  \n",
    "FROM  \n",
    "    &emsp; job_postings_fact  \n",
    "GROUP BY  \n",
    "    &emsp; job_postings_fact.job_title_short  "
   ]
  },
  {
   "cell_type": "markdown",
   "id": "d6deadb3-5b08-4466-a7ea-93be77e8a16a",
   "metadata": {},
   "source": [
    "### Make a filter on the query just above: I am only interested in job titles which have more than 100 jobs"
   ]
  },
  {
   "cell_type": "markdown",
   "id": "ed3c2342-28ef-4657-9321-45a88ea8ba33",
   "metadata": {},
   "source": [
    "SELECT   \n",
    "    &emsp; job_postings_fact.job_title_short AS jobs,  \n",
    "    &emsp; COUNT(job_postings_fact.job_title_short) AS job_numbers,  \n",
    "    &emsp; ROUND(AVG(job_postings_fact.salary_year_avg), 2) AS average_salary_year,  \n",
    "    &emsp; MIN(job_postings_fact.salary_year_avg) AS salary_min,  \n",
    "    &emsp; MAX(job_postings_fact.salary_year_avg) AS salary_max  \n",
    "FROM  \n",
    "    &emsp; job_postings_fact  \n",
    "GROUP BY  \n",
    "    &emsp; job_postings_fact.job_title_short  \n",
    "HAVING  \n",
    "    &emsp; job_numbers > 100  "
   ]
  },
  {
   "cell_type": "markdown",
   "id": "0d34752e-6011-4536-8cce-dee615d57e6a",
   "metadata": {},
   "source": [
    "#### ! Difference between WHERE and HAVING: WHERE filters Rows (before grouping), HAVING filters Groups (after grouping). Therefore WHERE cannot be used with aggregation."
   ]
  },
  {
   "cell_type": "markdown",
   "id": "23cc49d7-75ac-4199-b4e2-1774bc9cb3dc",
   "metadata": {},
   "source": [
    "### Practice Problem 1 (aggregation):\n",
    "In the job_posting_fact table calculate the total sum of the average yearly salary for all the job posting that are marked as fully remote (job_working_from_home is TRUE)   \n",
    "and divide it by the total count of salary_year_avg. To get the total average yearly salary for fully remote jobs. Ensure to only include job posting where a yearly salary is specified (not NULL)"
   ]
  },
  {
   "cell_type": "markdown",
   "id": "5ef78089-4f6a-45c1-af62-5b3eff7f3b65",
   "metadata": {},
   "source": [
    "SELECT   \n",
    "    &emsp; job_postings_fact.job_title_short,  \n",
    "    &emsp; SUM(job_postings_fact.salary_year_avg) AS sum_yearly_avg_salary,  \n",
    "    &emsp; (SUM(job_postings_fact.salary_year_avg)) / (COUNT(job_postings_fact.salary_year_avg)) as wtf  \n",
    "FROM  \n",
    "    &emsp; job_postings_fact  \n",
    "WHERE  \n",
    "    &emsp; job_postings_fact.job_work_from_home IS TRUE  \n",
    "    &emsp; AND  \n",
    "    &emsp; job_postings_fact.salary_year_avg IS NOT NULL  \n",
    "GROUP BY  \n",
    "    &emsp; job_postings_fact.job_title_short  "
   ]
  },
  {
   "cell_type": "markdown",
   "id": "07b3cf55-ca76-4452-8383-7795ab736fbd",
   "metadata": {},
   "source": [
    "### Practice Problem 2 (aggregation):"
   ]
  },
  {
   "cell_type": "markdown",
   "id": "04d4c390-f3de-4dc8-9ca1-321e25922fa7",
   "metadata": {},
   "source": [
    "In the job_posting_fact table count the total number of job postings that offer health insurance. Use the job_health_insurance column to determine if a job posting offers health insurance"
   ]
  },
  {
   "cell_type": "markdown",
   "id": "62afc6b7-d272-4460-b040-0cab1cf72fe5",
   "metadata": {},
   "source": [
    "SELECT  \n",
    "    &emsp; COUNT(job_postings_fact.job_title_short) AS job_health  \n",
    "FROM  \n",
    "    &emsp; job_postings_fact  \n",
    "WHERE  \n",
    "    &emsp; job_postings_fact.job_health_insurance = '1'  "
   ]
  },
  {
   "cell_type": "markdown",
   "id": "53629136-7ecf-4496-a3ab-8b3f1bed735a",
   "metadata": {},
   "source": [
    "### Practice Problem 3 (aggregation):\n",
    "In the job_posting_fact table count the number of jobs postings available for each country. Use the job_country column to group the job postings, and count the number of job postings  \n",
    "(job_id) within each country group."
   ]
  },
  {
   "cell_type": "markdown",
   "id": "2bf6780e-b4b8-4ba8-81c9-7a455bd43b9e",
   "metadata": {},
   "source": [
    "SELECT  \n",
    "    &emsp; job_postings_fact.job_country,  \n",
    "    &emsp; COUNT(job_postings_fact.job_id) AS jobs  \n",
    "FROM  \n",
    "    &emsp; job_postings_fact  \n",
    "GROUP BY  \n",
    "    &emsp; job_postings_fact.job_country  \n",
    "    "
   ]
  },
  {
   "cell_type": "markdown",
   "id": "47773ac5-c78f-4141-878f-22f243ba6236",
   "metadata": {},
   "source": [
    "### Practice Problem 3:  lukeb.co/sql_invoices_db\n",
    "-  Calculate the current month's total earnings per project (hours_spent * hours_rate)\n",
    "-  Calculate a scenario where the hourly rate increases by $5\n"
   ]
  },
  {
   "cell_type": "markdown",
   "id": "445cdc74-1cae-4e6d-9b79-017e18b56012",
   "metadata": {},
   "source": [
    "SELECT   \n",
    "    &emsp; invoices_fact.project_id,  \n",
    "    &emsp; invoices_fact.hours_spent,  \n",
    "    &emsp; invoices_fact.hours_rate AS rate_original,  \n",
    "    &emsp; SUM(invoices_fact.hours_spent * invoices_fact.hours_rate) AS project_original_cost,  /* Calculate the current month's total earnings per project */  \n",
    "    &emsp; invoices_fact.hours_rate + 5 AS rate_hike,  \n",
    "    &emsp; SUM(invoices_fact.hours_spent * (invoices_fact.hours_rate + 5)) AS project_projected_cost   /* Calculate a scenario where the hourly rate increases by $5 */  \n",
    "FROM   \n",
    "    &emsp; invoices_fact  \n",
    "GROUP BY  \n",
    "    &emsp; invoices_fact.project_id  \n"
   ]
  },
  {
   "cell_type": "markdown",
   "id": "f85181aa-1f78-452e-b3ee-241444402b8f",
   "metadata": {
    "jp-MarkdownHeadingCollapsed": true
   },
   "source": [
    "# Null values : Fields with no values.  \n",
    "Can be filtered out with WHERE or HAVING"
   ]
  },
  {
   "cell_type": "markdown",
   "id": "11fcc243-20a8-444d-b0f2-fb4fd11e0c80",
   "metadata": {
    "jp-MarkdownHeadingCollapsed": true
   },
   "source": [
    "### Practice problem 2:  lukeb.co/sql_jobs_db  \n",
    "Identify all job postings that have neither an annual average salary nor an hourly average salary in the job_posting_fact table. Return job_id, job_title, salary_year_avg, salary_hour_avg"
   ]
  },
  {
   "cell_type": "markdown",
   "id": "90c88e13-0238-41d1-a5fa-42bb4565f51b",
   "metadata": {},
   "source": [
    "### 1. solution"
   ]
  },
  {
   "cell_type": "markdown",
   "id": "a8e26ce0-b2f8-4d7a-a2d9-3484d80d696f",
   "metadata": {},
   "source": [
    "SELECT  \n",
    "    &emsp; job_postings_fact.job_id,  \n",
    "    &emsp; job_postings_fact.job_title,  \n",
    "    &emsp; job_postings_fact.salary_year_avg,  \n",
    "    &emsp; job_postings_fact.salary_hour_avg  \n",
    "FROM  \n",
    "    &emsp; job_postings_fact  \n",
    "WHERE  \n",
    "    &emsp; job_postings_fact.salary_year_avg IS NOT NULL  \n",
    "    &emsp; AND  \n",
    "    &emsp; job_postings_fact.salary_hour_avg IS NOT NULL  \n"
   ]
  },
  {
   "cell_type": "markdown",
   "id": "6635857a-3754-41c7-b423-f399f9214dae",
   "metadata": {},
   "source": [
    "### 2. solution ( I like it better)"
   ]
  },
  {
   "cell_type": "markdown",
   "id": "a659672f-1ae3-4339-8389-d841b8c30cd4",
   "metadata": {},
   "source": [
    "SELECT  \n",
    "    &emsp; job_postings_fact.job_id,  \n",
    "    &emsp; job_postings_fact.job_title,  \n",
    "    &emsp; job_postings_fact.salary_year_avg,  \n",
    "    &emsp; job_postings_fact.salary_hour_avg  \n",
    "FROM  \n",
    "    &emsp; job_postings_fact  \n",
    "WHERE NOT  \n",
    "    &emsp; (job_postings_fact.salary_year_avg IS NULL  \n",
    "    &emsp; OR  \n",
    "    &emsp; job_postings_fact.salary_hour_avg IS NULL)  "
   ]
  },
  {
   "cell_type": "markdown",
   "id": "d4f5f7ce-ade4-4aa8-98fd-7224e04b5305",
   "metadata": {
    "jp-MarkdownHeadingCollapsed": true
   },
   "source": [
    "# Joins"
   ]
  },
  {
   "cell_type": "markdown",
   "id": "524c7e1f-a3d1-43a0-8ce5-11d93b126e63",
   "metadata": {},
   "source": [
    "### LEFT JOIN:  \n"
   ]
  },
  {
   "cell_type": "markdown",
   "id": "3facefd4-4827-47e6-af32-64980f455af0",
   "metadata": {},
   "source": [
    "https://www.youtube.com/watch?v=pgHXQ5QerJ0\n",
    "\n",
    "We have A and B 2 separate tables, and it will return all of the contents table A and then whatever we are matching A and B on.  \n",
    "it is only going to return the contents, __the entire row!__, from B that is matches A on.   \n",
    "Think of it like: \"\"Give me the row from table A, and stick on any matching row from table B — with all of its fields.\"  \n",
    "In case there is no matching value in B in the common column (say A has value \"X\" in a row the common column but B has not such value in the common column), then NULL is filled in the corresponding row to B.\n",
    "<div align=\"left\">\n",
    "  <img src=\"sql_left_join.png\" width=\"100\" height=\"50\"/>\n",
    "</div>"
   ]
  },
  {
   "cell_type": "markdown",
   "id": "d1df5706-bb07-4acf-a7b0-b1461558afad",
   "metadata": {},
   "source": [
    "#### Join company_name of company_dim table to job_posting_fact using company_id column. "
   ]
  },
  {
   "cell_type": "markdown",
   "id": "9d92e528-2bc4-4fa2-836b-6cd72010da63",
   "metadata": {},
   "source": [
    "SELECT  \n",
    "    &emsp;job_postings.job_id,  \n",
    "    &emsp;job_postings.job_title_short,  \n",
    "    &emsp;job_postings.company_id AS company_id_A,  \n",
    "    &emsp;companies.company_id AS company_id_B,  \n",
    "    &emsp;companies.name AS company_name  \n",
    "    \n",
    "FROM job_postings_fact AS job_postings  \n",
    "LEFT JOIN company_dim AS companies  \n",
    "    &emsp;ON job_postings.company_id = companies.company_id  "
   ]
  },
  {
   "cell_type": "markdown",
   "id": "eaf1a55f-83c1-4e00-9eb1-36a99e912008",
   "metadata": {},
   "source": [
    "### RIGHT JOIN  \n"
   ]
  },
  {
   "cell_type": "markdown",
   "id": "aac7ee0c-914c-4302-b109-6988ec98d9dd",
   "metadata": {},
   "source": [
    "Returns all rows from the right table and matching rows from the left table. For non-matching rows in the left table, it uses NULL values.\n",
    "<div align=\"left\">\n",
    "  <img src=\"sql_right_join.png\" width=\"100\" height=\"50\"/>\n",
    "</div>"
   ]
  },
  {
   "cell_type": "markdown",
   "id": "31690a29-684b-4776-85da-5d8cbaf541d1",
   "metadata": {},
   "source": [
    "### INNER JOIN  \n"
   ]
  },
  {
   "cell_type": "markdown",
   "id": "ca8d2029-5468-4ad6-89e4-592a9d8d669c",
   "metadata": {},
   "source": [
    "https://www.youtube.com/watch?v=pgHXQ5QerJ0\n",
    "\n",
    "We have A and B table and it returns rows from the A table that have the corresponding row in B table.  \n",
    "<div align=\"left\">\n",
    "  <img src=\"sql_inner_join.png\" width=\"100\" height=\"50\"/>\n",
    "</div>  \n",
    "In case A has more columns that match with the same common value in B then the result comes back with all the columns A has, e.g.:  \n",
    "A table : m = a1, a2, a3, a4, a5   \n",
    "f = 1, 2, 2, 3, 3   \n",
    "<br>\n",
    "n = b1, b2, b3, b4, b5  \n",
    "f = 1, 2, 3, 4 ,5  \n",
    "\n",
    "INNER JOIN B ON A.f = B.f WHERE A.f = 2 will be  \n",
    "\n",
    "| m  | A.f | n  | B.f |\n",
    "|----|-----|----|-----|\n",
    "| a2 | 2   | b2 | 2   |\n",
    "| a3 | 2   | b2 | 2   |\n",
    "\n"
   ]
  },
  {
   "cell_type": "markdown",
   "id": "b518042b-93d0-452e-82a4-8bf8f24b0d63",
   "metadata": {},
   "source": [
    "#### I am interested in jobs where a skill is available  \n",
    "Here 3 tables should be inner joined: job_postings_fact, skills_job_dim and skills_dim"
   ]
  },
  {
   "cell_type": "markdown",
   "id": "733c2063-78a2-4631-84fa-7e39f7ee4928",
   "metadata": {},
   "source": [
    "SELECT  \n",
    "    &emsp; job_postings_fact.job_id,  \n",
    "    &emsp; job_postings_fact.job_title,  \n",
    "    &emsp; skills_job_dim.skill_id,  \n",
    "    &emsp; skills_dim.skills  \n",
    "FROM  \n",
    "    &emsp; job_postings_fact  \n",
    "INNER JOIN skills_job_dim  \n",
    "    &emsp; ON job_postings_fact.job_id = skills_job_dim.job_id  \n",
    "INNER JOIN skills_dim  \n",
    "    &emsp; ON skills_job_dim.skill_id = skills_dim.skill_id  "
   ]
  },
  {
   "cell_type": "markdown",
   "id": "fd1659b7-e1ee-4ba2-a58a-16ca9dfc93d7",
   "metadata": {},
   "source": [
    "### FULL OUTER JOIN"
   ]
  },
  {
   "cell_type": "markdown",
   "id": "58ea13f7-b579-406a-9290-2419798b05f0",
   "metadata": {},
   "source": [
    "<div align=\"left\">\n",
    "  <img src=\"sql_full_outer_join.png\" width=\"100\" height=\"50\"/>\n",
    "</div>  \n",
    "Joining 2 tables, returns all rows from the first and second tables. If there are no matching rows in one of the tables, it uses NULL to represent the missing values.SQlite does not support it natively but it can be simulated using a combination of LEFT JOIN, RIGHT JOIN, and UNION. \n",
    "Real world use case can be stock taking, when a company has multiple shops in multiple locations and would like to see the consolidated view of inventory."
   ]
  },
  {
   "cell_type": "markdown",
   "id": "ed8e1c8d-e3ac-4e62-8502-0f66ba2597e8",
   "metadata": {
    "jp-MarkdownHeadingCollapsed": true
   },
   "source": [
    "### Practice Problem 1  \n",
    "Retrieve the list of job titles(job_title) and the corresponding company names (name) for all job postings that mention \"Data Scientist\" in the job title. Use the job_posting_fact and company_dim tables for this query."
   ]
  },
  {
   "cell_type": "markdown",
   "id": "deb83ae1-2792-4c49-8c88-56b24b5a3b05",
   "metadata": {},
   "source": [
    "SELECT  \n",
    "    &emsp;job_postings_fact.job_title,  \n",
    "    &emsp;company_dim.name AS company_name  \n",
    "FROM job_postings_fact  \n",
    "LEFT JOIN company_dim  \n",
    "    &emsp;ON job_postings_fact.company_id = company_dim.company_id  \n",
    "WHERE  \n",
    "    &emsp;job_postings_fact.job_title\n",
    "    &emsp;LIKE '%Data Scientist%'"
   ]
  },
  {
   "cell_type": "markdown",
   "id": "3811325b-295d-4899-896c-a1eff50693dd",
   "metadata": {},
   "source": [
    "### Practice Problem 2:\n",
    "Fetch all job postings, including their job titles (job_title) and the names of the skills required (skills), even if no skills are listed for a job. Ensure that the job is located in \"New York\" and offers \"Health Insurance\".  \n",
    "Use the job_posting_fact, skills_job_dim and skills_dim tables."
   ]
  },
  {
   "cell_type": "markdown",
   "id": "c309ba3e-df5a-42c0-8cab-f1607c7c2e96",
   "metadata": {},
   "source": [
    "SELECT  \n",
    "    &emsp; job_postings_fact.job_title,  \n",
    "    &emsp; job_postings_fact.job_health_insurance,  \n",
    "    &emsp; job_postings_fact.job_location,  \n",
    "    &emsp; skills_dim.skills\n",
    "    \n",
    "FROM   \n",
    "    &emsp; job_postings_fact  \n",
    "    \n",
    "LEFT JOIN skills_job_dim ON job_postings_fact.job_id = skills_job_dim.job_id  \n",
    "LEFT JOIN skills_dim ON skills_dim.skill_id = skills_job_dim.skill_id  \n",
    "\n",
    "WHERE  \n",
    "    &emsp; job_postings_fact.job_location = 'New York'  \n",
    "    &emsp; AND  \n",
    "    &emsp; job_postings_fact.job_health_insurance = '1'  "
   ]
  },
  {
   "cell_type": "markdown",
   "id": "c75498a5-517b-4ac4-9b4e-3cf22424a651",
   "metadata": {},
   "source": [
    "  Note: The same result can be achieved with INNER JOINs"
   ]
  },
  {
   "cell_type": "markdown",
   "id": "a8b01358-7139-4a7a-b4c4-f0768bf03d43",
   "metadata": {
    "jp-MarkdownHeadingCollapsed": true
   },
   "source": [
    "# Order of execution"
   ]
  },
  {
   "cell_type": "markdown",
   "id": "e3f6a3df-5492-4597-97cb-a5289dfee2b9",
   "metadata": {},
   "source": [
    "### Order or writing  \n"
   ]
  },
  {
   "cell_type": "markdown",
   "id": "17b7ba54-e13a-4d98-9203-2c154ae1b6a2",
   "metadata": {},
   "source": [
    "1. SELECT\n",
    "2. FROM\n",
    "3. JOINs\n",
    "4. WHERE\n",
    "5. GROUP BY\n",
    "6. HAVING\n",
    "7. ORDER BY\n",
    "8. LIMIT"
   ]
  },
  {
   "cell_type": "markdown",
   "id": "7b2d8f93-0098-48a8-ad39-d6dc9c58be68",
   "metadata": {},
   "source": [
    "### Order of Execution"
   ]
  },
  {
   "cell_type": "markdown",
   "id": "83a4501f-eb4e-4aad-8d88-de7beb921dae",
   "metadata": {},
   "source": [
    "1. FROM  \n",
    "2. JOIN (combined with FROM as part of building the dataset)  \n",
    "3. WHERE (filters rows before grouping)  \n",
    "4. GROUP BY (groups the filtered rows)  \n",
    "5. HAVING (filters groups after grouping)\n",
    "6. SELECT (picks the columns or expressions to return)\n",
    "7. ORDER BY (sorts the result set)\n",
    "8. LIMIT (restricts the number of rows returned)"
   ]
  },
  {
   "cell_type": "markdown",
   "id": "bf238dc3-14f8-4b1a-a92a-b78c2106f0ca",
   "metadata": {
    "jp-MarkdownHeadingCollapsed": true
   },
   "source": [
    "# Practice problem 5"
   ]
  },
  {
   "cell_type": "markdown",
   "id": "effd835a-dc82-44e7-bfac-0faae1758ca3",
   "metadata": {},
   "source": [
    "Find the average salary and number of jobs postings for each skill for this:    \n",
    "-  Write a query to list each unique skill from the skills_dim table\n",
    "-  Count how many job postings mention each skill from the skills_job_dim table\n",
    "-  Calculate the average yearly salary for job postings associated with each skill\n",
    "-  Group the results by the name of the skill name\n",
    "-  Order by average salary  \n",
    "Hint: use LEFT JOIN to combine skills_dim, skills_job_dim and job_posting_fact tables"
   ]
  },
  {
   "cell_type": "markdown",
   "id": "d3dd9537-c81e-450b-9c29-f9f62ef43b0a",
   "metadata": {},
   "source": [
    "### Solution"
   ]
  },
  {
   "cell_type": "markdown",
   "id": "d6f79a9e-0083-4664-8be2-890bad58f6fc",
   "metadata": {},
   "source": [
    "/* skills_dim table has skills and skill_id columns  \n",
    "skill-job dim table has skill_id and job_id columns  \n",
    "job fact table has job_id and salary_year_avg columns, so  \n",
    "import skills_dim table first then left join skill-job dim table and job_postings_fact tables  \n",
    "*/\n",
    "\n",
    "\n",
    "SELECT  \n",
    "    &emsp; DISTINCT(skills_dim.skills) AS skill_name,  \n",
    "    &emsp; COUNT(skills_job_dim.job_id) AS number_of_job_postings,  \n",
    "    &emsp; AVG(job_postings_fact.salary_year_avg) AS avg_yearly_salary_per_skill  \n",
    "FROM skills_dim  \n",
    "LEFT JOIN skills_job_dim ON skills_dim.skill_id = skills_job_dim.skill_id  \n",
    "LEFT JOIN job_postings_fact ON job_postings_fact.job_id = skills_job_dim.job_id  \n",
    "GROUP BY  \n",
    "    &emsp; skills_dim.skills  \n",
    "ORDER BY avg_yearly_salary_per_skill DESC  \n",
    "    "
   ]
  },
  {
   "cell_type": "markdown",
   "id": "b37a27c6-e718-4fe4-916c-11a45c46ac10",
   "metadata": {},
   "source": [
    "# ADVANCED; PostgreSQL"
   ]
  },
  {
   "cell_type": "markdown",
   "id": "4570db6c-6475-4bea-9c54-bee206141e1d",
   "metadata": {},
   "source": [
    "VSCode, SQLTools(VSCode extension) and pgAdmin 4 is installed and configured. VScode is used to manipulate tables.  \n",
    "How to run: When a piece of code is written then select all the code part then hit 'CTRL+ E ' twice."
   ]
  },
  {
   "cell_type": "markdown",
   "id": "539e11a5-1f38-4003-a2c9-b67cc1b85d54",
   "metadata": {
    "jp-MarkdownHeadingCollapsed": true
   },
   "source": [
    "## Manipulate tables  "
   ]
  },
  {
   "cell_type": "markdown",
   "id": "0d1cb87e-2486-427c-a39a-1a226975d17d",
   "metadata": {},
   "source": [
    "- __CREATE TABLE__  \n",
    "- __INSERT INTO__: add columns/data to your tables  \n",
    "- ALTER TABLE:  \n",
    "     &emsp; __ADD COLUMN__  \n",
    "     &emsp; __RENAME COLUMN__  \n",
    "     &emsp; __ALTER COLUMN__: change the datatype of the column  \n",
    "     &emsp; __DROP COLUMN__: delete a column  \n",
    "- __DROP TABLE__: delete table\n",
    "- __UPDATE__ -> SET with WHERE: modify existing data in a row\n",
    "- __ALTER TABLE__ -> ALTER COLUMN: modify properties of a column\n",
    "- __DELETE FROM__ with WHERE: delete certain rows  \n",
    "  "
   ]
  },
  {
   "cell_type": "markdown",
   "id": "ab4816a2-6432-432c-958a-a1a774ea2224",
   "metadata": {
    "jp-MarkdownHeadingCollapsed": true
   },
   "source": [
    "### CREATE TABLE: Table creation"
   ]
  },
  {
   "cell_type": "markdown",
   "id": "1246dc70-5e67-4197-9d94-eb1507c29cf3",
   "metadata": {},
   "source": [
    "Creating a table of 'job_applied' with a couple of columns:"
   ]
  },
  {
   "cell_type": "markdown",
   "id": "690f78c2-eca3-42fb-8199-e991757ddd78",
   "metadata": {},
   "source": [
    "CREATE TABLE job_applied (  \n",
    "    &emsp;job_id INT,  \n",
    "    &emsp;application_sent_date DATE,  \n",
    "    &emsp;custom_resume BOOLEAN,  \n",
    "    &emsp;resume_file_name VARCHAR(255),  \n",
    "    &emsp;cover_letter_sent BOOLEAN,  \n",
    "    &emsp;cover_letter_file_name VARCHAR(255),  \n",
    "    &emsp;status VARCHAR(50)  \n",
    ");"
   ]
  },
  {
   "cell_type": "markdown",
   "id": "5192a0fd-d024-4ade-8a27-61f0ab812480",
   "metadata": {
    "jp-MarkdownHeadingCollapsed": true
   },
   "source": [
    "### INSERT INTO: Insert data into a table.   \n",
    "Used to fill table with new rows if the columns exist; it creates new rows with the new data.  \n",
    "Cannot be used with WHERE. In case data is already set then use UPDATE to fill the cells."
   ]
  },
  {
   "cell_type": "markdown",
   "id": "83f28938-4999-4c81-a639-4832d0277ab7",
   "metadata": {},
   "source": [
    "INSERT INTO table_name (column_name1, column_name2, ...)  \n",
    "VALUES  \n",
    "( 1st_value_for_column_name1, 1st_value_for_column_name2,...),  \n",
    "( 2nd_value_for_column_name1, 2nd_value_for_column_name2,...),  \n",
    "( 3rd_value_for_column_name1, 3rd_value_for_column_name2,...)  \n",
    "...  \n",
    ";\n"
   ]
  },
  {
   "cell_type": "markdown",
   "id": "26098676-b940-44c8-84e3-33cd300ec9cc",
   "metadata": {},
   "source": [
    "INSERT INTO job_applied (  \n",
    "   &emsp; job_id,  \n",
    "   &emsp; application_sent_date,  \n",
    "   &emsp; custom_resume,  \n",
    "   &emsp; resume_file_name,  \n",
    "   &emsp; cover_letter_sent,   \n",
    "   &emsp; cover_letter_file_name,   \n",
    "   &emsp; status)  \n",
    "VALUES (  \n",
    "   &emsp; 1,  \n",
    "   &emsp; '2024-02-01',  \n",
    "   &emsp;  TRUE,  \n",
    "   &emsp; 'resume_01.pdf',  \n",
    "   &emsp; TRUE,  \n",
    "   &emsp; 'cover_letter_01.pdf',  \n",
    "   &emsp;'submitted'),  \n",
    "   &emsp; (2,  \n",
    "   &emsp; '2024-02-02',  \n",
    "   &emsp; FALSE,  \n",
    "   &emsp; 'resume_02.pdf',  \n",
    "   &emsp;FALSE,  \n",
    "   &emsp; NULL,  \n",
    "   &emsp; 'interview_scheduled'),  \n",
    "   &emsp; (3,  \n",
    "   &emsp; '2024-02-03',  \n",
    "   &emsp; TRUE,  \n",
    "   &emsp; 'resume_03.pdf',  \n",
    "   &emsp; TRUE,  \n",
    "   &emsp;'cover_letter_03.pdf',  \n",
    "   &emsp;'ghosted'),  \n",
    "   &emsp; (4,  \n",
    "   &emsp; '2024-02-04',  \n",
    "   &emsp; TRUE,  \n",
    "   &emsp; 'resume_04.pdf',  \n",
    "   &emsp; FALSE,  \n",
    "   &emsp; NULL,  \n",
    "   &emsp; 'submitted'),  \n",
    "   &emsp; (5,  \n",
    "   &emsp;'2024-02-05',  \n",
    "   &emsp; FALSE,  \n",
    "   &emsp; 'resume_05.pdf',  \n",
    "   &emsp; TRUE,  \n",
    "   &emsp; 'cover_letter_05.pdf',  \n",
    "   &emsp;  'rejected');  "
   ]
  },
  {
   "cell_type": "markdown",
   "id": "fd916d6c-9cd0-4a5f-bb00-c2f8c9ff51f9",
   "metadata": {
    "jp-MarkdownHeadingCollapsed": true
   },
   "source": [
    "### ALTER TABLE"
   ]
  },
  {
   "cell_type": "markdown",
   "id": "a8dc8568-c55a-4582-89ec-2ad246118df7",
   "metadata": {},
   "source": [
    "#### ADD COLUMN: Add a new column to the table"
   ]
  },
  {
   "cell_type": "markdown",
   "id": "6e048101-601a-4400-b3fc-0bfc5ab1ebbf",
   "metadata": {},
   "source": [
    "ALTER TABLE job_applied  \n",
    "ADD COLUMN contact VARCHAR(50);"
   ]
  },
  {
   "cell_type": "markdown",
   "id": "046b6f0c-0c6f-4dfb-a634-f26a02319532",
   "metadata": {},
   "source": [
    "#### RENAME COLUMN: rename an existing column"
   ]
  },
  {
   "cell_type": "markdown",
   "id": "354c8702-75d3-4bc2-8aa7-92923208e6aa",
   "metadata": {},
   "source": [
    "ALTER TABLE job_applied  \n",
    "RENAME COLUMN application_sent_data TO application_sent_date;"
   ]
  },
  {
   "cell_type": "markdown",
   "id": "133c1ff4-1580-4c0f-a737-e9dc4012c3e0",
   "metadata": {},
   "source": [
    "#### DROP COLUMN: Delete an existing column"
   ]
  },
  {
   "cell_type": "markdown",
   "id": "fff096fa-b067-4482-a369-4580fe8d95af",
   "metadata": {},
   "source": [
    "ALTER TABLE job_applied  \n",
    "DROP COLUMN cover_letter_file_name,  \n",
    "DROP COLUMN status;"
   ]
  },
  {
   "cell_type": "markdown",
   "id": "f2fc1eeb-391c-48a2-a3d2-83dbd2434608",
   "metadata": {
    "jp-MarkdownHeadingCollapsed": true
   },
   "source": [
    "### UPDATE: Used to modify existing data in a column of a table. Condition can be set to filter what values are affected."
   ]
  },
  {
   "cell_type": "markdown",
   "id": "201411de-a0d8-450e-ba62-8f25fc5b7f47",
   "metadata": {},
   "source": [
    "#### We have just added the 'contact' column, it has no value in any row. Fill this column up.  \n",
    "  \n",
    "UPDATE job_applied  \n",
    "SET contact = 'Erlish Bachman'  \n",
    "WHERE job_id = 1;  \n",
    "\n",
    "UPDATE job_applied  \n",
    "SET contact = 'Dinesh Chugtai'  \n",
    "WHERE job_id = 2;  \n",
    "\n",
    "UPDATE job_applied  \n",
    "SET contact = 'Bertram Gilfoyle'  \n",
    "WHERE job_id = 3;  \n",
    "\n",
    "UPDATE job_applied  \n",
    "SET contact = 'Jiang Yang'  \n",
    "WHERE job_id = 4;  \n",
    "\n",
    "UPDATE job_applied  \n",
    "SET contact = 'Big Head'  \n",
    "WHERE job_id = 5;    "
   ]
  },
  {
   "cell_type": "markdown",
   "id": "dac9aa09-85a7-4722-a6ca-96f451c22dd4",
   "metadata": {},
   "source": [
    "#### Modify contact 'Dinesh Chugtai' to 'Dienesh Chugtai'"
   ]
  },
  {
   "cell_type": "markdown",
   "id": "42fa6803-47ad-4a76-9b17-ab0ec08edbd8",
   "metadata": {},
   "source": [
    "UPDATE job_applied  \n",
    "SET contact = 'Dinesh Chugtai'  \n",
    "WHERE contact = 'Dienesh Chugtai';  \n",
    "  "
   ]
  },
  {
   "cell_type": "markdown",
   "id": "18ae4cba-87e0-4794-b842-cb18e72900f9",
   "metadata": {},
   "source": [
    "!Note: The modified column is moved to the end of the database"
   ]
  },
  {
   "cell_type": "markdown",
   "id": "f31bf15b-1f67-4405-97dc-bd7c7bd9c35e",
   "metadata": {
    "jp-MarkdownHeadingCollapsed": true
   },
   "source": [
    "### ALTER COLUMN: used to modify the properties of an existing column in a table"
   ]
  },
  {
   "cell_type": "markdown",
   "id": "74c3c78d-0087-4ea2-8aba-68c193219a14",
   "metadata": {
    "jp-MarkdownHeadingCollapsed": true
   },
   "source": [
    "#### Change data type: Modify the column's data type, subject to compatibility between the old and the new types  \n",
    "ALTER TABLE table_name  \n",
    "ALTER COLUMN column_name TYPE new_data_type;  "
   ]
  },
  {
   "cell_type": "markdown",
   "id": "7cb0a8ed-89d3-4b5b-b9ac-55caaae5789e",
   "metadata": {
    "jp-MarkdownHeadingCollapsed": true
   },
   "source": [
    "##### Modify the 'contact name' column type to TEXT (no length limitation)  "
   ]
  },
  {
   "cell_type": "markdown",
   "id": "5a065d6c-5245-4a84-a8a4-74145bef5739",
   "metadata": {},
   "source": [
    "ALTER TABLE job_applied  \n",
    "ALTER COLUMN contact_name TYPE TEXT;"
   ]
  },
  {
   "cell_type": "markdown",
   "id": "2f08231b-6773-41d6-8ba1-3f9c58e92e0e",
   "metadata": {},
   "source": [
    "#### Set/Change default value: Assign a default value to the column, which will be used for new rows if no value is specified  \n",
    "ALTER TABLE table_name  \n",
    "ALTER COLUMN column_name SET DEFAULT default_value;  "
   ]
  },
  {
   "cell_type": "markdown",
   "id": "a2c01615-ad9a-4bf9-8b29-38f48fc61382",
   "metadata": {},
   "source": [
    "#### Drop default value: Remove the default value from the column if one exists  \n",
    "\n",
    "ALTER TABLE table_name  \n",
    "ALTER COLUMN column_name DROP DEFAULT;  "
   ]
  },
  {
   "cell_type": "markdown",
   "id": "16592899-8f5d-4019-9206-b94c5d0b6fe5",
   "metadata": {},
   "source": [
    "### Deleting full rows where the condition(s) is/are met."
   ]
  },
  {
   "cell_type": "markdown",
   "id": "1057988e-e3f7-4e7c-9994-61768187ccb5",
   "metadata": {},
   "source": [
    "DELETE FROM table_name  \n",
    "WHERE condition(s)"
   ]
  },
  {
   "cell_type": "markdown",
   "id": "78b707d4-2540-416b-8ea2-32d4ce2167e4",
   "metadata": {},
   "source": [
    "#### Delete rows where 'user_ID' and 'Sex' columns are not filled."
   ]
  },
  {
   "cell_type": "markdown",
   "id": "2a6ce95c-7231-4e97-8f12-cf600643d0f1",
   "metadata": {},
   "source": [
    "DELETE FROM job_applied  \n",
    "WHERE user_ID IS NULL and sex IS NULL;"
   ]
  },
  {
   "cell_type": "markdown",
   "id": "e651fd64-8d27-44af-9064-6f0ce058d624",
   "metadata": {},
   "source": [
    "## Handling Dates"
   ]
  },
  {
   "cell_type": "markdown",
   "id": "64934f5e-f7f5-489f-be7e-38c379d481e8",
   "metadata": {},
   "source": [
    "__:: DATE__ : Converts to a date format by removing the time portion  \n",
    "__AT TIME ZONE__: Converts a timestamp to a specified time zone  \n",
    "__EXTRACT__: GET specific date parts (e.g. year, month, day)  "
   ]
  },
  {
   "cell_type": "markdown",
   "id": "c593577d-2689-4215-add8-598474735ee1",
   "metadata": {},
   "source": [
    "#### Get the date only in timestamp value: ::DATE.  \n",
    "Timestamp: date and time without timezone, format: YYYY-MM-DD HH:MM:SS  \n",
    "Timestamp with timezone: date and time + timezone, format: YYYY-MM-DD HH:MM:SS+HH:MM, e.g. 2025-07-08 16:07:05+01:00"
   ]
  },
  {
   "cell_type": "markdown",
   "id": "851c655b-b6b7-4dc5-bb35-245ccb6d3158",
   "metadata": {},
   "source": [
    "In case of  \n",
    "SELECT  \n",
    "   &emsp; job_title_short AS title,  \n",
    "    &emsp;job_location AS location,  \n",
    "    &emsp;job_posted_date AS date  \n",
    "FROM job_postings_fact  \n",
    "LIMIT 10;  \n",
    "\n",
    "The 'date' column is of timestamp format (date + time).  \n"
   ]
  },
  {
   "cell_type": "markdown",
   "id": "5be0d7e9-d467-4b12-b81d-9b43e8b4d517",
   "metadata": {
    "jp-MarkdownHeadingCollapsed": true
   },
   "source": [
    "##### Let's get the date part only (remove the time part)"
   ]
  },
  {
   "cell_type": "markdown",
   "id": "919630af-48e5-4286-b021-f59f6b863531",
   "metadata": {},
   "source": [
    "SELECT  \n",
    "   &emsp; job_title_short AS title,  \n",
    "    &emsp;job_location AS location,  \n",
    "    &emsp;job_posted_date __::DATE__ AS date  \n",
    "FROM job_postings_fact  \n",
    "LIMIT 10;  "
   ]
  },
  {
   "cell_type": "markdown",
   "id": "d9c58a1b-9cff-43ce-9672-6f3007bb2f28",
   "metadata": {},
   "source": [
    "#### AT TIME ZONE : converts timestamps between different time zone"
   ]
  },
  {
   "cell_type": "markdown",
   "id": "aea46067-b5da-40e9-ab3e-c05bc7b104a8",
   "metadata": {
    "jp-MarkdownHeadingCollapsed": true
   },
   "source": [
    "##### Add 'CEST' timezone information to job_posting_fact.job_posted_date as date_with_timezone.  \n",
    "Note: the solution is not entirely correct, since some times show up as (original time + 02), others are (original time - 1)+01\n"
   ]
  },
  {
   "cell_type": "markdown",
   "id": "5bd56df5-6b1a-4d86-9776-f006d3375f22",
   "metadata": {},
   "source": [
    "SELECT   \n",
    "    &emsp; job_title_short AS title,  \n",
    "    &emsp;job_location AS location,  \n",
    "    &emsp;job_posted_date __AT TIME ZONE 'CEST'__ AS date_with_timezone  \n",
    "FROM job_postings_fact  \n",
    "LIMIT 10;  "
   ]
  },
  {
   "cell_type": "markdown",
   "id": "91d6164f-32b7-4853-9044-09e35dec5621",
   "metadata": {
    "jp-MarkdownHeadingCollapsed": true
   },
   "source": [
    "##### Show the times as in timezone 'CEST'. So the times should be increased + 2 hours (since it is now July)"
   ]
  },
  {
   "cell_type": "markdown",
   "id": "aadf08e9-0107-4b4f-877e-c98264dbbc15",
   "metadata": {},
   "source": [
    "SELECT   \n",
    "  &emsp;  job_title_short AS title,  \n",
    "   &emsp; job_location AS location,  \n",
    "  &emsp;  job_posted_date,  \n",
    "   &emsp; job_posted_date __AT TIME ZONE 'UTC' AT TIME ZONE 'CEST'__ AS date_with_timezone  \n",
    "FROM job_postings_fact  \n",
    "LIMIT 10;  "
   ]
  },
  {
   "cell_type": "markdown",
   "id": "663dd59e-2679-4c67-b683-24eeccedea6e",
   "metadata": {},
   "source": [
    "#### EXTRACT(<date/time value> FROM table_name): used as a function in SELECT to extract date information (year, month, day, hour, minute, second) from date/time value"
   ]
  },
  {
   "cell_type": "markdown",
   "id": "a93226b7-ba40-4d0e-bc91-9d9442570f89",
   "metadata": {},
   "source": [
    "##### Extract year, month, day, hour, minute, second values from the date column and put them in a separate column"
   ]
  },
  {
   "cell_type": "markdown",
   "id": "f24dbb66-ac4b-43f6-9bf3-11270c9dcb29",
   "metadata": {},
   "source": [
    "SELECT   \n",
    "  &emsp;  job_title_short AS title,  \n",
    "   &emsp; job_location AS location,  \n",
    "   &emsp; job_posted_date,  \n",
    "  &emsp;  EXTRACT(YEAR FROM job_posted_date) AS year,  \n",
    "   &emsp; EXTRACT(MONTH FROM job_posted_date) AS month,  \n",
    "   &emsp; EXTRACT(DAY FROM job_posted_date) AS day,  \n",
    "   &emsp; EXTRACT(HOUR FROM job_posted_date) AS hour,  \n",
    "   &emsp; EXTRACT(MINUTE FROM job_posted_date) AS minute,  \n",
    "   &emsp; EXTRACT(SECOND FROM job_posted_date) AS second  \n",
    "FROM job_postings_fact  \n",
    "LIMIT 10;  "
   ]
  },
  {
   "cell_type": "markdown",
   "id": "8a10e3c8-a54a-40aa-9fea-2fd8519b4ba6",
   "metadata": {
    "jp-MarkdownHeadingCollapsed": true
   },
   "source": [
    "#### Exercise: How many job postings are trending from month to month to Data Analysts only?"
   ]
  },
  {
   "cell_type": "markdown",
   "id": "eadcd281-cbef-4b59-a1e4-161e0d5ba1d1",
   "metadata": {},
   "source": [
    "SELECT   \n",
    "   &emsp; EXTRACT(MONTH FROM job_posted_date) AS month,  \n",
    "   &emsp; COUNT(job_id) AS job_count  \n",
    "FROM job_postings_fact  \n",
    "WHERE job_title_short = 'Data Analyst'  \n",
    "GROUP BY month  \n",
    "ORDER BY job_count  "
   ]
  },
  {
   "cell_type": "markdown",
   "id": "807a12c5-b487-42f2-a6e9-7737c9a2a6f0",
   "metadata": {
    "jp-MarkdownHeadingCollapsed": true
   },
   "source": [
    "#### TO CHAR(): to extract the month name directly instead of EXTRACT(). So it gives back the name of the month instead of the number of the month.  \n",
    "Note: The returning value is padded with spaces (trailing spaces like 'May '). In case the trimmed version is needed then embed the TO CHAR function in TRIM.  \n",
    "Format: SELECT TRIM(TO_CHAR(column_name, 'Month')) AS month_name"
   ]
  },
  {
   "cell_type": "markdown",
   "id": "ca340abc-184c-4598-b368-450cd84a2e03",
   "metadata": {},
   "source": [
    "##### Exercise: Let's refine the exercise above. The values of the months are numbers. Modify the query above to show the name of the month not the relevant order number, so in case on month 5 it should be shown up as May."
   ]
  },
  {
   "cell_type": "markdown",
   "id": "493a1211-d8e5-4aef-8920-da8d32b3cca3",
   "metadata": {},
   "source": [
    "SELECT   \n",
    "   &emsp; TRIM(TO_CHAR(job_posted_date, 'Month')) AS month_name,  \n",
    "   &emsp;COUNT(job_id) AS job_count  \n",
    "FROM job_postings_fact  \n",
    "WHERE job_title_short = 'Data Analyst'  \n",
    "GROUP BY month_name  \n",
    "ORDER BY job_count  "
   ]
  },
  {
   "cell_type": "markdown",
   "id": "be20a828-b8ac-4561-9643-ac48e33db4db",
   "metadata": {},
   "source": [
    "#### Practice Problem 1  \n",
    "  \n",
    "Work in job_posting_fact table. Write a query to find the average salary (rounded to 3 decimal points) both yearly and hourly for jobs that were posted after June 1 , 2023. Group the results by job schedule type."
   ]
  },
  {
   "cell_type": "markdown",
   "id": "40356939-f502-48dd-af74-cfa0e5583757",
   "metadata": {},
   "source": [
    "##### Solution  \n",
    "\n"
   ]
  },
  {
   "cell_type": "markdown",
   "id": "1fee62c6-f8a4-44e8-b075-52428214335d",
   "metadata": {},
   "source": [
    "SELECT   \n",
    "   &emsp; job_schedule_type,  \n",
    "    &emsp; ROUND(AVG(salary_year_avg), 3) AS avg_salary,  \n",
    "    &emsp; ROUND(AVG(salary_hour_avg), 3) AS avg_hourly_salary  \n",
    "FROM job_postings_fact  \n",
    "WHERE job_posted_date >= '2023-06-01'  \n",
    "GROUP BY job_schedule_type;  "
   ]
  },
  {
   "cell_type": "markdown",
   "id": "1dd770f9-1ff6-4a5a-b50c-3de5e2326cc7",
   "metadata": {
    "jp-MarkdownHeadingCollapsed": true
   },
   "source": [
    "#### Practice Problem 2 - First version\n",
    "\n",
    "Write a query to count the number of job postings for each month in 2023, adjusting the job_posted_date to be in'EDT' time zone before extracting the month.  \n",
    "Assume the job_posted_date is stored in UTC. Group by and order by the month.\n",
    "!Here represent the months by their number"
   ]
  },
  {
   "cell_type": "markdown",
   "id": "b8fedaff-5c47-47b7-a33d-4bb72b7eecb3",
   "metadata": {},
   "source": [
    "##### Solution"
   ]
  },
  {
   "cell_type": "markdown",
   "id": "23b470d4-276a-4e54-94e9-5ddf29f71632",
   "metadata": {},
   "source": [
    "SELECT  \n",
    " &emsp;   COUNT(job_id) AS job_count,  \n",
    "  &emsp;  EXTRACT(MONTH FROM job_posted_date AT TIME ZONE 'UTC' AT TIME ZONE 'EDT') AS month\n",
    "FROM job_postings_fact  \n",
    "GROUP BY month  \n",
    "ORDER BY month;  "
   ]
  },
  {
   "cell_type": "markdown",
   "id": "883a91ff-f915-4e81-90b9-171aeab81877",
   "metadata": {
    "jp-MarkdownHeadingCollapsed": true
   },
   "source": [
    "#### Practice Problem 2 - Second version\n",
    "\n",
    "Refine the First version by adding the name of the months as new column. So here we have the number of the months and the name of the months."
   ]
  },
  {
   "cell_type": "markdown",
   "id": "5772a9a1-a5c0-4cb9-8c75-be9d43f4e20d",
   "metadata": {},
   "source": [
    "SELECT  \n",
    "  &emsp;  COUNT(job_id) AS job_count,  \n",
    "  &emsp; TRIM(TO_CHAR(job_posted_date AT TIME ZONE 'UTC' AT TIME ZONE 'EDT', 'Month')) AS month_name,  \n",
    "  &emsp;  EXTRACT(MONTH FROM job_posted_date AT TIME ZONE 'UTC' AT TIME ZONE 'EDT') AS month_number  \n",
    "FROM job_postings_fact  \n",
    "GROUP BY month_name, month_number  \n",
    "ORDER BY month_number;  "
   ]
  },
  {
   "cell_type": "markdown",
   "id": "958ed1e9-7bf7-4a26-a7df-45a860d505f1",
   "metadata": {
    "jp-MarkdownHeadingCollapsed": true
   },
   "source": [
    "#### Practice Problem 2 - Third version\n",
    "\n",
    "Refine the Second version. The Second version is not quite good since the number of months column seems to be superfluous and the ordering is alphabetical.  \n",
    "Fix it by removing the number of months column and make the ordering by the order of the months they appear in the calendar (= month number)."
   ]
  },
  {
   "cell_type": "markdown",
   "id": "d39dba42-8f01-4ccc-a5ef-1bd2fe8bb93a",
   "metadata": {},
   "source": [
    "SELECT  \n",
    "   &emsp; COUNT(job_id) AS job_count,  \n",
    "   &emsp; TRIM(TO_CHAR(job_posted_date AT TIME ZONE 'UTC' AT TIME ZONE 'EDT', 'Month')) AS month_name  \n",
    "FROM job_postings_fact  \n",
    "GROUP BY month_name, EXTRACT(MONTH FROM job_posted_date AT TIME ZONE 'UTC' AT TIME ZONE 'EDT')  \n",
    "ORDER BY EXTRACT(MONTH FROM job_posted_date AT TIME ZONE 'UTC' AT TIME ZONE 'EDT');  "
   ]
  },
  {
   "cell_type": "markdown",
   "id": "10710649-fad9-4985-ac4e-5576299a0f8c",
   "metadata": {
    "jp-MarkdownHeadingCollapsed": true
   },
   "source": [
    "#### Practice Problem 3  \n",
    "\n",
    "Write a query to find companies (include company name) that have posted jobs offering health insurance,  \n",
    "where these postings were made in the second quarter of 2023. Use data extraction to filter by quarter."
   ]
  },
  {
   "cell_type": "markdown",
   "id": "8f402731-e5af-4d37-8b4a-f6d8ecd247c8",
   "metadata": {},
   "source": [
    "##### Solution\n"
   ]
  },
  {
   "cell_type": "markdown",
   "id": "4528c8fe-be3f-465f-af48-3ef0e2c485c8",
   "metadata": {},
   "source": [
    "SELECT DISTINCT  \n",
    "   &emsp; name AS company_name  \n",
    "FROM company_dim  \n",
    "LEFT JOIN job_postings_fact  \n",
    "ON job_postings_fact.company_id = company_dim.company_id  \n",
    "WHERE job_health_insurance = TRUE AND  \n",
    "      job_posted_date >= '2023-07-01'; "
   ]
  },
  {
   "cell_type": "markdown",
   "id": "438152b3-c223-4fe4-95a5-721bc5db93de",
   "metadata": {
    "jp-MarkdownHeadingCollapsed": true
   },
   "source": [
    "#### Practice Problem 6  \n",
    "\n",
    "Create 3 tables where the job posted date is from the appropriate month:  \n",
    "- Jan 2023 Jobs\n",
    "- Feb 2023 Jobs\n",
    "- Mar 2023 Jobs"
   ]
  },
  {
   "cell_type": "markdown",
   "id": "720ce64e-7e3d-4634-bd4c-8048b9a3c672",
   "metadata": {
    "jp-MarkdownHeadingCollapsed": true
   },
   "source": [
    "##### Solution  \n"
   ]
  },
  {
   "cell_type": "markdown",
   "id": "1b0e839a-a344-44bc-9705-6f2586d4e175",
   "metadata": {},
   "source": [
    "CREATE TABLE jobs_2023_jan AS  \n",
    "&emsp; SELECT *  \n",
    "&emsp; FROM job_postings_fact  \n",
    "&emsp; WHERE EXTRACT(MONTH FROM job_posted_date) = 1;  "
   ]
  },
  {
   "cell_type": "markdown",
   "id": "88a8f21a-9d36-4989-94c6-38c4e789e128",
   "metadata": {},
   "source": [
    "CREATE TABLE jobs_2023_feb AS  \n",
    "&emsp; SELECT *  \n",
    "&emsp; FROM job_postings_fact  \n",
    "&emsp; WHERE job_posted_date >= '2023-02-01' AND job_posted_date < '2023-03-01';  "
   ]
  },
  {
   "cell_type": "markdown",
   "id": "19e29cd7-e616-422c-9302-b7ba5ac4cdd7",
   "metadata": {},
   "source": [
    "CREATE TABLE jobs_2023_mar AS  \n",
    "&emsp; SELECT *  \n",
    "&emsp; FROM job_postings_fact  \n",
    "&emsp; WHERE EXTRACT(MONTH FROM job_posted_date) = 3;  "
   ]
  },
  {
   "cell_type": "markdown",
   "id": "b8ee59b9-077e-4bb8-9b8f-37ae88a80755",
   "metadata": {},
   "source": [
    "## Case Expressions: A way to apply conditional logic within your SQL queries."
   ]
  },
  {
   "cell_type": "markdown",
   "id": "ea799138-cf35-48e2-903e-3c7adc927986",
   "metadata": {},
   "source": [
    "Similar to IF statement in Python. Commonly used in a SELECT statement but can be also in others,too like WHERE or GROUP BY.  \n",
    "Format:  \n",
    "SELECT  \n",
    "&emsp; CASE  \n",
    "&emsp;&emsp; WHEN column_name = 'Value1' THEN 'Description for Value1'  \n",
    "&emsp;&emsp; WHEN column_name = 'Value2' THEN 'Description for Value2'  \n",
    "&emsp;&emsp; ELSE 'Other'  -- Optional  \n",
    "&emsp;END AS column_description  \n",
    "FROM  \n",
    "&emsp;table_name;"
   ]
  },
  {
   "cell_type": "markdown",
   "id": "81bbd012-8aa0-4168-a2a4-64cd71556d28",
   "metadata": {},
   "source": [
    "#### Exercise: Create a new column(location category) in job_posting_fact where the value in each row depends on some criteria as per follows:  \n",
    "  \n",
    "- In case the job_location is 'Anywhere', then be the value 'Remote'\n",
    "- In case the job_location is 'New York, NY', then be the value 'Local'\n",
    "- In every other case the value is 'Onsite"
   ]
  },
  {
   "cell_type": "markdown",
   "id": "ae1576cc-b04c-4570-9288-099aa454e5fe",
   "metadata": {},
   "source": [
    "##### Solution  \n",
    "\n",
    "SELECT   \n",
    "  &emsp;  job_title_short,  \n",
    "  &emsp;  job_location,  \n",
    "  &emsp;  CASE  \n",
    "  &emsp;&emsp;      WHEN job_location = 'Anywhere' THEN 'Remote'  \n",
    "  &emsp;&emsp;     WHEN job_location = 'New York, NY' THEN 'Local'  \n",
    "  &emsp;&emsp;     ELSE 'Onsite'  \n",
    "  &emsp;&emsp;     END AS location_category  \n",
    "FROM job_postings_fact;  "
   ]
  },
  {
   "cell_type": "markdown",
   "id": "bd0c923b-5d54-40f1-9b5c-e795b3b6b182",
   "metadata": {},
   "source": [
    "#### Exercise: Refine the previous exercise. How many Data Analyst jobs are there for 'Remote', 'Local' and 'Onsite'?"
   ]
  },
  {
   "cell_type": "markdown",
   "id": "c88f4cb9-c6cd-4040-bbd9-08a579f41cf1",
   "metadata": {},
   "source": [
    "SELECT   \n",
    "   &emsp; CASE  \n",
    "   &emsp;&emsp;     WHEN job_location = 'Anywhere' THEN 'Remote'  \n",
    "   &emsp;&emsp;     WHEN job_location = 'New York, NY' THEN 'Local'  \n",
    "   &emsp;&emsp;    ELSE 'Onsite'  \n",
    "   &emsp;&emsp;     END AS location_category,  \n",
    "    &emsp;COUNT(job_id) AS job_count  \n",
    "FROM job_postings_fact  \n",
    "WHERE  \n",
    "    &emsp;job_title_short = 'Data Analyst'  \n",
    "GROUP BY location_category;  \n"
   ]
  },
  {
   "cell_type": "markdown",
   "id": "73a3fd80-5e45-47fb-b932-10261be6ed28",
   "metadata": {},
   "source": [
    "#### Practice Problem 1  "
   ]
  },
  {
   "cell_type": "markdown",
   "id": "d9ae7312-64bb-436c-b19e-56b1382fab98",
   "metadata": {},
   "source": [
    "Categorize the salaries from each job posting. To see if it fits in my desired salary range.\n",
    "- Put salary into different buckets\n",
    "- Define what is a high, standard or low salary with our own conditions: -50.000: Low, 50.000-120.000 Medium, 120.000- High.\n",
    "- Why? It is easy to determine which job postings are worth looking at based on salary. Bucketing is a common practice in data analysis when viewing categories.\n",
    "- I only want to look at Data Analyst roles and when the yearly salary is filled.\n",
    "- Order from highest to lowest.\n",
    "- Represent the job, the location and the salary_year_avg, too."
   ]
  },
  {
   "cell_type": "markdown",
   "id": "d82c8824-b280-453a-a544-708815d996d0",
   "metadata": {},
   "source": [
    "##### Solution"
   ]
  },
  {
   "cell_type": "markdown",
   "id": "3bf9ba0e-c44b-484e-9a8f-8191a1f2218e",
   "metadata": {},
   "source": [
    "SELECT   \n",
    "  &emsp;   job_title_short,  \n",
    "  &emsp;  job_location,  \n",
    "  &emsp;  salary_year_avg,  \n",
    "  &emsp;  CASE  \n",
    "  &emsp;&emsp;      WHEN salary_year_avg < 50000 THEN 'Low'  \n",
    "  &emsp;&emsp;      WHEN salary_year_avg BETWEEN 50000 AND 120000 THEN 'Medium'  \n",
    "  &emsp;&emsp;      WHEN salary_year_avg > 120000 THEN 'High'  \n",
    "  &emsp;&emsp;      ELSE 'Unknown'  \n",
    "  &emsp;  END AS salary_category  \n",
    "FROM job_postings_fact  \n",
    "WHERE   \n",
    "  &emsp;  salary_year_avg IS NOT NULL AND  \n",
    "  &emsp;   job_title_short = 'Data Analyst'  \n",
    "ORDER BY salary_year_avg DESC  "
   ]
  },
  {
   "cell_type": "markdown",
   "id": "87f71c0c-abf3-4571-b17a-12c7c0100170",
   "metadata": {},
   "source": [
    "## Subqueries and Common Table Expressions(CTEs)"
   ]
  },
  {
   "cell_type": "markdown",
   "id": "62e0bdbd-1d4d-43cc-864d-ae65a67ee8a2",
   "metadata": {},
   "source": [
    "Used for organizing and simplying complex queries.   \n",
    "The conceps behind them is to create 'temporary result sets' inside the SQL query that we are performing and then perform and then analysis on this temporary result set.  \n",
    "\n",
    "- Helps break down the query into smaller, more manageable parts\n",
    "\n",
    "When to use one over the other?\n",
    "- Subqueries are for simpler queries. Nested inside a larger query. __Use it when performance is critical__. It can be used in SELECT, FROM and WHERE clauses.\n",
    "- __Can only be used within the same outer query where it is defined, cannot be used across multiple queries.__  \n",
    "- CTEs are for more complex queries. Use it when recursion is needed.\n"
   ]
  },
  {
   "cell_type": "markdown",
   "id": "719ebb3b-00e0-4f4a-98d7-6ac57a9bd956",
   "metadata": {},
   "source": [
    "#### Subqueries"
   ]
  },
  {
   "cell_type": "markdown",
   "id": "449e40c7-610f-41f9-a06a-892f467cef16",
   "metadata": {},
   "source": [
    "The result is not stored, only for viewing. For simpler queries. Nested inside a larger query. It can be used in SELECT, FROM, WHERE, HAVING and JOIN clauses.  \n",
    "  \n",
    "We have created previously a new table on job_postings posted on January, February and March.  \n",
    "In case we do not need a new table on them only just to show the results on the screen by a query, then we can use a subquery.  "
   ]
  },
  {
   "cell_type": "markdown",
   "id": "39a85e2b-3166-49c0-b676-dd6fa825488c",
   "metadata": {},
   "source": [
    "##### Exercise 1: Create a 'temporary table/temporary result set' for viewing to get the jobs posted on January from job_postings_fact. Order it by the date."
   ]
  },
  {
   "cell_type": "markdown",
   "id": "df2e38c9-3086-4aa6-96e3-14f95986f9ea",
   "metadata": {},
   "source": [
    "###### Solution #1"
   ]
  },
  {
   "cell_type": "markdown",
   "id": "3f8ef472-df78-4c7d-afbd-ee8e006a2e85",
   "metadata": {},
   "source": [
    "SELECT *  \n",
    "FROM   \n",
    "  &emsp;  (  \n",
    "   &emsp;     SELECT *  \n",
    "    &emsp;    FROM job_postings_fact  \n",
    "   &emsp;     WHERE EXTRACT(MONTH FROM job_posted_date) = 1  \n",
    " &emsp;   )  \n",
    " &emsp;   AS january_jobs  \n",
    "ORDER BY january_jobs.job_posted_date;  "
   ]
  },
  {
   "cell_type": "markdown",
   "id": "8f9754ec-38bd-4f97-ba9c-c4546fb24064",
   "metadata": {},
   "source": [
    "###### Solution #2"
   ]
  },
  {
   "cell_type": "markdown",
   "id": "24138e92-dac9-4b1b-983c-07ab999bd1e1",
   "metadata": {},
   "source": [
    "SELECT *  \n",
    "FROM   \n",
    "  &emsp;  (  \n",
    "   &emsp;     SELECT *  \n",
    "    &emsp;    FROM job_postings_fact  \n",
    "   &emsp;     WHERE job_posted_date >= '2023-01-01' AND job_posted_date < '2023-02-01'    \n",
    " &emsp;   )  \n",
    " &emsp;   AS january_jobs  \n",
    "ORDER BY january_jobs.job_posted_date;  "
   ]
  },
  {
   "cell_type": "markdown",
   "id": "dbf19c0b-c023-40de-b709-b327c5df20fc",
   "metadata": {},
   "source": [
    "###### Solution #3"
   ]
  },
  {
   "cell_type": "markdown",
   "id": "5ceb97ba-9fa1-481e-8512-605589888fa6",
   "metadata": {},
   "source": [
    "SELECT *  \n",
    "FROM   \n",
    "  &emsp;  (  \n",
    "   &emsp;     SELECT *  \n",
    "    &emsp;    FROM job_postings_fact  \n",
    "   &emsp;     WHERE TRIM(TO_CHAR(job_posted_date, 'Month')) = 'January'    \n",
    " &emsp;   )  \n",
    " &emsp;   AS january_jobs  \n",
    "ORDER BY january_jobs.job_posted_date;  "
   ]
  },
  {
   "cell_type": "markdown",
   "id": "ad806503-2ca1-44e2-afce-63ee8829bd8a",
   "metadata": {
    "jp-MarkdownHeadingCollapsed": true
   },
   "source": [
    "#### Exercise 2: Create a subquery to list all the companies that posted jobs in January. Count the jobs posted in January for every company, too. Which company offers the most jobs?"
   ]
  },
  {
   "cell_type": "markdown",
   "id": "07119310-d9c5-4c5c-8d46-e492f6c2bcc7",
   "metadata": {},
   "source": [
    "SELECT   \n",
    "  &emsp;  company_dim.name AS company_name,  \n",
    "   &emsp; january_jobs.jan_postings  \n",
    "FROM   \n",
    "&emsp;(  \n",
    "   &emsp; SELECT company_id, COUNT(*) AS jan_postings  \n",
    "   &emsp; FROM job_postings_fact  \n",
    "   &emsp; WHERE EXTRACT(MONTH FROM job_posted_date) = 1  \n",
    "   &emsp; GROUP BY company_id  \n",
    "&emsp;)   \n",
    "&emsp;AS january_jobs  \n",
    "JOIN company_dim ON company_dim.company_id = january_jobs.company_id  \n",
    "ORDER BY january_jobs.jan_postings DESC;  "
   ]
  },
  {
   "cell_type": "markdown",
   "id": "76515342-aa17-42af-9884-366763b44614",
   "metadata": {
    "jp-MarkdownHeadingCollapsed": true
   },
   "source": [
    "#### Exercise 3: Get a list of companies that are offering jobs that do not have any requirements for a degree¶."
   ]
  },
  {
   "cell_type": "markdown",
   "id": "c7501599-a568-4079-aa9e-0de6f4989d84",
   "metadata": {},
   "source": [
    "##### Solution # 1"
   ]
  },
  {
   "cell_type": "markdown",
   "id": "37e2eb95-abfb-4321-a722-bf4c7db03b71",
   "metadata": {},
   "source": [
    "SELECT  \n",
    "   &emsp; company_dim.name AS company_name  \n",
    "FROM company_dim  \n",
    "WHERE company_dim.company_id IN (  \n",
    "   &emsp;  SELECT company_id  \n",
    "    &emsp; FROM job_postings_fact  \n",
    "    &emsp; WHERE job_no_degree_mention = TRUE  \n",
    ");  "
   ]
  },
  {
   "cell_type": "markdown",
   "id": "2c98406d-bb7f-44cb-b949-31ea22f19ff0",
   "metadata": {},
   "source": [
    "##### Solution # 2. The same as # 1 above, but more complicated and possible consumes more resources"
   ]
  },
  {
   "cell_type": "markdown",
   "id": "dfecb603-6f3a-40bb-bbfc-69de36248e8e",
   "metadata": {},
   "source": [
    "SELECT  \n",
    "&emsp;    name AS company_name   \n",
    "FROM (  \n",
    "&emsp;     SELECT DISTINCT  \n",
    " &emsp; &emsp;        company_id,  \n",
    " &emsp; &emsp;        job_postings_fact.job_no_degree_mention  \n",
    " &emsp;    FROM job_postings_fact  \n",
    " &emsp;    WHERE  \n",
    " &emsp; &emsp;        job_postings_fact.job_no_degree_mention IS TRUE  \n",
    " &emsp;    GROUP BY job_postings_fact.company_id, job_postings_fact.job_no_degree_mention  \n",
    "    )  \n",
    "AS no_degree_companies  \n",
    "JOIN company_dim ON no_degree_companies.company_id = company_dim.company_id  \n",
    "ORDER BY company_name  \n",
    ";  "
   ]
  },
  {
   "cell_type": "markdown",
   "id": "696e9168-bdd4-4b90-ae56-1e093f00cb3a",
   "metadata": {},
   "source": [
    "#### Exercise # 4"
   ]
  },
  {
   "cell_type": "markdown",
   "id": "b86e434f-84ca-40f3-b295-f906ff044044",
   "metadata": {},
   "source": [
    "- Select the jobs posted in January and count them. Group it by company id. This is the subquery.\n",
    "- Join the company_dim table and show the name of the company and how many jobs are posted.\n",
    "- Order by count"
   ]
  },
  {
   "cell_type": "markdown",
   "id": "657df15f-6e3d-4394-996e-c1b0adc8bd59",
   "metadata": {},
   "source": [
    "##### Solution"
   ]
  },
  {
   "cell_type": "markdown",
   "id": "0817b902-5af9-4d6b-be46-d2a0d5d1103a",
   "metadata": {},
   "source": [
    "SELECT   \n",
    "   &emsp; company_dim.name AS company_name,  \n",
    "   &emsp; january_jobs.jan_postings  \n",
    "FROM   \n",
    "    &emsp;(  \n",
    "   &emsp; SELECT company_id,   \n",
    "   &emsp; COUNT(job_postings_fact.job_id) AS jan_postings  \n",
    "   &emsp; FROM job_postings_fact  \n",
    "  &emsp;  WHERE EXTRACT(MONTH FROM job_posted_date) = 1  \n",
    "   &emsp; GROUP BY company_id  \n",
    "    &emsp;)   \n",
    "    &emsp;AS january_jobs  \n",
    "JOIN company_dim ON company_dim.company_id = january_jobs.company_id   \n",
    "ORDER BY january_jobs.jan_postings DESC;"
   ]
  },
  {
   "cell_type": "markdown",
   "id": "3768b949-b1c3-452c-aa29-536985d66324",
   "metadata": {},
   "source": [
    "### CTEs"
   ]
  },
  {
   "cell_type": "markdown",
   "id": "8137945d-5b1d-44f0-9160-21dca80e9482",
   "metadata": {},
   "source": [
    "Define a temporary result set that you can reference. Can be used within SELECT, INSERT, UPDATE or DELETE.  \n",
    "Defined with WITH 'name'...AS 'CTE definition' at the beginning of a query."
   ]
  },
  {
   "cell_type": "markdown",
   "id": "d67331d1-65f0-4648-8b1a-cdda83191a34",
   "metadata": {
    "jp-MarkdownHeadingCollapsed": true
   },
   "source": [
    "#### Exercise 4: The same as exercise 1: Create a CTE for viewing to get the jobs posted on January. Order it by the date."
   ]
  },
  {
   "cell_type": "markdown",
   "id": "0cd5b986-10c5-4b5e-8510-826f407d1d07",
   "metadata": {},
   "source": [
    "###### Solution"
   ]
  },
  {
   "cell_type": "markdown",
   "id": "166ce164-18d3-42ca-9943-23e2c9511bc5",
   "metadata": {},
   "source": [
    "- First do the CTE; name it: Select the jobs posted in January  \n",
    "- Finish the query; refer to the CTE"
   ]
  },
  {
   "cell_type": "markdown",
   "id": "2d300481-2ac2-4f26-ac20-952fe6aa4b21",
   "metadata": {},
   "source": [
    "WITH january_jobs AS   \n",
    "  &emsp;  (  \n",
    "   &emsp; SELECT *  \n",
    "   &emsp; FROM job_postings_fact  \n",
    "   &emsp; WHERE EXTRACT(MONTH FROM job_posted_date) = 1  \n",
    "  &emsp;  )  \n",
    "\n",
    "SELECT *  \n",
    "FROM january_jobs  \n",
    "ORDER BY job_posted_date;  "
   ]
  },
  {
   "cell_type": "markdown",
   "id": "0d2bf8b4-3ad1-4695-8f08-9314cb89cc96",
   "metadata": {
    "jp-MarkdownHeadingCollapsed": true
   },
   "source": [
    "#### Exercise 5. Same as Exercise 3 but with CTE: get a list of companies that are offering jobs that do not have any requirements for a degree¶"
   ]
  },
  {
   "cell_type": "markdown",
   "id": "19a3c428-2f03-48a8-b067-401ed1863782",
   "metadata": {},
   "source": [
    "##### Solution"
   ]
  },
  {
   "cell_type": "markdown",
   "id": "1e353f46-8dd3-4028-8673-12dd7ada9be0",
   "metadata": {},
   "source": [
    "- Pick all the company ids which do not require a degree and put it to a temporary result set. Name that set.\n",
    "- Stick together that new temp table and company dim and get the company names."
   ]
  },
  {
   "cell_type": "markdown",
   "id": "27f1e08b-937d-44ef-b9a0-bd2a025c20f4",
   "metadata": {},
   "source": [
    "WITH no_degree_jobs AS  \n",
    " &emsp;   (  \n",
    " &emsp;   SELECT company_id  \n",
    "  &emsp;  FROM job_postings_fact  \n",
    "  &emsp;  WHERE job_no_degree_mention = TRUE  \n",
    "    )  \n",
    "\n",
    "SELECT  \n",
    "  &emsp;  company_dim.name AS company_name  \n",
    "FROM no_degree_jobs  \n",
    "LEFT JOIN company_dim  \n",
    " &emsp;  ON no_degree_jobs.company_id = company_dim.company_id;  "
   ]
  },
  {
   "cell_type": "markdown",
   "id": "24dcf867-7d97-4358-8211-8cfcfb7fd4d9",
   "metadata": {},
   "source": [
    "#### Exercise 6. Find the companies that have the most job openings."
   ]
  },
  {
   "cell_type": "markdown",
   "id": "e5c8c093-ca16-4b6c-aa88-bbe09f3c6d48",
   "metadata": {},
   "source": [
    "##### Solution"
   ]
  },
  {
   "cell_type": "markdown",
   "id": "9d720f6a-df5e-4422-9c30-5eec2579b130",
   "metadata": {},
   "source": [
    "WITH count_job_postings AS  \n",
    "  &emsp;  (  \n",
    "  &emsp;  SELECT  \n",
    "  &emsp;  company_id,  \n",
    "  &emsp;  COUNT(*) AS job_count -- counts every row  \n",
    "FROM job_postings_fact  \n",
    "GROUP BY company_id  \n",
    " &emsp;   )  \n",
    "  \n",
    "SELECT  \n",
    "  &emsp;  company_dim.name AS company_name,  \n",
    "  &emsp;  count_job_postings.job_count  \n",
    "FROM company_dim  \n",
    "LEFT JOIN count_job_postings ON company_dim.company_id = count_job_postings.company_id  \n",
    "ORDER BY count_job_postings.job_count DESC;  "
   ]
  },
  {
   "cell_type": "markdown",
   "id": "191afc7e-7acc-491f-9701-ff7f0b1818f5",
   "metadata": {
    "jp-MarkdownHeadingCollapsed": true
   },
   "source": [
    "#### Practice Problem 1: Identify the top 5 skills that are most frequently mentioned in job postings."
   ]
  },
  {
   "cell_type": "markdown",
   "id": "cd11da8c-45c9-4286-a6e6-f9ffe26957c9",
   "metadata": {},
   "source": [
    "##### Solution"
   ]
  },
  {
   "cell_type": "markdown",
   "id": "b12b64cf-0960-409b-93a5-5359a2a76adc",
   "metadata": {},
   "source": [
    "job_id, skill_id(skills_job_dim)->skill_id, skills(skills_dim)"
   ]
  },
  {
   "cell_type": "markdown",
   "id": "4ba12862-b6d9-4015-9641-9024c2a21e77",
   "metadata": {},
   "source": [
    "###### With subquery"
   ]
  },
  {
   "cell_type": "markdown",
   "id": "5d081004-2bf5-48b2-b304-cd7c4c6bf1e4",
   "metadata": {},
   "source": [
    "SELECT  \n",
    "  &emsp;  sd.skill_id,  \n",
    "  &emsp;  sd.skills,  \n",
    "   &emsp; top_skills.skill_count  \n",
    "FROM   \n",
    "  &emsp;  (  \n",
    "  &emsp;  SELECT  \n",
    "  &emsp;&emsp;      skill_id,  \n",
    "  &emsp;&emsp;      COUNT(*) AS skill_count  \n",
    "  &emsp;  FROM skills_job_dim  \n",
    "  &emsp;  GROUP BY skill_id  \n",
    "  &emsp;  ORDER BY skill_count DESC  \n",
    "  &emsp;  LIMIT 5  \n",
    "  &emsp;  )  \n",
    "  &emsp;  AS top_skills  \n",
    "JOIN skills_dim sd ON top_skills.skill_id = sd.skill_id  \n",
    "ORDER BY skill_count DESC   \n",
    ";"
   ]
  },
  {
   "cell_type": "markdown",
   "id": "83990f5c-7541-42e4-8397-2596b18f5481",
   "metadata": {},
   "source": [
    "###### With CTE"
   ]
  },
  {
   "cell_type": "markdown",
   "id": "9d178662-5d99-4a11-835c-82ad29cf4556",
   "metadata": {},
   "source": [
    "WITH top_skills AS  \n",
    "  &emsp;  (  \n",
    "   &emsp; SELECT skill_id,   \n",
    "   &emsp; COUNT(*) AS skill_count  \n",
    "   &emsp; FROM skills_job_dim  \n",
    "   &emsp;  GROUP BY skill_id  \n",
    "   &emsp;  ORDER BY skill_count DESC  \n",
    "   &emsp;  LIMIT 5   \n",
    "  &emsp;  )  \n",
    "SELECT   \n",
    "    &emsp; top_skills.skill_id,  \n",
    "  &emsp;  skills_dim.skills,  \n",
    "  &emsp;  top_skills.skill_count  \n",
    "FROM skills_dim  \n",
    "LEFT JOIN top_skills ON skills_dim.skill_id = top_skills.skill_id  \n",
    "ORDER BY top_skills.skill_count DESC  \n",
    ";  "
   ]
  },
  {
   "cell_type": "markdown",
   "id": "f46a0da1-91cf-4025-9789-5b48df363f86",
   "metadata": {},
   "source": [
    "#### Practice Problem 2"
   ]
  },
  {
   "cell_type": "markdown",
   "id": "79080efb-87ed-466a-ac74-7b8f26ad854a",
   "metadata": {},
   "source": [
    "Determine the size category('Small', 'Medium', 'Large') for each company by first identifyig the number of job postings they have.  \n",
    "A company is considered 'Small' if it has less than 10 job postings, 'Medium' if the number of job postings is between 10 and 50,  \n",
    "and 'Large' if it has more than 50 job postings."
   ]
  },
  {
   "cell_type": "markdown",
   "id": "6d93aaa7-bdf5-48d0-b7ad-4ee6d09bcfd1",
   "metadata": {
    "jp-MarkdownHeadingCollapsed": true
   },
   "source": [
    "##### Solution # 1 with subqueries(derived table)"
   ]
  },
  {
   "cell_type": "markdown",
   "id": "d935eece-3412-47f0-bd23-ce7dd1c2c0ca",
   "metadata": {},
   "source": [
    "SELECT  \n",
    " &emsp;   company_dim.name AS company_name,  \n",
    "  &emsp;  COALESCE(job_postings.job_count, 0) AS job_count,  \n",
    "  &emsp;  -- COALESCE: Replaces NULL with 0 for companies with no postings  \n",
    "  &emsp;  CASE  \n",
    " &emsp;&emsp;       WHEN COALESCE(job_postings.job_count, 0) < 10 THEN 'Small'   \n",
    " &emsp;&emsp;       WHEN COALESCE(job_postings.job_count, 0) BETWEEN 10 AND 50 THEN 'Medium'  \n",
    " &emsp;&emsp;       WHEN COALESCE(job_postings.job_count, 0) > 50 THEN 'Large'  \n",
    " &emsp;   END AS company_size  \n",
    "FROM company_dim  \n",
    "LEFT JOIN (  \n",
    "&emsp;    SELECT  \n",
    "  &emsp;&emsp;      company_id,  \n",
    " &emsp;&emsp;       COUNT(job_id) AS job_count   \n",
    " &emsp;   FROM job_postings_fact  \n",
    "&emsp;    GROUP BY company_id  \n",
    ") AS job_postings ON company_dim.company_id = job_postings.company_id  \n",
    "ORDER BY job_count DESC;  "
   ]
  },
  {
   "cell_type": "markdown",
   "id": "06aefa49-9a6b-493a-a5cd-d61a1dcf804f",
   "metadata": {},
   "source": [
    "##### Solution # 2 with subqueries(derived table)"
   ]
  },
  {
   "cell_type": "markdown",
   "id": "33ebcd91-bbc9-46b1-a838-dcc498dadb9a",
   "metadata": {},
   "source": [
    "SELECT  \n",
    "&emsp;    company_dim.name AS company_name,  \n",
    " &emsp;    comp_jobs.job_count,  \n",
    " &emsp;    CASE  \n",
    " &emsp; &emsp;        WHEN job_count < 10 THEN 'Small'  \n",
    " &emsp; &emsp;        WHEN job_count BETWEEN 10 AND 50 THEN 'Medium'  \n",
    " &emsp; &emsp;        WHEN job_count > 50 THEN 'Large'  \n",
    " &emsp;    END AS Company_size  \n",
    "FROM(  \n",
    " &emsp;    SELECT   \n",
    " &emsp; &emsp;        job_postings_fact.company_id,  \n",
    " &emsp; &emsp;        COUNT(job_postings_fact.job_id) AS job_count  \n",
    " &emsp;    FROM job_postings_fact  \n",
    " &emsp;    GROUP by company_id  \n",
    ")  \n",
    "AS comp_jobs  \n",
    "JOIN company_dim ON comp_jobs.company_id = company_dim.company_id  \n",
    "ORDER BY comp_jobs.job_count DESC  \n",
    ";  "
   ]
  },
  {
   "cell_type": "markdown",
   "id": "43170c5a-5c9b-4169-b8d9-c6efc6b05d6c",
   "metadata": {},
   "source": [
    "##### Solution # 3 with CTE"
   ]
  },
  {
   "cell_type": "markdown",
   "id": "89246e8f-f060-4b6a-9994-e8686ddf25fa",
   "metadata": {},
   "source": [
    "WITH job_postings AS  \n",
    "  &emsp;  (  \n",
    "   &emsp; SELECT  \n",
    "  &emsp;  company_id,  \n",
    "  &emsp;  COUNT(job_id) AS job_count  \n",
    "  &emsp;  FROM job_postings_fact  \n",
    "  &emsp;  GROUP BY company_id  \n",
    "  &emsp;  )     \n",
    "\n",
    "SELECT  \n",
    "  &emsp;  company_dim.name AS company_name,  \n",
    "  &emsp;  job_postings.job_count,  \n",
    "  &emsp;  CASE  \n",
    "  &emsp;&emsp;      WHEN COALESCE(job_postings.job_count, 0) < 10 THEN 'Small'  \n",
    "   &emsp;&emsp;     WHEN COALESCE(job_postings.job_count, 0) BETWEEN 10 AND 50 THEN 'Medium'  \n",
    "   &emsp;&emsp;     WHEN COALESCE(job_postings.job_count, 0) > 50 THEN 'Large'  \n",
    "   &emsp;&emsp;     ELSE 'Unknown'  \n",
    "  &emsp;  END AS company_size  \n",
    "FROM company_dim  \n",
    "LEFT JOIN job_postings ON company_dim.company_id = job_postings.company_id  \n",
    "ORDER BY job_postings.job_count DESC;  "
   ]
  },
  {
   "cell_type": "markdown",
   "id": "fe143b1d-2c32-4ae0-9a04-7ddddbc4b7a5",
   "metadata": {},
   "source": [
    "#### Practice Problem 7"
   ]
  },
  {
   "cell_type": "markdown",
   "id": "e47bc54d-94b1-4125-bf0e-bc71d9c8b09e",
   "metadata": {
    "jp-MarkdownHeadingCollapsed": true
   },
   "source": [
    "##### Find the count of the number of remote job postings per skill  \n",
    "- Display the top 5 skills by their demand in remote jobs\n",
    "- Include skill ID, name, and count of postings requiring the skill\n",
    "- Only for Data Analysts"
   ]
  },
  {
   "cell_type": "markdown",
   "id": "390338a0-0007-46cb-a038-33c3c5003f56",
   "metadata": {},
   "source": [
    "##### Solution  "
   ]
  },
  {
   "cell_type": "markdown",
   "id": "c892d38f-dcb8-423a-b778-20a66b305cdc",
   "metadata": {},
   "source": [
    "job_postings_fact: job_id -> skills_job_dim: job_id, skill_id -> skills_dim: skill_id, skills  \n",
    "job_postings_fact:job_work_from_home is TRUE-> remote  "
   ]
  },
  {
   "cell_type": "markdown",
   "id": "2301c4cc-bd42-436d-951e-344f4ab6172d",
   "metadata": {},
   "source": [
    "-- by Luke  \n",
    "\n",
    "WITH remote_job_skills AS (  \n",
    " &emsp;   SELECT  \n",
    "  &emsp;      skills_job_dim.skill_id,  \n",
    "  &emsp;      COUNT(*) AS skill_count  \n",
    " &emsp;   FROM  \n",
    "  &emsp; &emsp;     skills_job_dim  \n",
    " &emsp;   INNER JOIN job_postings_fact ON skills_job_dim.job_id = job_postings_fact.job_id  \n",
    " &emsp;   WHERE job_postings_fact.job_work_from_home = TRUE  \n",
    "  &emsp;        AND  \n",
    "  &emsp;&emsp;          job_postings_fact.job_title_short = 'Data Analyst'    \n",
    " &emsp;   GROUP BY skills_job_dim.skill_id  \n",
    ")  \n",
    "  \n",
    "SELECT   \n",
    " &emsp;   skills_dim.skill_id,  \n",
    " &emsp;   skills_dim.skills,  \n",
    " &emsp;   remote_job_skills.skill_count  \n",
    "FROM remote_job_skills  \n",
    "INNER JOIN skills_dim ON remote_job_skills.skill_id = skills_dim.skill_id  \n",
    "ORDER BY remote_job_skills.skill_count DESC  \n",
    "LIMIT 5;  "
   ]
  },
  {
   "cell_type": "markdown",
   "id": "773531f7-b65f-4d5f-b609-2104b22a8e6d",
   "metadata": {},
   "source": [
    "-- by me  \n",
    "\n",
    "WITH jobs_remote AS (  \n",
    "&emsp;    SELECT  \n",
    " &emsp; &emsp;        job_postings_fact.job_id,  \n",
    "  &emsp; &emsp;       job_postings_fact.job_work_from_home  \n",
    " &emsp;    FROM job_postings_fact  \n",
    " &emsp;    WHERE job_postings_fact.job_work_from_home = TRUE  \n",
    " &emsp;    AND  \n",
    "   &emsp;&emsp;           job_postings_fact.job_title_short = 'Data Analyst'\n",
    "),  \n",
    "job_remote_skills_id AS (  \n",
    "&emsp;     SELECT  \n",
    " &emsp; &emsp;        skills_job_dim.job_id,  \n",
    " &emsp; &emsp;        skills_job_dim.skill_id  \n",
    " &emsp;    FROM skills_job_dim  \n",
    " &emsp;    JOIN jobs_remote ON skills_job_dim.job_id = jobs_remote.job_id  \n",
    ")\n",
    "\n",
    "SELECT  \n",
    " &emsp;    skills_dim.skill_id,  \n",
    " &emsp;    skills_dim.skills,  \n",
    " &emsp;    COUNT(skills_dim.skills) AS skill_count  \n",
    "FROM skills_dim  \n",
    "JOIN job_remote_skills_id ON skills_dim.skill_id = job_remote_skills_id.skill_id  \n",
    "GROUP BY skills_dim.skill_id  \n",
    "ORDER BY skill_count DESC  \n",
    "LIMIT 5;  "
   ]
  },
  {
   "cell_type": "markdown",
   "id": "53eb816a-54fc-44ad-8f53-2478325f8c5a",
   "metadata": {},
   "source": [
    "-- Luke's solution optimized by ChatGPT  \n",
    "  \n",
    "WITH remote_job_skills AS (  \n",
    " &emsp;   SELECT  \n",
    "    &emsp;     skills_job_dim.skill_id,  \n",
    "   &emsp;      COUNT(*) AS skill_count  \n",
    "   &emsp;  FROM  \n",
    "  &emsp; &emsp;       job_postings_fact  \n",
    "  &emsp;   INNER JOIN skills_job_dim  \n",
    "  &emsp; &emsp;       ON skills_job_dim.job_id = job_postings_fact.job_id  \n",
    "  &emsp;   WHERE  \n",
    "  &emsp; &emsp;       job_postings_fact.job_work_from_home = TRUE  \n",
    "   &emsp;      AND job_postings_fact.job_title_short = 'Data Analyst'  \n",
    "  &emsp;   GROUP BY  \n",
    "  &emsp; &emsp;       skills_job_dim.skill_id  \n",
    "   &emsp;  ORDER BY  \n",
    "  &emsp; &emsp;       COUNT(*) DESC  \n",
    "  &emsp;   LIMIT 5  -- push limit down early to reduce rows in final join  \n",
    ")  \n",
    "  \n",
    "SELECT   \n",
    "  &emsp;   s.skill_id,  \n",
    "   &emsp;  s.skills,  \n",
    "  &emsp;   r.skill_count  \n",
    "FROM   &emsp;\n",
    "   &emsp;  remote_job_skills r  \n",
    "JOIN  \n",
    "   &emsp;  skills_dim s ON r.skill_id = s.skill_id;    \n",
    "ORDER BY skill_count DESC  \n",
    ";"
   ]
  },
  {
   "cell_type": "code",
   "execution_count": null,
   "id": "a8048da7-06b5-499d-af33-a71f2efb7248",
   "metadata": {},
   "outputs": [],
   "source": []
  },
  {
   "cell_type": "markdown",
   "id": "42332304-d94f-41bf-8e26-23370c20a82a",
   "metadata": {},
   "source": [
    "## Union Operators"
   ]
  },
  {
   "cell_type": "markdown",
   "id": "9f7ea23a-f8ec-4b15-b0db-8fb5485670b1",
   "metadata": {},
   "source": [
    "Combine result sets of two or more SELECT statements into a single result set.  \n",
    "-- UNION: remove duplicate rows  \n",
    "-- UNION ALL: Includes all duplicate rows  \n",
    "!Note: Each SELECT statement within the UNION must have the same number of columns in the result sets with matching data types.  \n",
    "\n",
    "__Essentially unions add rows to the base table, joins add columns.__   \n",
    "__A union makes your results tall, a join makes it wide.__\n",
    "  \n",
    "Lets say you have a table on the weather.  \n",
    "If you already have the columns you want, but have like, 3 months worth of new data with the same structure that you want to append, use a union.  \n",
    "If you want to add new columns that give you more details about the rows you already have, say you have date and heat, but keep humidity and wind speed in a separate table, you'd use a join.  "
   ]
  },
  {
   "cell_type": "markdown",
   "id": "d1081286-cf17-4a19-8faf-e1e7c85309b9",
   "metadata": {},
   "source": [
    "### UNION"
   ]
  },
  {
   "cell_type": "markdown",
   "id": "fa18fbb2-9a93-428d-b73d-1b5022a35a9d",
   "metadata": {},
   "source": [
    "#### Example: We exerted previously the jobs from January, February and March in different tables.  \n",
    "Now put all the job_posting from those tables into a temporary set as per follow:\n",
    "\n",
    "- Show the name of the job, the id of the company, the location of the job, and the date of job postings  \n",
    "- Only for Data Analysts\n",
    "- Order the whole query by the id of the company\n",
    "- The final result should be 56,159\n",
    "\n",
    "\n",
    "SELECT  \n",
    "&emsp;    job_title_short,  \n",
    "&emsp;    company_id,  \n",
    "&emsp;    job_location,  \n",
    "&emsp;    job_posted_date  \n",
    "FROM jobs_2023_jan  \n",
    "WHERE job_title_short = 'Data Analyst'  \n",
    "  \n",
    "UNION  \n",
    "  \n",
    "SELECT  \n",
    "&emsp;    job_title_short,  \n",
    "&emsp;    company_id,  \n",
    "&emsp;    job_location,  \n",
    "&emsp;    job_posted_date  \n",
    "FROM jobs_2023_feb  \n",
    "WHERE job_title_short = 'Data Analyst'  \n",
    "  \n",
    "UNION\n",
    "  \n",
    "SELECT  \n",
    "&emsp;    job_title_short,  \n",
    "&emsp;    company_id,  \n",
    "&emsp;    job_location,  \n",
    "&emsp;    job_posted_date  \n",
    "FROM jobs_2023_mar  \n",
    "WHERE job_title_short = 'Data Analyst'  \n",
    "ORDER BY company_id  \n",
    "\n",
    "  "
   ]
  },
  {
   "cell_type": "markdown",
   "id": "de6318f5-9b9b-4bca-8201-1cb62fb3552e",
   "metadata": {},
   "source": [
    "### UNION ALL"
   ]
  },
  {
   "cell_type": "markdown",
   "id": "382da979-2767-4e72-ba59-829e3cadfffb",
   "metadata": {},
   "source": [
    "Return all rows, even duplicates (unlike UNION)  \n",
    "Luke's personal note: He mostly uses this to combine two tables together in order to get all the data back to make sure everything is looked at.  "
   ]
  },
  {
   "cell_type": "markdown",
   "id": "63dc6700-434b-43a7-a340-22e50806bab9",
   "metadata": {},
   "source": [
    "#### Example: The same as for UNION, but now get all the rows back whether they are duplicate or not.  \n",
    "- The final solution is 56,518, so we have duplicate rows"
   ]
  },
  {
   "cell_type": "markdown",
   "id": "cd1d7b6f-daf8-485f-9192-0f87bad93168",
   "metadata": {},
   "source": [
    "SELECT  \n",
    "&emsp;    job_title_short,  \n",
    "&emsp;    company_id,  \n",
    "&emsp;    job_location,  \n",
    "&emsp;    job_posted_date  \n",
    "FROM jobs_2023_jan  \n",
    "WHERE job_title_short = 'Data Analyst'  \n",
    "  \n",
    "UNION ALL  \n",
    "  \n",
    "SELECT  \n",
    "&emsp;    job_title_short,  \n",
    "&emsp;    company_id,  \n",
    "&emsp;    job_location,  \n",
    "&emsp;    job_posted_date  \n",
    "FROM jobs_2023_feb  \n",
    "WHERE job_title_short = 'Data Analyst'  \n",
    "  \n",
    "UNION ALL  \n",
    "  \n",
    "SELECT  \n",
    "&emsp;    job_title_short,  \n",
    "&emsp;    company_id,  \n",
    "&emsp;    job_location,  \n",
    "&emsp;    job_posted_date  \n",
    "FROM jobs_2023_mar  \n",
    "WHERE job_title_short = 'Data Analyst'  \n",
    "ORDER BY company_id  "
   ]
  },
  {
   "cell_type": "markdown",
   "id": "a86c655c-a1ff-49aa-943c-916d3764c757",
   "metadata": {},
   "source": [
    "### Practice Problem 1"
   ]
  },
  {
   "cell_type": "markdown",
   "id": "8b4ae199-2b7f-476e-b74a-9d81bab58bbf",
   "metadata": {},
   "source": [
    "#### Question:  \n",
    "\n",
    "- Get the corresponding skill and skill type for each job postings using the tables of q1,q2 and q3.\n",
    "- Include those without any skills, too  \n",
    "- Why? Look at the skills and the type for each job in the first quarter that has salary > 70,000$  "
   ]
  },
  {
   "cell_type": "markdown",
   "id": "cd884383-2cbf-48db-a0b6-e401fbdcf537",
   "metadata": {},
   "source": [
    "#### Solution  "
   ]
  },
  {
   "cell_type": "markdown",
   "id": "4ba4d1a9-59ae-4b3f-84fb-ad9279c85275",
   "metadata": {},
   "source": [
    "- Create a CTE first:\n",
    "- Get all the necessary columns from the months tables. Make a filter.\n",
    "- Make a union.\n",
    "- Now you got a CTE, comes now the main part of the query with the joins, using the CTE.\n",
    "- Select all the needed columns for the final result.\n",
    "- Join skills_job_dim to the union, join skills_dim, too."
   ]
  },
  {
   "cell_type": "markdown",
   "id": "49bc025c-feea-4354-bb46-21448cd74a02",
   "metadata": {},
   "source": [
    "WITH all_jobs AS (  \n",
    "&emsp;    SELECT job_id, job_title_short  \n",
    " &emsp;   FROM jobs_2023_jan   \n",
    " &emsp;    WHERE salary_year_avg > 70000  \n",
    " &emsp;    UNION ALL  \n",
    " &emsp;    SELECT job_id, job_title_short FROM jobs_2023_feb   \n",
    " &emsp;    WHERE salary_year_avg > 70000  \n",
    " &emsp;    UNION ALL  \n",
    " &emsp;    SELECT job_id, job_title_short FROM jobs_2023_mar   \n",
    " &emsp;    WHERE salary_year_avg > 70000  \n",
    ")  \n",
    "  \n",
    "SELECT  \n",
    "&emsp;     all_jobs.job_title_short,  \n",
    "&emsp;     skills_dim.skills,  \n",
    "&emsp;    skills_dim.type  \n",
    "FROM all_jobs  \n",
    "LEFT JOIN skills_job_dim ON all_jobs.job_id = skills_job_dim.job_id  \n",
    "LEFT JOIN skills_dim ON skills_job_dim.skill_id = skills_dim.skill_id;  "
   ]
  },
  {
   "cell_type": "markdown",
   "id": "ca9b413f-05ee-412d-8795-fbe5d9487697",
   "metadata": {},
   "source": [
    "### Practice Problem 8\n"
   ]
  },
  {
   "cell_type": "markdown",
   "id": "5235b989-53d4-4369-bb59-975f6f481a37",
   "metadata": {},
   "source": [
    "#### Question:  \n",
    "- Find jobs from the first quarter that have a salary greater than 70.000$\n",
    "- Only for Data Analysts\n",
    "- Show the following columns: job_title, job location, job_via, job posted date, only date, salary year avg\n",
    "- Use the 3 months tables\n",
    "- Sort it by salary desc, in case there are equal salaries, then sort it further by date asc"
   ]
  },
  {
   "cell_type": "markdown",
   "id": "e6ce6121-b1d5-492a-825e-9d077915d59f",
   "metadata": {},
   "source": [
    "#### Solution 1: derived table, not optimized"
   ]
  },
  {
   "cell_type": "markdown",
   "id": "76c80325-4a08-4eb7-8167-548e9bc455d0",
   "metadata": {},
   "source": [
    "SELECT   \n",
    "&emsp;    all_jobs_q1.job_title_short,  \n",
    "&emsp;     all_jobs_q1.job_location,  \n",
    "&emsp;     all_jobs_q1.job_via,  \n",
    "&emsp;     all_jobs_q1.job_posted_date::DATE,  \n",
    "&emsp;     all_jobs_q1.salary_year_avg  \n",
    "FROM (  \n",
    "&emsp;     SELECT *  \n",
    "&emsp;     FROM jobs_2023_jan  \n",
    "&emsp;     UNION ALL  \n",
    "&emsp;     SELECT *  \n",
    "&emsp;     FROM jobs_2023_feb  \n",
    "&emsp;     UNION ALL  \n",
    "&emsp;     SELECT *  \n",
    "&emsp;     FROM jobs_2023_mar  \n",
    ") AS all_jobs_q1  \n",
    "WHERE   \n",
    "&emsp;     all_jobs_q1.salary_year_avg > 70000   \n",
    "&emsp;     AND   \n",
    "&emsp;     all_jobs_q1.job_title_short = 'Data Analyst'  \n",
    "ORDER BY all_jobs_q1.salary_year_avg DESC, job_posted_date ASC;"
   ]
  },
  {
   "cell_type": "markdown",
   "id": "67f7add7-3fe0-4365-9fae-cc64ac9b4978",
   "metadata": {},
   "source": [
    "#### Solution 2: derived table, optimized"
   ]
  },
  {
   "cell_type": "markdown",
   "id": "d7f33a94-cac3-45c5-aa9a-9e3f3c98110c",
   "metadata": {},
   "source": [
    "SELECT   \n",
    "&emsp;    job_title_short,  \n",
    "&emsp;    job_location,  \n",
    "&emsp;    job_via,  \n",
    "&emsp;    job_posted_date::DATE,  \n",
    "&emsp;    salary_year_avg  \n",
    "FROM (  \n",
    "&emsp;    SELECT job_title_short, job_location, job_via, job_posted_date, salary_year_avg  \n",
    "&emsp;    FROM jobs_2023_jan  \n",
    "&emsp;    WHERE salary_year_avg > 70000 AND job_title_short = 'Data Analyst'  \n",
    "  \n",
    "&emsp;    UNION ALL  \n",
    "  \n",
    "&emsp;    SELECT job_title_short, job_location, job_via, job_posted_date, salary_year_avg  \n",
    "&emsp;    FROM jobs_2023_feb  \n",
    "&emsp;    WHERE salary_year_avg > 70000 AND job_title_short = 'Data Analyst'  \n",
    "  \n",
    "&emsp;    UNION ALL  \n",
    "  \n",
    "&emsp;    SELECT job_title_short, job_location, job_via, job_posted_date, salary_year_avg  \n",
    "&emsp;    FROM jobs_2023_mar  \n",
    "&emsp;    WHERE salary_year_avg > 70000 AND job_title_short = 'Data Analyst'  \n",
    ")  \n",
    "ORDER BY salary_year_avg DESC, job_posted_date ASC;   "
   ]
  },
  {
   "cell_type": "markdown",
   "id": "7d8d75bc-b627-495d-96e1-ba83dd8c2687",
   "metadata": {},
   "source": [
    "#### Solution 3: CTE"
   ]
  },
  {
   "cell_type": "markdown",
   "id": "37a3c7cc-46d7-44ed-81ac-c45995845c8a",
   "metadata": {},
   "source": [
    "WITH all_jobs_q1 AS(  \n",
    "&emsp;    SELECT   \n",
    "&emsp;  &emsp;        job_title_short,   \n",
    "&emsp;  &emsp;        job_location,   \n",
    "&emsp;  &emsp;        job_via,   \n",
    "&emsp;  &emsp;        job_posted_date,   \n",
    "&emsp;  &emsp;        salary_year_avg  \n",
    "&emsp;     FROM jobs_2023_jan  \n",
    " &emsp;    WHERE salary_year_avg > 70000  \n",
    "  \n",
    " &emsp;    UNION ALL  \n",
    "  \n",
    " &emsp;    SELECT   \n",
    " &emsp; &emsp;        job_title_short,   \n",
    " &emsp; &emsp;        job_location,   \n",
    " &emsp; &emsp;        job_via,   \n",
    " &emsp; &emsp;        job_posted_date,   \n",
    " &emsp; &emsp;        salary_year_avg  \n",
    " &emsp;    FROM jobs_2023_feb  \n",
    " &emsp;    WHERE salary_year_avg > 70000  \n",
    "  \n",
    " &emsp;    UNION ALL  \n",
    "  \n",
    " &emsp;    SELECT   \n",
    " &emsp; &emsp;        job_title_short,   \n",
    " &emsp; &emsp;        job_location,   \n",
    " &emsp; &emsp;        job_via,   \n",
    " &emsp; &emsp;        job_posted_date,   \n",
    "&emsp; &emsp;         salary_year_avg  \n",
    "&emsp;     FROM jobs_2023_mar  \n",
    " &emsp;    WHERE salary_year_avg > 70000  \n",
    ")  \n",
    "  \n",
    "SELECT   \n",
    "&emsp;     all_jobs_q1.job_title_short,  \n",
    " &emsp;    all_jobs_q1.job_location,  \n",
    " &emsp;    all_jobs_q1.job_via,  \n",
    "&emsp;     all_jobs_q1.job_posted_date::DATE,  \n",
    "&emsp;     CAST(all_jobs_q1.salary_year_avg AS INTEGER) AS salary_year_avg --truncating the decimal part  \n",
    "FROM all_jobs_q1  \n",
    "ORDER BY all_jobs_q1.salary_year_avg DESC;  "
   ]
  },
  {
   "cell_type": "code",
   "execution_count": null,
   "id": "184048c5-d773-4f94-9810-3dfe7104a9ee",
   "metadata": {},
   "outputs": [],
   "source": []
  }
 ],
 "metadata": {
  "kernelspec": {
   "display_name": "Python 3 (ipykernel)",
   "language": "python",
   "name": "python3"
  },
  "language_info": {
   "codemirror_mode": {
    "name": "ipython",
    "version": 3
   },
   "file_extension": ".py",
   "mimetype": "text/x-python",
   "name": "python",
   "nbconvert_exporter": "python",
   "pygments_lexer": "ipython3",
   "version": "3.10.12"
  }
 },
 "nbformat": 4,
 "nbformat_minor": 5
}
