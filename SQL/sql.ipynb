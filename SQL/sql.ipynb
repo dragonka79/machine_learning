{
 "cells": [
  {
   "attachments": {},
   "cell_type": "markdown",
   "id": "58a440c6-3493-4928-bc83-799d78c59907",
   "metadata": {
    "jp-MarkdownHeadingCollapsed": true
   },
   "source": [
    "# Basic information"
   ]
  },
  {
   "cell_type": "markdown",
   "id": "80980d39-96fb-4ec0-95ce-47de890f5b0b",
   "metadata": {},
   "source": [
    "Two types of databases: relational and non-relational\n",
    " - relational databases: include things like tables, very structured data: stores data in row and columns\n",
    " - non-relational: for unstructured data"
   ]
  },
  {
   "cell_type": "markdown",
   "id": "cfb5d61d-ec71-4e6e-9ce6-6c8e239f2b28",
   "metadata": {
    "jupyter": {
     "source_hidden": true
    }
   },
   "source": [
    "### \n",
    "<div style=\"display: flex; gap: 10px;\">\n",
    "  <img src=\"relational.png\" width=\"1200\" height=\"300\"/>\n",
    "  <img src=\"non_relational.png\" width=\"600\" height=\"300\"/>\n",
    "</div>\n",
    "\n",
    "<!-- <div style=\"display: flex; gap: 10px;\">\n",
    "  <img src=\"relational.png\" style=\"width: 50%; height: auto;\"/>\n",
    "  <img src=\"non_relational.png\" style=\"width: 20%; height: auto;\"/>\n",
    "</div>\n",
    " -->"
   ]
  },
  {
   "cell_type": "markdown",
   "id": "106168ad-6cfc-47a4-8f2d-ee1ab800cbca",
   "metadata": {},
   "source": [
    "Fact tables: Contains the core data for business analysis and measure and record business events (e..g job posting)\n",
    "Dimension tables: describe attributes or dimensions of the data (skills, companies). It also supports filtering, grouping and labeling of facts in reports."
   ]
  },
  {
   "cell_type": "markdown",
   "id": "a3ec1be3-d5c4-42b6-ac5a-15b6635494d4",
   "metadata": {},
   "source": [
    "Basic database for SQLite: lukeb.co/sql_jobs_db. <br>\n",
    "Run: CTRL ENTER or \"Run SQL Query\" button on the right.<br>\n",
    "<br>\n",
    "Order to write commands:  \n",
    "SELECT  \n",
    "FROM  \n",
    "WHERE  \n",
    "GROUP BY  \n",
    "HAVING  \n",
    "ORDER BY ... ASC|DESC  \n",
    "LIMIT"
   ]
  },
  {
   "cell_type": "markdown",
   "id": "c7d7a6d5-bcca-49c8-83e5-8f996daa55a6",
   "metadata": {
    "jp-MarkdownHeadingCollapsed": true
   },
   "source": [
    "# Basic Statements and Commands"
   ]
  },
  {
   "attachments": {},
   "cell_type": "markdown",
   "id": "0d1397e3-204b-45c7-8e5e-a525ce0ffd80",
   "metadata": {},
   "source": [
    "## Select all columns"
   ]
  },
  {
   "cell_type": "markdown",
   "id": "00dbc488-db4c-4277-8edc-93b29b6a6c3a",
   "metadata": {},
   "source": [
    "SELECT: identifies the columns (or data) from database  \n",
    "FROM: identifies the table we are connecting to  \n",
    "*: select all the columns  \n",
    "\n",
    "\n",
    "\n",
    "\n",
    "SELECT *  \n",
    "FROM job_posting_fact  \n"
   ]
  },
  {
   "cell_type": "markdown",
   "id": "8a3467ea-d4a7-45c3-b119-bdfea4662888",
   "metadata": {
    "jp-MarkdownHeadingCollapsed": true
   },
   "source": [
    "## Select specific Columns: put the items under each other separating them by a comma for better readability"
   ]
  },
  {
   "cell_type": "markdown",
   "id": "995c0587-6c5f-4dc5-bfda-ba05da5940c9",
   "metadata": {},
   "source": [
    "SELECT  \n",
    "&emsp;company_id,  \n",
    "&emsp;name  \n",
    "FROM  \n",
    "&emsp;company_dim  "
   ]
  },
  {
   "cell_type": "markdown",
   "id": "a5015a9d-78ef-4e0d-ac38-ec8b7ecb5181",
   "metadata": {},
   "source": [
    "There is a better way for that: make a reference to the table:"
   ]
  },
  {
   "cell_type": "markdown",
   "id": "4b65dd41-8511-4ae3-9e92-99e95e7a53b4",
   "metadata": {},
   "source": [
    "SELECT  \n",
    "&emsp;company_dim.company_id,  \n",
    "&emsp;company_dim.name  \n",
    "FROM  \n",
    "&emsp;company_dim  \n"
   ]
  },
  {
   "cell_type": "markdown",
   "id": "9b7fe72e-817d-41e2-a81a-2a5d77bc1c28",
   "metadata": {
    "jp-MarkdownHeadingCollapsed": true
   },
   "source": [
    "## Limitation of the outputs  "
   ]
  },
  {
   "cell_type": "markdown",
   "id": "1d2cf7cc-6f68-42ff-b300-eca67ed3fb9c",
   "metadata": {},
   "source": [
    "SELECT  \n",
    "&emsp; company_dim.company_id,  \n",
    "&emsp; company_dim.name  \n",
    "FROM  \n",
    "&emsp; company_dim  \n",
    "__LIMIT__ 5  "
   ]
  },
  {
   "cell_type": "markdown",
   "id": "8ba3ff0c-a55b-46e7-95c2-d4f2404765bb",
   "metadata": {
    "jp-MarkdownHeadingCollapsed": true
   },
   "source": [
    "## Reading different (dictinct) columns only  "
   ]
  },
  {
   "cell_type": "markdown",
   "id": "3333eda6-3265-4938-b33b-c0cb90a749a0",
   "metadata": {},
   "source": [
    "__SELECT DISTINCT__  \n",
    "&emsp; job_postings_fact.job_title_short  \n",
    "FROM job_postings_fact  "
   ]
  },
  {
   "cell_type": "markdown",
   "id": "704576dd-a176-476b-b013-de5c40f3678a",
   "metadata": {},
   "source": [
    "## Running more different SQL queries: one below the other separated by semicolon  "
   ]
  },
  {
   "cell_type": "markdown",
   "id": "b5b45f34-3ee6-4fc3-809e-f7fe30062c61",
   "metadata": {},
   "source": [
    "SELECT DISTINCT  \n",
    "&emsp; job_postings_fact.job_title_short  \n",
    "FROM job_postings_fact;  \n",
    "\n",
    "SELECT DISTINCT  \n",
    "&emsp; job_postings_fact.salary_year_avg  \n",
    "FROM job_postings_fact;"
   ]
  },
  {
   "cell_type": "markdown",
   "id": "0bd88ae3-4216-4eb4-b6d9-5e5fd49c48a8",
   "metadata": {},
   "source": [
    "!Note, currently with that editor only the last result can be shown. With advanced editor later on the others can also be shown"
   ]
  },
  {
   "cell_type": "markdown",
   "id": "aca3d7b2-d29f-469c-879b-7a314d28672c",
   "metadata": {
    "jp-MarkdownHeadingCollapsed": true
   },
   "source": [
    "## Filter out particular data from the output"
   ]
  },
  {
   "cell_type": "markdown",
   "id": "1105e620-6d72-4867-b56d-98d76ada39f5",
   "metadata": {},
   "source": [
    "!WHERE is put right after FROM and the keyword is put between '' and not \"\"."
   ]
  },
  {
   "cell_type": "markdown",
   "id": "4a940a45-75f2-43c6-9b68-1bbdd9aa224a",
   "metadata": {},
   "source": [
    "  - e.g.:I am interested only in a job title, where it is \"Data Analyst\"\n",
    "\n",
    "SELECT  \n",
    "    &emsp;job_postings_fact.job_title_short,  \n",
    "    &emsp;job_postings_fact.job_location,  \n",
    "    &emsp;job_postings_fact.job_via,  \n",
    "    &emsp;job_postings_fact.salary_year_avg  \n",
    "    \n",
    "FROM  \n",
    "    &emsp;job_postings_fact  \n",
    "__WHERE__  \n",
    "    &emsp;job_title_short = 'Data Analyst'  \n",
    "LIMIT 10  "
   ]
  },
  {
   "cell_type": "markdown",
   "id": "291c3123-1674-48b9-82e3-ae9f187f3b03",
   "metadata": {},
   "source": [
    "  -  e.g.: I am interested in job posts of Data Analysts where the salary is above 90000 per year"
   ]
  },
  {
   "cell_type": "markdown",
   "id": "a6a0842f-4c2e-481e-b5e1-0e686d338a8b",
   "metadata": {},
   "source": [
    "SELECT  \n",
    "    &emsp;job_postings_fact.job_title_short,  \n",
    "    &emsp;job_postings_fact.job_location,  \n",
    "    &emsp;job_postings_fact.job_via,  \n",
    "    &emsp;job_postings_fact.salary_year_avg  \n",
    "    \n",
    "FROM  \n",
    "    &emsp;job_postings_fact  \n",
    "__WHERE__  \n",
    "    &emsp;job_title_short = 'Data Analyst' __AND__ salary_year_avg > 90000  \n",
    "LIMIT 10  "
   ]
  },
  {
   "cell_type": "markdown",
   "id": "01f17a58-2a20-4fb8-b09f-1cc498b9a57a",
   "metadata": {},
   "source": [
    "## Adding comments"
   ]
  },
  {
   "cell_type": "markdown",
   "id": "83cd57fd-e911-461a-9167-06bd8628af79",
   "metadata": {},
   "source": [
    "### Single line comment: --. Comment starts with '--', for strings of one line only, can be put anywhere in the query"
   ]
  },
  {
   "cell_type": "markdown",
   "id": "8b71bf23-0c63-49da-9811-248a76fadc1d",
   "metadata": {},
   "source": [
    "-- query to see relevant data for DAs  \n",
    "SELECT  \n",
    "    &emsp;job_postings_fact.job_title_short,  \n",
    "    &emsp;job_postings_fact.job_location,  \n",
    "    &emsp;job_postings_fact.job_via,  \n",
    "    &emsp;job_postings_fact.salary_year_avg    \n",
    "FROM  \n",
    "    &emsp;job_postings_fact  \n",
    "WHERE  \n",
    "    &emsp;job_title_short = 'Data Analyst' AND salary_year_avg > 90000  \n",
    "LIMIT 10"
   ]
  },
  {
   "cell_type": "markdown",
   "id": "cf9f088d-a2ba-4fe8-907f-62b4e676c67e",
   "metadata": {},
   "source": [
    "### Multi-line comment: E.g. I open a Note section at the beginning of the query why I do that specific query\n",
    "__/*__ multi  \n",
    "line  \n",
    "comment  \n",
    "__*/__"
   ]
  },
  {
   "cell_type": "markdown",
   "id": "1630c526-d0f6-45f8-9c36-fadc19443ef0",
   "metadata": {},
   "source": [
    "## Ordering (sorting)"
   ]
  },
  {
   "cell_type": "markdown",
   "id": "48d97616-41f6-4f49-ae88-b79e2ba80c37",
   "metadata": {
    "jp-MarkdownHeadingCollapsed": true
   },
   "source": [
    "### Sort Ascending, from smallest to largest. ! NULL is the smallest if no values"
   ]
  },
  {
   "cell_type": "markdown",
   "id": "85db7e89-ac60-49fa-a2fb-b71fa2ae3f46",
   "metadata": {},
   "source": [
    "/*  \n",
    "Line 1 for multi-comment  \n",
    "something  \n",
    "Line 3  \n",
    "*/  \n",
    "SELECT  \n",
    "    &emsp;job_postings_fact.job_title_short,  \n",
    "    &emsp;job_postings_fact.job_location,  \n",
    "    &emsp;job_postings_fact.job_via,  \n",
    "    &emsp;job_postings_fact.salary_year_avg    \n",
    "FROM  \n",
    "    &emsp;job_postings_fact  \n",
    "WHERE  \n",
    "    &emsp;job_title_short = 'Data Analyst'AND salary_year_avg > 90000  \n",
    "__ORDER BY__  \n",
    "    &emsp;salary_year_avg  -- you can put here __ASC__, right after the sorting key, but it is not necessary, the default ORDER is ASC  \n",
    "LIMIT 10  "
   ]
  },
  {
   "cell_type": "markdown",
   "id": "f2b2b2ed-937d-44a8-b32e-d2ea41eadc3f",
   "metadata": {},
   "source": [
    "### Sort Descending"
   ]
  },
  {
   "cell_type": "markdown",
   "id": "5924efda-163e-42a4-a95f-5975139e667a",
   "metadata": {},
   "source": [
    "/*  \n",
    "Line 1 for multi-comment  \n",
    "something  \n",
    "Line 3  \n",
    "*/  \n",
    "SELECT  \n",
    "    &emsp;job_postings_fact.job_title_short,  \n",
    "    &emsp;job_postings_fact.job_location,  \n",
    "    &emsp;job_postings_fact.job_via,  \n",
    "    &emsp;job_postings_fact.salary_year_avg    \n",
    "FROM  \n",
    "    &emsp;job_postings_fact  \n",
    "WHERE  \n",
    "    &emsp;job_title_short = 'Data Analyst'AND salary_year_avg > 90000  \n",
    "__ORDER BY__  \n",
    "    &emsp;salary_year_avg __DESC__  \n",
    "LIMIT 10  "
   ]
  },
  {
   "cell_type": "markdown",
   "id": "89ece1e1-d7a8-4ae4-b6f3-a01bcc870a18",
   "metadata": {},
   "source": [
    "# Comparisons"
   ]
  },
  {
   "cell_type": "markdown",
   "id": "f969846b-fe5d-4d82-a2e0-6b45233b80ae",
   "metadata": {},
   "source": [
    "## Notes:"
   ]
  },
  {
   "cell_type": "markdown",
   "id": "32602fb8-aff2-4d73-9dd7-a2de9fd08c6a",
   "metadata": {},
   "source": [
    "Used with WHERE and HAVING clause  \n",
    "Used in conjunction with comparison operators: $=,<>,>,<,<=,>=$  \n",
    "Used in conjunction with logical operators: __AND,OR,BETWEEN,IN__"
   ]
  },
  {
   "cell_type": "markdown",
   "id": "eb222080-f356-4a05-b054-5a2e95d927db",
   "metadata": {
    "jp-MarkdownHeadingCollapsed": true
   },
   "source": [
    "## Comparison operators, e.g.: Not equal: select the job_via via not 'via Ai-Jobs.net'"
   ]
  },
  {
   "cell_type": "markdown",
   "id": "c44aa8b5-e244-4e4d-a712-02f8b3d51a30",
   "metadata": {},
   "source": [
    "### First solution:  \n",
    "SELECT  \n",
    "    &emsp;job_postings_fact.job_id,  \n",
    "    &emsp;job_postings_fact.job_title_short,  \n",
    "    &emsp;job_postings_fact.job_via,  \n",
    "    &emsp;job_postings_fact.salary_year_avg  \n",
    "FROM   \n",
    "    &emsp;job_postings_fact  \n",
    "WHERE  \n",
    "    &emsp;job_postings_fact.job_via <> 'via Ai-Jobs.net'\n"
   ]
  },
  {
   "cell_type": "markdown",
   "id": "5b894aa1-e7c6-46b2-888b-a178726b7f12",
   "metadata": {
    "jp-MarkdownHeadingCollapsed": true
   },
   "source": [
    "### Second solution:  \n",
    "SELECT  \n",
    "    &emsp;job_postings_fact.job_id,  \n",
    "    &emsp;job_postings_fact.job_title_short,  \n",
    "    &emsp;job_postings_fact.job_via,  \n",
    "    &emsp;job_postings_fact.salary_year_avg  \n",
    "FROM   \n",
    "    &emsp;job_postings_fact  \n",
    "WHERE __NOT__  \n",
    "    &emsp;job_postings_fact.job_via = 'via Ai-Jobs.net'"
   ]
  },
  {
   "cell_type": "markdown",
   "id": "73673d78-cbf1-4852-b5a0-75c64ed52c2a",
   "metadata": {},
   "source": [
    "### Note, that double negation works: select the job_via via 'via Ai-Jobs.net'"
   ]
  },
  {
   "cell_type": "markdown",
   "id": "149bd417-0826-4838-82d2-87c1e525a0bc",
   "metadata": {},
   "source": [
    "SELECT  \n",
    "    &emsp;job_postings_fact.job_id,  \n",
    "    &emsp;job_postings_fact.job_title_short,  \n",
    "    &emsp;job_postings_fact.job_via,  \n",
    "    &emsp;job_postings_fact.salary_year_avg  \n",
    "FROM   \n",
    "    &emsp;job_postings_fact  \n",
    "WHERE NOT  \n",
    "    &emsp;job_postings_fact.job_via <> 'via Ai-Jobs.net'"
   ]
  },
  {
   "cell_type": "markdown",
   "id": "18e938c1-d10c-42e1-94d2-603f9cb00c4f",
   "metadata": {
    "jp-MarkdownHeadingCollapsed": true
   },
   "source": [
    "## Logical operators"
   ]
  },
  {
   "cell_type": "markdown",
   "id": "bee99fe0-31b2-46f1-afe7-0997db03859e",
   "metadata": {
    "jp-MarkdownHeadingCollapsed": true
   },
   "source": [
    "### AND: Salary is more than 100000 per year for Data Analysts:  \n",
    "SELECT  \n",
    "    &emsp;job_postings_fact.job_id,  \n",
    "    &emsp;job_postings_fact.job_title_short,  \n",
    "    &emsp;job_postings_fact.job_via,  \n",
    "    &emsp;job_postings_fact.salary_year_avg  \n",
    "FROM   \n",
    "    &emsp;job_postings_fact  \n",
    "WHERE  \n",
    "    &emsp;job_postings_fact.salary_year_avg > 100000  \n",
    "    &emsp;__AND__ job_postings_fact.job_title = 'Data Analyst'  \n",
    "ORDER BY  \n",
    "    &emsp;job_postings_fact.salary_year_avg"
   ]
  },
  {
   "cell_type": "markdown",
   "id": "0691c45f-efcf-40f3-ac39-942f65f3034a",
   "metadata": {},
   "source": [
    "### OR: In case of OR, it is permissive OR ( both conditions are allowed,too).  \n",
    "List the jobs where it is for Data Scientist OR the salary_year_avg > 100000 (so it can be e.g.: Data Scientist with 120000 salary/year)"
   ]
  },
  {
   "cell_type": "markdown",
   "id": "c24cc6e7-b670-4c8e-b48b-1744ac00dd48",
   "metadata": {},
   "source": [
    "SELECT  \n",
    "    &emsp;job_postings_fact.job_id,  \n",
    "    &emsp;job_postings_fact.job_title_short,  \n",
    "    &emsp;job_postings_fact.job_via,  \n",
    "    &emsp;job_postings_fact.salary_year_avg  \n",
    "FROM  \n",
    "    &emsp;job_postings_fact  \n",
    "WHERE  \n",
    "    &emsp;job_postings_fact.job_title_short = 'Data Analyst'  \n",
    "    &emsp;OR job_postings_fact.salary_year_avg > 100000  \n",
    "ORDER BY  \n",
    "    &emsp;job_postings_fact.salary_year_avg"
   ]
  },
  {
   "cell_type": "markdown",
   "id": "269050e9-58b5-4fa4-a032-55dc367b567a",
   "metadata": {},
   "source": [
    "### BETWEEN"
   ]
  },
  {
   "cell_type": "markdown",
   "id": "2661af66-4047-4b67-994a-13f669183067",
   "metadata": {},
   "source": [
    "SELECT  \n",
    "    &emsp;job_postings_fact.job_id,  \n",
    "    &emsp;job_postings_fact.job_title_short,  \n",
    "    &emsp;job_postings_fact.job_via,  \n",
    "    &emsp;job_postings_fact.salary_year_avg  \n",
    "FROM  \n",
    "    &emsp;job_postings_fact  \n",
    "WHERE  \n",
    "    &emsp;job_postings_fact.job_title_short = 'Data Analyst'  \n",
    "    &emsp;OR job_postings_fact.salary_year_avg BETWEEN 60000 AND 90000  \n",
    "ORDER BY  \n",
    "    &emsp;job_postings_fact.salary_year_avg"
   ]
  },
  {
   "cell_type": "markdown",
   "id": "1714da08-2383-47d4-81de-dc27adcc5f7b",
   "metadata": {},
   "source": [
    "### IN: Match not to a condition, but to any condition in a list: IN (cond1, cond2, .., condn)  \n",
    "Job titles of Data Analyst or Data Engineer or Data Scientist:  \n",
    "SELECT  \n",
    "    &emsp;job_postings_fact.job_id,  \n",
    "    &emsp;job_postings_fact.job_title_short,  \n",
    "    &emsp;job_postings_fact.job_via,  \n",
    "    &emsp;job_postings_fact.salary_year_avg  \n",
    "FROM  \n",
    "    &emsp;job_postings_fact  \n",
    "WHERE  \n",
    "    &emsp;job_postings_fact.job_title_short __IN__ ('Data Analyst', 'Data Engineer', 'Data Scientist)  "
   ]
  },
  {
   "cell_type": "code",
   "execution_count": null,
   "id": "e3ba4c6f-d7c3-44ca-965e-96b1c4a640fc",
   "metadata": {},
   "outputs": [],
   "source": []
  }
 ],
 "metadata": {
  "kernelspec": {
   "display_name": "Python 3 (ipykernel)",
   "language": "python",
   "name": "python3"
  },
  "language_info": {
   "codemirror_mode": {
    "name": "ipython",
    "version": 3
   },
   "file_extension": ".py",
   "mimetype": "text/x-python",
   "name": "python",
   "nbconvert_exporter": "python",
   "pygments_lexer": "ipython3",
   "version": "3.10.12"
  }
 },
 "nbformat": 4,
 "nbformat_minor": 5
}
