{
 "cells": [
  {
   "attachments": {},
   "cell_type": "markdown",
   "id": "58a440c6-3493-4928-bc83-799d78c59907",
   "metadata": {},
   "source": [
    "## Basic information\n",
    "Two types of databases: relational and non-relational\n",
    " - relational databases: include things like tables, very structured data: stores data in row and columns\n",
    " - non-relational: for unstructured data\n"
   ]
  },
  {
   "cell_type": "markdown",
   "id": "cfb5d61d-ec71-4e6e-9ce6-6c8e239f2b28",
   "metadata": {
    "jupyter": {
     "source_hidden": true
    }
   },
   "source": [
    "### \n",
    "<!-- <div style=\"display: flex; gap: 10px;\">\n",
    "  <img src=\"relational.png\" width=\"800\" height=\"300\"/>\n",
    "  <img src=\"non_relational.png\" width=\"600\" height=\"300\"/>\n",
    "</div> -->\n",
    "\n",
    "<div style=\"display: flex; gap: 10px;\">\n",
    "  <img src=\"relational.png\" style=\"width: 30%; height: auto;\"/>\n",
    "  <img src=\"non_relational.png\" style=\"width: 20%; height: auto;\"/>\n",
    "</div>\n"
   ]
  },
  {
   "cell_type": "markdown",
   "id": "106168ad-6cfc-47a4-8f2d-ee1ab800cbca",
   "metadata": {},
   "source": [
    "Fact tables: Contains the core data for business analysis and measure and record business events (e..g job posting)\n",
    "Dimension tables: describe attributes or dimensions of the data (skills, companies). It also supports filtering, grouping and labeling of facts in reports."
   ]
  },
  {
   "cell_type": "markdown",
   "id": "c7d7a6d5-bcca-49c8-83e5-8f996daa55a6",
   "metadata": {
    "jp-MarkdownHeadingCollapsed": true
   },
   "source": [
    "## Commands and practice"
   ]
  },
  {
   "cell_type": "code",
   "execution_count": null,
   "id": "da3a0a73-0ab5-46cd-ae7f-b9bee9a15a73",
   "metadata": {},
   "outputs": [],
   "source": []
  }
 ],
 "metadata": {
  "kernelspec": {
   "display_name": "Python 3 (ipykernel)",
   "language": "python",
   "name": "python3"
  },
  "language_info": {
   "codemirror_mode": {
    "name": "ipython",
    "version": 3
   },
   "file_extension": ".py",
   "mimetype": "text/x-python",
   "name": "python",
   "nbconvert_exporter": "python",
   "pygments_lexer": "ipython3",
   "version": "3.10.12"
  }
 },
 "nbformat": 4,
 "nbformat_minor": 5
}
