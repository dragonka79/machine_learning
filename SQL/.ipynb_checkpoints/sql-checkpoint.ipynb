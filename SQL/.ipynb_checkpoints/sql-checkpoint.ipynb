{
 "cells": [
  {
   "attachments": {},
   "cell_type": "markdown",
   "id": "58a440c6-3493-4928-bc83-799d78c59907",
   "metadata": {
    "jp-MarkdownHeadingCollapsed": true
   },
   "source": [
    "# Basic information"
   ]
  },
  {
   "cell_type": "markdown",
   "id": "80980d39-96fb-4ec0-95ce-47de890f5b0b",
   "metadata": {},
   "source": [
    "Two types of databases: relational and non-relational\n",
    " - relational databases: include things like tables, very structured data: stores data in row and columns\n",
    " - non-relational: for unstructured data"
   ]
  },
  {
   "cell_type": "markdown",
   "id": "cfb5d61d-ec71-4e6e-9ce6-6c8e239f2b28",
   "metadata": {
    "jupyter": {
     "source_hidden": true
    }
   },
   "source": [
    "### \n",
    "<div style=\"display: flex; gap: 10px;\">\n",
    "  <img src=\"relational.png\" width=\"1200\" height=\"300\"/>\n",
    "  <img src=\"non_relational.png\" width=\"600\" height=\"300\"/>\n",
    "</div>\n",
    "\n",
    "<!-- <div style=\"display: flex; gap: 10px;\">\n",
    "  <img src=\"relational.png\" style=\"width: 50%; height: auto;\"/>\n",
    "  <img src=\"non_relational.png\" style=\"width: 20%; height: auto;\"/>\n",
    "</div>\n",
    " -->"
   ]
  },
  {
   "cell_type": "markdown",
   "id": "106168ad-6cfc-47a4-8f2d-ee1ab800cbca",
   "metadata": {},
   "source": [
    "Fact tables: Contains the core data for business analysis and measure and record business events (e..g job posting)\n",
    "Dimension tables: describe attributes or dimensions of the data (skills, companies). It also supports filtering, grouping and labeling of facts in reports."
   ]
  },
  {
   "cell_type": "markdown",
   "id": "a3ec1be3-d5c4-42b6-ac5a-15b6635494d4",
   "metadata": {},
   "source": [
    "Basic database for SQLite:  \n",
    "lukeb.co/sql_jobs_db  \n",
    "lukeb.co/sql_invoices_db\n",
    "  \n",
    "Run: CTRL ENTER or \"Run SQL Query\" button on the right.<br>\n",
    "<br>\n",
    "Order to write commands:  \n",
    "SELECT  \n",
    "FROM  \n",
    "WHERE  \n",
    "GROUP BY  \n",
    "HAVING  \n",
    "ORDER BY ... ASC|DESC  \n",
    "LIMIT"
   ]
  },
  {
   "cell_type": "markdown",
   "id": "c7d7a6d5-bcca-49c8-83e5-8f996daa55a6",
   "metadata": {
    "jp-MarkdownHeadingCollapsed": true
   },
   "source": [
    "# Basic Statements and Commands"
   ]
  },
  {
   "attachments": {},
   "cell_type": "markdown",
   "id": "0d1397e3-204b-45c7-8e5e-a525ce0ffd80",
   "metadata": {},
   "source": [
    "## Select all columns"
   ]
  },
  {
   "cell_type": "markdown",
   "id": "00dbc488-db4c-4277-8edc-93b29b6a6c3a",
   "metadata": {},
   "source": [
    "SELECT: identifies the columns (or data) from database  \n",
    "FROM: identifies the table we are connecting to  \n",
    "*: select all the columns  \n",
    "\n",
    "\n",
    "\n",
    "\n",
    "SELECT *  \n",
    "FROM job_posting_fact  \n"
   ]
  },
  {
   "cell_type": "markdown",
   "id": "8a3467ea-d4a7-45c3-b119-bdfea4662888",
   "metadata": {
    "jp-MarkdownHeadingCollapsed": true
   },
   "source": [
    "## Select specific Columns: put the items under each other separating them by a comma for better readability"
   ]
  },
  {
   "cell_type": "markdown",
   "id": "995c0587-6c5f-4dc5-bfda-ba05da5940c9",
   "metadata": {},
   "source": [
    "SELECT  \n",
    "&emsp;company_id,  \n",
    "&emsp;name  \n",
    "FROM  \n",
    "&emsp;company_dim  "
   ]
  },
  {
   "cell_type": "markdown",
   "id": "a5015a9d-78ef-4e0d-ac38-ec8b7ecb5181",
   "metadata": {},
   "source": [
    "There is a better way for that: make a reference to the table:"
   ]
  },
  {
   "cell_type": "markdown",
   "id": "4b65dd41-8511-4ae3-9e92-99e95e7a53b4",
   "metadata": {},
   "source": [
    "SELECT  \n",
    "&emsp;company_dim.company_id,  \n",
    "&emsp;company_dim.name  \n",
    "FROM  \n",
    "&emsp;company_dim  \n"
   ]
  },
  {
   "cell_type": "markdown",
   "id": "9b7fe72e-817d-41e2-a81a-2a5d77bc1c28",
   "metadata": {
    "jp-MarkdownHeadingCollapsed": true
   },
   "source": [
    "## Limitation of the outputs  "
   ]
  },
  {
   "cell_type": "markdown",
   "id": "1d2cf7cc-6f68-42ff-b300-eca67ed3fb9c",
   "metadata": {},
   "source": [
    "SELECT  \n",
    "&emsp; company_dim.company_id,  \n",
    "&emsp; company_dim.name  \n",
    "FROM  \n",
    "&emsp; company_dim  \n",
    "__LIMIT__ 5  "
   ]
  },
  {
   "cell_type": "markdown",
   "id": "8ba3ff0c-a55b-46e7-95c2-d4f2404765bb",
   "metadata": {
    "jp-MarkdownHeadingCollapsed": true
   },
   "source": [
    "## Reading different (dictinct) columns only  "
   ]
  },
  {
   "cell_type": "markdown",
   "id": "3333eda6-3265-4938-b33b-c0cb90a749a0",
   "metadata": {},
   "source": [
    "__SELECT DISTINCT__  \n",
    "&emsp; job_postings_fact.job_title_short  \n",
    "FROM job_postings_fact  "
   ]
  },
  {
   "cell_type": "markdown",
   "id": "704576dd-a176-476b-b013-de5c40f3678a",
   "metadata": {},
   "source": [
    "## Running more different SQL queries: one below the other separated by semicolon  "
   ]
  },
  {
   "cell_type": "markdown",
   "id": "b5b45f34-3ee6-4fc3-809e-f7fe30062c61",
   "metadata": {},
   "source": [
    "SELECT DISTINCT  \n",
    "&emsp; job_postings_fact.job_title_short  \n",
    "FROM job_postings_fact;  \n",
    "\n",
    "SELECT DISTINCT  \n",
    "&emsp; job_postings_fact.salary_year_avg  \n",
    "FROM job_postings_fact;"
   ]
  },
  {
   "cell_type": "markdown",
   "id": "0bd88ae3-4216-4eb4-b6d9-5e5fd49c48a8",
   "metadata": {},
   "source": [
    "!Note, currently with that editor only the last result can be shown. With advanced editor later on the others can also be shown"
   ]
  },
  {
   "cell_type": "markdown",
   "id": "aca3d7b2-d29f-469c-879b-7a314d28672c",
   "metadata": {
    "jp-MarkdownHeadingCollapsed": true
   },
   "source": [
    "## Filter out particular data from the output"
   ]
  },
  {
   "cell_type": "markdown",
   "id": "1105e620-6d72-4867-b56d-98d76ada39f5",
   "metadata": {},
   "source": [
    "!WHERE is put right after FROM and the keyword is put between '' and not \"\"."
   ]
  },
  {
   "cell_type": "markdown",
   "id": "4a940a45-75f2-43c6-9b68-1bbdd9aa224a",
   "metadata": {},
   "source": [
    "  - e.g.:I am interested only in a job title, where it is \"Data Analyst\"\n",
    "\n",
    "SELECT  \n",
    "    &emsp;job_postings_fact.job_title_short,  \n",
    "    &emsp;job_postings_fact.job_location,  \n",
    "    &emsp;job_postings_fact.job_via,  \n",
    "    &emsp;job_postings_fact.salary_year_avg  \n",
    "    \n",
    "FROM  \n",
    "    &emsp;job_postings_fact  \n",
    "__WHERE__  \n",
    "    &emsp;job_title_short = 'Data Analyst'  \n",
    "LIMIT 10  "
   ]
  },
  {
   "cell_type": "markdown",
   "id": "291c3123-1674-48b9-82e3-ae9f187f3b03",
   "metadata": {},
   "source": [
    "  -  e.g.: I am interested in job posts of Data Analysts where the salary is above 90000 per year"
   ]
  },
  {
   "cell_type": "markdown",
   "id": "a6a0842f-4c2e-481e-b5e1-0e686d338a8b",
   "metadata": {},
   "source": [
    "SELECT  \n",
    "    &emsp;job_postings_fact.job_title_short,  \n",
    "    &emsp;job_postings_fact.job_location,  \n",
    "    &emsp;job_postings_fact.job_via,  \n",
    "    &emsp;job_postings_fact.salary_year_avg  \n",
    "    \n",
    "FROM  \n",
    "    &emsp;job_postings_fact  \n",
    "__WHERE__  \n",
    "    &emsp;job_title_short = 'Data Analyst' __AND__ salary_year_avg > 90000  \n",
    "LIMIT 10  "
   ]
  },
  {
   "cell_type": "markdown",
   "id": "01f17a58-2a20-4fb8-b09f-1cc498b9a57a",
   "metadata": {},
   "source": [
    "## Adding comments"
   ]
  },
  {
   "cell_type": "markdown",
   "id": "83cd57fd-e911-461a-9167-06bd8628af79",
   "metadata": {},
   "source": [
    "### Single line comment: --. Comment starts with '--', for strings of one line only, can be put anywhere in the query"
   ]
  },
  {
   "cell_type": "markdown",
   "id": "8b71bf23-0c63-49da-9811-248a76fadc1d",
   "metadata": {},
   "source": [
    "-- query to see relevant data for DAs  \n",
    "SELECT  \n",
    "    &emsp;job_postings_fact.job_title_short,  \n",
    "    &emsp;job_postings_fact.job_location,  \n",
    "    &emsp;job_postings_fact.job_via,  \n",
    "    &emsp;job_postings_fact.salary_year_avg    \n",
    "FROM  \n",
    "    &emsp;job_postings_fact  \n",
    "WHERE  \n",
    "    &emsp;job_title_short = 'Data Analyst' AND salary_year_avg > 90000  \n",
    "LIMIT 10"
   ]
  },
  {
   "cell_type": "markdown",
   "id": "cf9f088d-a2ba-4fe8-907f-62b4e676c67e",
   "metadata": {},
   "source": [
    "### Multi-line comment: E.g. I open a Note section at the beginning of the query why I do that specific query\n",
    "__/*__ multi  \n",
    "line  \n",
    "comment  \n",
    "__*/__"
   ]
  },
  {
   "cell_type": "markdown",
   "id": "1630c526-d0f6-45f8-9c36-fadc19443ef0",
   "metadata": {},
   "source": [
    "## Ordering (sorting)"
   ]
  },
  {
   "cell_type": "markdown",
   "id": "48d97616-41f6-4f49-ae88-b79e2ba80c37",
   "metadata": {
    "jp-MarkdownHeadingCollapsed": true
   },
   "source": [
    "### Sort Ascending, from smallest to largest. ! NULL is the smallest if no values"
   ]
  },
  {
   "cell_type": "markdown",
   "id": "85db7e89-ac60-49fa-a2fb-b71fa2ae3f46",
   "metadata": {},
   "source": [
    "/*  \n",
    "Line 1 for multi-comment  \n",
    "something  \n",
    "Line 3  \n",
    "*/  \n",
    "SELECT  \n",
    "    &emsp;job_postings_fact.job_title_short,  \n",
    "    &emsp;job_postings_fact.job_location,  \n",
    "    &emsp;job_postings_fact.job_via,  \n",
    "    &emsp;job_postings_fact.salary_year_avg    \n",
    "FROM  \n",
    "    &emsp;job_postings_fact  \n",
    "WHERE  \n",
    "    &emsp;job_title_short = 'Data Analyst'AND salary_year_avg > 90000  \n",
    "__ORDER BY__  \n",
    "    &emsp;salary_year_avg  -- you can put here __ASC__, right after the sorting key, but it is not necessary, the default ORDER is ASC  \n",
    "LIMIT 10  "
   ]
  },
  {
   "cell_type": "markdown",
   "id": "f2b2b2ed-937d-44a8-b32e-d2ea41eadc3f",
   "metadata": {},
   "source": [
    "### Sort Descending"
   ]
  },
  {
   "cell_type": "markdown",
   "id": "5924efda-163e-42a4-a95f-5975139e667a",
   "metadata": {},
   "source": [
    "/*  \n",
    "Line 1 for multi-comment  \n",
    "something  \n",
    "Line 3  \n",
    "*/  \n",
    "SELECT  \n",
    "    &emsp;job_postings_fact.job_title_short,  \n",
    "    &emsp;job_postings_fact.job_location,  \n",
    "    &emsp;job_postings_fact.job_via,  \n",
    "    &emsp;job_postings_fact.salary_year_avg    \n",
    "FROM  \n",
    "    &emsp;job_postings_fact  \n",
    "WHERE  \n",
    "    &emsp;job_title_short = 'Data Analyst'AND salary_year_avg > 90000  \n",
    "__ORDER BY__  \n",
    "    &emsp;salary_year_avg __DESC__  \n",
    "LIMIT 10  "
   ]
  },
  {
   "cell_type": "markdown",
   "id": "89ece1e1-d7a8-4ae4-b6f3-a01bcc870a18",
   "metadata": {
    "jp-MarkdownHeadingCollapsed": true
   },
   "source": [
    "# Comparisons"
   ]
  },
  {
   "cell_type": "markdown",
   "id": "f969846b-fe5d-4d82-a2e0-6b45233b80ae",
   "metadata": {},
   "source": [
    "## Notes:"
   ]
  },
  {
   "cell_type": "markdown",
   "id": "32602fb8-aff2-4d73-9dd7-a2de9fd08c6a",
   "metadata": {},
   "source": [
    "Used with WHERE and HAVING clause  \n",
    "Used in conjunction with comparison operators: $=,<>,>,<,<=,>=$  \n",
    "Used in conjunction with logical operators: __AND,OR,BETWEEN,IN__"
   ]
  },
  {
   "cell_type": "markdown",
   "id": "eb222080-f356-4a05-b054-5a2e95d927db",
   "metadata": {},
   "source": [
    "## Comparison operators, e.g.: Not equal: select the job_via via not 'via Ai-Jobs.net'"
   ]
  },
  {
   "cell_type": "markdown",
   "id": "c44aa8b5-e244-4e4d-a712-02f8b3d51a30",
   "metadata": {
    "jp-MarkdownHeadingCollapsed": true
   },
   "source": [
    "### First solution:  \n",
    "SELECT  \n",
    "    &emsp;job_postings_fact.job_id,  \n",
    "    &emsp;job_postings_fact.job_title_short,  \n",
    "    &emsp;job_postings_fact.job_via,  \n",
    "    &emsp;job_postings_fact.salary_year_avg  \n",
    "FROM   \n",
    "    &emsp;job_postings_fact  \n",
    "WHERE  \n",
    "    &emsp;job_postings_fact.job_via <> 'via Ai-Jobs.net'\n"
   ]
  },
  {
   "cell_type": "markdown",
   "id": "5b894aa1-e7c6-46b2-888b-a178726b7f12",
   "metadata": {
    "jp-MarkdownHeadingCollapsed": true
   },
   "source": [
    "### Second solution:  \n",
    "SELECT  \n",
    "    &emsp;job_postings_fact.job_id,  \n",
    "    &emsp;job_postings_fact.job_title_short,  \n",
    "    &emsp;job_postings_fact.job_via,  \n",
    "    &emsp;job_postings_fact.salary_year_avg  \n",
    "FROM   \n",
    "    &emsp;job_postings_fact  \n",
    "WHERE __NOT__  \n",
    "    &emsp;job_postings_fact.job_via = 'via Ai-Jobs.net'"
   ]
  },
  {
   "cell_type": "markdown",
   "id": "73673d78-cbf1-4852-b5a0-75c64ed52c2a",
   "metadata": {},
   "source": [
    "### Note, that double negation works: select the job_via via 'via Ai-Jobs.net'"
   ]
  },
  {
   "cell_type": "markdown",
   "id": "149bd417-0826-4838-82d2-87c1e525a0bc",
   "metadata": {},
   "source": [
    "SELECT  \n",
    "    &emsp;job_postings_fact.job_id,  \n",
    "    &emsp;job_postings_fact.job_title_short,  \n",
    "    &emsp;job_postings_fact.job_via,  \n",
    "    &emsp;job_postings_fact.salary_year_avg  \n",
    "FROM   \n",
    "    &emsp;job_postings_fact  \n",
    "WHERE NOT  \n",
    "    &emsp;job_postings_fact.job_via <> 'via Ai-Jobs.net'"
   ]
  },
  {
   "cell_type": "markdown",
   "id": "18e938c1-d10c-42e1-94d2-603f9cb00c4f",
   "metadata": {},
   "source": [
    "## Logical operators"
   ]
  },
  {
   "cell_type": "markdown",
   "id": "bee99fe0-31b2-46f1-afe7-0997db03859e",
   "metadata": {
    "jp-MarkdownHeadingCollapsed": true
   },
   "source": [
    "### AND: Salary is more than 100000 per year for Data Analysts:  \n",
    "SELECT  \n",
    "    &emsp;job_postings_fact.job_id,  \n",
    "    &emsp;job_postings_fact.job_title_short,  \n",
    "    &emsp;job_postings_fact.job_via,  \n",
    "    &emsp;job_postings_fact.salary_year_avg  \n",
    "FROM   \n",
    "    &emsp;job_postings_fact  \n",
    "WHERE  \n",
    "    &emsp;job_postings_fact.salary_year_avg > 100000  \n",
    "    &emsp;__AND__ job_postings_fact.job_title = 'Data Analyst'  \n",
    "ORDER BY  \n",
    "    &emsp;job_postings_fact.salary_year_avg"
   ]
  },
  {
   "cell_type": "markdown",
   "id": "0691c45f-efcf-40f3-ac39-942f65f3034a",
   "metadata": {},
   "source": [
    "### OR: In case of OR, it is permissive OR ( both conditions are allowed,too).  \n",
    "List the jobs where it is for Data Scientist OR the salary_year_avg > 100000 (so it can be e.g.: Data Scientist with 120000 salary/year)"
   ]
  },
  {
   "cell_type": "markdown",
   "id": "c24cc6e7-b670-4c8e-b48b-1744ac00dd48",
   "metadata": {},
   "source": [
    "SELECT  \n",
    "    &emsp;job_postings_fact.job_id,  \n",
    "    &emsp;job_postings_fact.job_title_short,  \n",
    "    &emsp;job_postings_fact.job_via,  \n",
    "    &emsp;job_postings_fact.salary_year_avg  \n",
    "FROM  \n",
    "    &emsp;job_postings_fact  \n",
    "WHERE  \n",
    "    &emsp;job_postings_fact.job_title_short = 'Data Analyst'  \n",
    "    &emsp;OR job_postings_fact.salary_year_avg > 100000  \n",
    "ORDER BY  \n",
    "    &emsp;job_postings_fact.salary_year_avg"
   ]
  },
  {
   "cell_type": "markdown",
   "id": "269050e9-58b5-4fa4-a032-55dc367b567a",
   "metadata": {},
   "source": [
    "### BETWEEN"
   ]
  },
  {
   "cell_type": "markdown",
   "id": "2661af66-4047-4b67-994a-13f669183067",
   "metadata": {},
   "source": [
    "SELECT  \n",
    "    &emsp;job_postings_fact.job_id,  \n",
    "    &emsp;job_postings_fact.job_title_short,  \n",
    "    &emsp;job_postings_fact.job_via,  \n",
    "    &emsp;job_postings_fact.salary_year_avg  \n",
    "FROM  \n",
    "    &emsp;job_postings_fact  \n",
    "WHERE  \n",
    "    &emsp;job_postings_fact.job_title_short = 'Data Analyst'  \n",
    "    &emsp;OR job_postings_fact.salary_year_avg BETWEEN 60000 AND 90000  \n",
    "ORDER BY  \n",
    "    &emsp;job_postings_fact.salary_year_avg"
   ]
  },
  {
   "cell_type": "markdown",
   "id": "1714da08-2383-47d4-81de-dc27adcc5f7b",
   "metadata": {},
   "source": [
    "### IN: Match not to a condition, but to any condition in a list: IN (cond1, cond2, .., condn)  \n",
    "Job titles of Data Analyst or Data Engineer or Data Scientist:  \n",
    "SELECT  \n",
    "    &emsp;job_postings_fact.job_id,  \n",
    "    &emsp;job_postings_fact.job_title_short,  \n",
    "    &emsp;job_postings_fact.job_via,  \n",
    "    &emsp;job_postings_fact.salary_year_avg  \n",
    "FROM  \n",
    "    &emsp;job_postings_fact  \n",
    "WHERE  \n",
    "    &emsp;job_postings_fact.job_title_short __IN__ ('Data Analyst', 'Data Engineer', 'Data Scientist)  "
   ]
  },
  {
   "cell_type": "markdown",
   "id": "d1f1404f-e973-475a-9189-ede2cc9abfe8",
   "metadata": {
    "jp-MarkdownHeadingCollapsed": true
   },
   "source": [
    "# Practice Problem 1"
   ]
  },
  {
   "cell_type": "markdown",
   "id": "2fded5f5-a5d9-445b-8b68-dfe91b32ab40",
   "metadata": {},
   "source": [
    "### Get the job details for BOTH 'Data Analyst' or 'Business Analyst' positions\n",
    "  - For 'Data Analyst', jobs only > 100.000\n",
    "  - For 'Business Analyst', jobs only > 70.000\n",
    "  - Jobs are located either in 'Boston, MA' or 'Anywhere'\n",
    "\n"
   ]
  },
  {
   "cell_type": "markdown",
   "id": "9d07bdcb-900b-458c-a82f-0f359f82370f",
   "metadata": {},
   "source": [
    "SELECT  \n",
    "    &emsp;job_postings_fact.job_title_short,  \n",
    "    &emsp;job_postings_fact.job_location,  \n",
    "    &emsp;job_postings_fact.job_via,  \n",
    "    &emsp;job_postings_fact.salary_year_avg  \n",
    "FROM   \n",
    "    &emsp;job_postings_fact  \n",
    "WHERE  \n",
    "    &emsp;(\n",
    "&emsp;&emsp;        (job_postings_fact.job_title_short = 'Data Analyst' AND job_postings_fact.salary_year_avg > 100000)  \n",
    "&emsp;    OR  \n",
    "&emsp;&emsp;&emsp;  (job_postings_fact.job_title_short = 'Business Analyst' AND job_postings_fact.salary_rate > 70000)  \n",
    "&emsp;    )  \n",
    "&emsp;    AND  \n",
    "&emsp;        job_postings_fact.job_location IN ('Boston, MA', 'Anywhere')  \n",
    "&emsp;    AND  \n",
    "&emsp;        job_postings_fact.salary_year_avg IS NOT NULL  \n",
    "ORDER BY  \n",
    "&emsp;    job_postings_fact.salary_year_avg ASC  "
   ]
  },
  {
   "cell_type": "markdown",
   "id": "db016350-84b4-4a29-ae81-6061d58d10bb",
   "metadata": {
    "jp-MarkdownHeadingCollapsed": true
   },
   "source": [
    "# Wildcards"
   ]
  },
  {
   "cell_type": "markdown",
   "id": "52108b58-d5dc-4a85-9d0e-f4251986fea6",
   "metadata": {},
   "source": [
    "## zero or more characters: __LIKE %__. It is as * for bash"
   ]
  },
  {
   "cell_type": "markdown",
   "id": "0d6b2ecc-602c-4e23-b4c7-0167b29721a9",
   "metadata": {},
   "source": [
    "### Get all the jobs of 'Analyst'"
   ]
  },
  {
   "cell_type": "markdown",
   "id": "a856a4c2-9f5c-44c7-811e-34a3f489a65d",
   "metadata": {},
   "source": [
    "SELECT  \n",
    "    &emsp;job_postings_fact.job_title_short,  \n",
    "    &emsp;job_postings_fact.job_title,  \n",
    "    &emsp;job_postings_fact.job_location,  \n",
    "    &emsp;job_postings_fact.job_via,  \n",
    "    &emsp;job_postings_fact.salary_year_avg  \n",
    "FROM   \n",
    "    &emsp;job_postings_fact  \n",
    "WHERE  \n",
    "    &emsp;job_postings_fact.job_title LIKE '%Analyst%'  \n",
    "ORDER BY  \n",
    "    &emsp;job_postings_fact.salary_year_avg ASC  "
   ]
  },
  {
   "cell_type": "markdown",
   "id": "d5a3eb01-ed4c-411f-be34-7d1e41d35582",
   "metadata": {},
   "source": [
    "## single character: **_**"
   ]
  },
  {
   "cell_type": "markdown",
   "id": "2404573e-a42d-4ea0-a311-7e3fc8c4d9a3",
   "metadata": {},
   "source": [
    "### List the jobs of 'Business Analyst' only. Hint: There is a 'Business Data Analyst' job I am not interested in."
   ]
  },
  {
   "cell_type": "markdown",
   "id": "5a2d0f9e-6e46-401a-b13e-68ddc8fb2a04",
   "metadata": {},
   "source": [
    "SELECT  \n",
    "    &emsp;job_postings_fact.job_title_short,  \n",
    "    &emsp;job_postings_fact.job_title,  \n",
    "    &emsp;job_postings_fact.job_location,  \n",
    "    &emsp;job_postings_fact.job_via,  \n",
    "    &emsp;job_postings_fact.salary_year_avg  \n",
    "FROM   \n",
    "    &emsp;job_postings_fact  \n",
    "WHERE  \n",
    "    &emsp;job_postings_fact.job_title LIKE '%Business_Analyst%'  \n",
    "ORDER BY  \n",
    "    &emsp;job_postings_fact.salary_year_avg ASC  "
   ]
  },
  {
   "cell_type": "markdown",
   "id": "6982911a-72c6-45ec-9e48-52221f777fc3",
   "metadata": {
    "jp-MarkdownHeadingCollapsed": true
   },
   "source": [
    "# Aliases: AS\n"
   ]
  },
  {
   "cell_type": "markdown",
   "id": "d5f652af-57cd-49ca-ad11-f020c4d90878",
   "metadata": {},
   "source": [
    "Temporarily rename  \n",
    "  - a column in a table. It makes the column names more readable. Practical for presentations.\n",
    "  - works for tables, too."
   ]
  },
  {
   "cell_type": "markdown",
   "id": "f4514a58-3d63-4a56-8086-3f623fa7eef2",
   "metadata": {
    "jp-MarkdownHeadingCollapsed": true
   },
   "source": [
    "### Present the following columns in a different name:\n",
    "job_title_short -> job_title  \n",
    "job_location -> location  \n",
    "job_via -> online_platform\n",
    "salary_year_avg -> salary"
   ]
  },
  {
   "cell_type": "markdown",
   "id": "d1a8800b-dbb6-4d77-8205-baf566c589e1",
   "metadata": {},
   "source": [
    "SELECT  \n",
    "    &emsp;job_postings_fact.job_title_short AS job_title,  \n",
    "    &emsp;job_postings_fact.job_location AS location,  \n",
    "    &emsp;job_postings_fact.job_via AS online_platform,  \n",
    "    &emsp;job_postings_fact.salary_year_avg AS salary  \n",
    "FROM   \n",
    "    &emsp;job_postings_fact  "
   ]
  },
  {
   "cell_type": "markdown",
   "id": "5af8f2ea-99b6-4c66-ab65-aded779500ab",
   "metadata": {},
   "source": [
    "### Load job_posting_fact as jpc. Also modify the load of the columns according to it. Give 2 solutions, the second solution is the simpler form of the first one."
   ]
  },
  {
   "cell_type": "markdown",
   "id": "c7f1b004-d4ae-4997-aedf-e6db144b396f",
   "metadata": {},
   "source": [
    "#### With AS in FROM\n",
    "SELECT  \n",
    "    &emsp;jpc.job_title_short **AS** job_title,  \n",
    "    &emsp;jpc.job_location AS location,  \n",
    "    &emsp;jpc.job_via AS online_platform,  \n",
    "    &emsp;jpc.salary_year_avg AS salary  \n",
    "FROM  \n",
    "    &emsp;job_postings_fact **AS** jpc  "
   ]
  },
  {
   "cell_type": "markdown",
   "id": "b972d6f6-0097-42f2-a889-39db7f4e4bf2",
   "metadata": {},
   "source": [
    "#### Without AS either in SELECT or FROM. It works but makes it harder read.\n",
    "SELECT  \n",
    "    &emsp;jpc.job_title_short job_title,  \n",
    "    &emsp;jpc.job_location location,  \n",
    "    &emsp;jpc.job_via online_platform,  \n",
    "    &emsp;jpc.salary_year_avg salary  \n",
    "FROM  \n",
    "    &emsp;job_postings_fact jpc  \n",
    "<br>\n",
    "!important note: in this case **jpc**.job_title_short works but **job_postings_fact**.job_title_short does not"
   ]
  },
  {
   "cell_type": "markdown",
   "id": "0dd25839-aa59-4c48-bffd-331183c8ad7c",
   "metadata": {
    "jp-MarkdownHeadingCollapsed": true
   },
   "source": [
    "# Practice Problem 1"
   ]
  },
  {
   "cell_type": "markdown",
   "id": "b14212c5-c2e5-4177-95aa-c75d0b632ade",
   "metadata": {},
   "source": [
    "### Look for non-senior data analyst or business analyst roles  \n",
    "Get the job title, location and average year salary"
   ]
  },
  {
   "cell_type": "markdown",
   "id": "af693a8b-f3f7-4304-838c-e710bc7ea31e",
   "metadata": {},
   "source": [
    "SELECT  \n",
    "    &emsp;job_postings_fact.job_title,  \n",
    "    &emsp;job_postings_fact.job_location,  \n",
    "    &emsp;job_postings_fact.salary_year_avg  \n",
    "FROM  \n",
    "    &emsp;job_postings_fact  \n",
    "WHERE  \n",
    "    &emsp;(job_postings_fact.job_title NOT LIKE '%Senior%')  \n",
    "    &emsp; AND  \n",
    "     &emsp;(    (job_postings_fact.job_title LIKE '%Data%' OR job_postings_fact.job_title LIKE '%Business%') AND job_postings_fact.job_title LIKE '%Analyst%'  \n",
    "    &emsp; )  \n",
    "     "
   ]
  },
  {
   "cell_type": "markdown",
   "id": "56518ba5-2048-40b4-a313-cd8153454099",
   "metadata": {
    "jp-MarkdownHeadingCollapsed": true
   },
   "source": [
    "# Basic Operations"
   ]
  },
  {
   "cell_type": "markdown",
   "id": "0582eaf3-4055-43fd-b18c-a852a6b29226",
   "metadata": {
    "jp-MarkdownHeadingCollapsed": true
   },
   "source": [
    "### Here is the core query from lukeb.co/sql_invoices_db"
   ]
  },
  {
   "cell_type": "markdown",
   "id": "49d60bfa-89fc-4a01-978c-b7122acfc81f",
   "metadata": {},
   "source": [
    "SELECT  \n",
    "    &emsp; invoices_fact.project_company,  \n",
    "    &emsp; invoices_fact.nerd_id,  \n",
    "    &emsp; invoices_fact.nerd_role,  \n",
    "    &emsp; invoices_fact.hours_rate  \n",
    "FROM  \n",
    "    &emsp; invoices_fact  "
   ]
  },
  {
   "cell_type": "markdown",
   "id": "e3728ccf-da01-477c-9e58-b2b63a6e4254",
   "metadata": {},
   "source": [
    " ### Addition, subtraction: Modify the core query as per follows:  \n",
    "  - load hours_rate as rate_original\n",
    "  - subtract 5 from all the values in hours rate column and load it as rate_drop"
   ]
  },
  {
   "cell_type": "markdown",
   "id": "8ea826cb-ac31-497c-9df2-dd88a804126b",
   "metadata": {},
   "source": [
    "SELECT  \n",
    "    &emsp; invoices_fact.project_company,  \n",
    "    &emsp; invoices_fact.nerd_id,  \n",
    "    &emsp; invoices_fact.nerd_role,  \n",
    "    &emsp; invoices_fact.hours_rate AS rate_original,  \n",
    "    &emsp; invoices_fact.hours_rate - 5 AS rate_drop  \n",
    "FROM  \n",
    "    &emsp; invoices_fact  "
   ]
  },
  {
   "cell_type": "markdown",
   "id": "91cbec63-f638-4afa-9876-e404e4c9ff15",
   "metadata": {},
   "source": [
    "### Multiplication: Get the following from lukeb.co/sql_invoices_db:  \n",
    "  -  load every column\n",
    "  -  filter by invoices_fact.hours_spent * invoices_fact.hours_rate > 180000\n",
    "  -  sort it by nerd_id"
   ]
  },
  {
   "cell_type": "markdown",
   "id": "8379158f-31c2-4959-b3b6-809efd86d87e",
   "metadata": {},
   "source": [
    "SELECT    \n",
    "    &emsp; *    \n",
    "FROM    \n",
    "    &emsp;invoices_fact    \n",
    "WHERE    \n",
    "    &emsp;invoices_fact.hours_spent * invoices_fact.hours_rate > 180000    \n",
    "ORDER BY    \n",
    "    &emsp;invoices_fact.nerd_id ASC  "
   ]
  },
  {
   "cell_type": "markdown",
   "id": "11bd7318-fae6-442d-8dfa-5da17dab27bd",
   "metadata": {},
   "source": [
    "### Modulus operator. lukeb.co/sql_invoices_db\n",
    "The task: In general, people work 8 hours a day. Give back an extra_hours column which represents the overtime value between 8 and 16 working hours(hours_spent)."
   ]
  },
  {
   "cell_type": "markdown",
   "id": "441104c3-24f6-4bea-982d-b68f6f095eaa",
   "metadata": {},
   "source": [
    "SELECT  \n",
    "    &emsp; *,  \n",
    "    &emsp; invoices_fact.hours_spent % 8 AS extra_hours  \n",
    "FROM  \n",
    "    &emsp; invoices_fact  \n",
    "WHERE  \n",
    "    &emsp; extra_hours <> 0 AND (invoices_fact.hours_spent BETWEEN 8 AND 16)  \n",
    "ORDER BY  \n",
    "    &emsp; extra_hours  \n",
    "\n",
    "   "
   ]
  },
  {
   "cell_type": "markdown",
   "id": "25df3644-cd3c-45c3-b4bc-ed520bf630d1",
   "metadata": {
    "jp-MarkdownHeadingCollapsed": true
   },
   "source": [
    "# Aggregation: SUM(), COUNT(), AVG(), MAX(), MIN()  \n",
    "Used in conjunction with GROUP BY and/or HAVING.  \n",
    "lukeb.co/sql_jobs_db is used"
   ]
  },
  {
   "cell_type": "markdown",
   "id": "45ee0ab4-72f4-4e54-83e5-9a0529fef5da",
   "metadata": {},
   "source": [
    "### Add up all the values in salary_year_avg and return with that sum only with name salary_sum"
   ]
  },
  {
   "cell_type": "markdown",
   "id": "a2fbbd8c-445e-42b0-964e-97bc3d0b95a8",
   "metadata": {},
   "source": [
    "SELECT  \n",
    "    &emsp; SUM(job_postings_fact.salary_year_avg) AS salary_sum  \n",
    "FROM  \n",
    "    &emsp;job_postings_fact  \n"
   ]
  },
  {
   "cell_type": "markdown",
   "id": "df963a88-df93-4f51-8bdf-013cda3bdfb9",
   "metadata": {
    "jp-MarkdownHeadingCollapsed": true
   },
   "source": [
    "### Modify the query just above as per follows: add the number of rows of the column as count_rows"
   ]
  },
  {
   "cell_type": "markdown",
   "id": "913553fa-66ba-4a98-a04c-df83550e6fdc",
   "metadata": {},
   "source": [
    "SELECT  \n",
    "    &emsp; SUM(job_postings_fact.salary_year_avg) AS salary_sum,  \n",
    "    &emsp; COUNT(*) as count_rows  \n",
    "FROM  \n",
    "    &emsp;job_postings_fact  "
   ]
  },
  {
   "cell_type": "markdown",
   "id": "7fd72bac-d5a7-4302-9551-41ae3b7639e6",
   "metadata": {
    "jp-MarkdownHeadingCollapsed": true
   },
   "source": [
    "### Modify the query just above as per follows: add the number of rows of the column where the value is not NULL as count_rows_2"
   ]
  },
  {
   "cell_type": "markdown",
   "id": "da70a910-1c97-4761-a3bc-2ba979376990",
   "metadata": {},
   "source": [
    "SELECT  \n",
    "    &emsp; SUM(job_postings_fact.salary_year_avg) AS salary_sum,  \n",
    "    &emsp; COUNT(*) as count_rows,  \n",
    "    &emsp; COUNT(job_postings_fact.salary_year_avg) as count_rows_2  \n",
    "FROM  \n",
    "    &emsp;job_postings_fact  \n",
    "\n",
    "  So: COUNT(*) counts every rows; COUNT(<specific column>) counts only the rows where the values are not NULL    "
   ]
  },
  {
   "cell_type": "markdown",
   "id": "1055f69d-944a-4d78-b03f-e5d34dece190",
   "metadata": {
    "jp-MarkdownHeadingCollapsed": true
   },
   "source": [
    "### How many different job titles exist?"
   ]
  },
  {
   "cell_type": "markdown",
   "id": "ed2d476a-f47d-435a-a842-4331763b0ed9",
   "metadata": {},
   "source": [
    "SELECT  \n",
    "    &emsp; COUNT(DISTINCT(job_postings_fact.job_title_short)) AS different_jobs  \n",
    "FROM  \n",
    "    &emsp; job_postings_fact  "
   ]
  },
  {
   "cell_type": "markdown",
   "id": "0b7918e4-6909-4269-8938-458199332734",
   "metadata": {
    "jp-MarkdownHeadingCollapsed": true
   },
   "source": [
    "### How many part-time job advertisements exist?"
   ]
  },
  {
   "cell_type": "markdown",
   "id": "bb9287aa-9e69-4633-9d59-2a56311ab150",
   "metadata": {},
   "source": [
    "SELECT  \n",
    "    &emsp; COUNT(job_postings_fact.job_schedule_type) AS part_time_jobs  \n",
    "FROM  \n",
    "    &emsp;job_postings_fact  \n",
    "WHERE  \n",
    "   &emsp;job_postings_fact.job_schedule_type LIKE '%Part-time%'  "
   ]
  },
  {
   "cell_type": "markdown",
   "id": "0665e7f7-baae-47c1-994f-deb51de07f51",
   "metadata": {
    "jp-MarkdownHeadingCollapsed": true
   },
   "source": [
    "### What is the yearly average salary for Data Analysts rounded to 2 decimals + what are the mimimum and maximum salary values on a yearly basis?\n"
   ]
  },
  {
   "cell_type": "markdown",
   "id": "1cf6e82a-b4b2-42f2-bdf2-94eeed61d1c6",
   "metadata": {},
   "source": [
    "SELECT   \n",
    "    &emsp; ROUND(AVG(job_postings_fact.salary_year_avg), 2) AS average_salary_year,  \n",
    "     &emsp;MIN(job_postings_fact.salary_year_avg) AS salary_min,  \n",
    "     &emsp;MAX(job_postings_fact.salary_year_avg) AS salary_max  \n",
    "FROM  \n",
    "     &emsp;job_postings_fact  \n",
    "WHERE  \n",
    "     &emsp;job_postings_fact.job_title_short = 'Data Analyst'   "
   ]
  },
  {
   "cell_type": "markdown",
   "id": "0907e13c-088c-4c9b-be82-c8b078e7ab11",
   "metadata": {
    "jp-MarkdownHeadingCollapsed": true
   },
   "source": [
    "### What is the average, the min and the max salary for all the jobs? Hint: modify the query above"
   ]
  },
  {
   "cell_type": "markdown",
   "id": "586b4004-1340-4653-88bc-95fe1b680ae3",
   "metadata": {},
   "source": [
    "SELECT   \n",
    "    &emsp; job_postings_fact.job_title_short AS jobs,  \n",
    "    &emsp; ROUND(AVG(job_postings_fact.salary_year_avg), 2) AS average_salary_year,  \n",
    "    &emsp; MIN(job_postings_fact.salary_year_avg) AS salary_min,  \n",
    "    &emsp; MAX(job_postings_fact.salary_year_avg) AS salary_max  \n",
    "FROM  \n",
    "    &emsp; job_postings_fact  \n",
    "GROUP BY  \n",
    "    &emsp; job_postings_fact.job_title_short  "
   ]
  },
  {
   "cell_type": "markdown",
   "id": "bdd716f6-4b20-4f34-8bb7-af450d9549e9",
   "metadata": {
    "jp-MarkdownHeadingCollapsed": true
   },
   "source": [
    "### Add the following query to the above one: get the job number advertisements in total for all the jobs"
   ]
  },
  {
   "cell_type": "markdown",
   "id": "1bf47cfa-284a-439f-9cb0-d3366b28c8b3",
   "metadata": {},
   "source": [
    "SELECT   \n",
    "    &emsp; job_postings_fact.job_title_short AS jobs,  \n",
    "    &emsp; COUNT(job_postings_fact.job_title_short) AS job_numbers,  \n",
    "    &emsp; ROUND(AVG(job_postings_fact.salary_year_avg), 2) AS average_salary_year,  \n",
    "    &emsp; MIN(job_postings_fact.salary_year_avg) AS salary_min,  \n",
    "    &emsp; MAX(job_postings_fact.salary_year_avg) AS salary_max  \n",
    "FROM  \n",
    "    &emsp; job_postings_fact  \n",
    "GROUP BY  \n",
    "    &emsp; job_postings_fact.job_title_short  "
   ]
  },
  {
   "cell_type": "markdown",
   "id": "d6deadb3-5b08-4466-a7ea-93be77e8a16a",
   "metadata": {
    "jp-MarkdownHeadingCollapsed": true
   },
   "source": [
    "### Make a filter on the query just above: I am only interested in job titles which have more than 100 jobs"
   ]
  },
  {
   "cell_type": "markdown",
   "id": "ed3c2342-28ef-4657-9321-45a88ea8ba33",
   "metadata": {},
   "source": [
    "SELECT   \n",
    "    &emsp; job_postings_fact.job_title_short AS jobs,  \n",
    "    &emsp; COUNT(job_postings_fact.job_title_short) AS job_numbers,  \n",
    "    &emsp; ROUND(AVG(job_postings_fact.salary_year_avg), 2) AS average_salary_year,  \n",
    "    &emsp; MIN(job_postings_fact.salary_year_avg) AS salary_min,  \n",
    "    &emsp; MAX(job_postings_fact.salary_year_avg) AS salary_max  \n",
    "FROM  \n",
    "    &emsp; job_postings_fact  \n",
    "GROUP BY  \n",
    "    &emsp; job_postings_fact.job_title_short  \n",
    "HAVING  \n",
    "    &emsp; job_numbers > 100  "
   ]
  },
  {
   "cell_type": "markdown",
   "id": "0d34752e-6011-4536-8cce-dee615d57e6a",
   "metadata": {},
   "source": [
    "#### ! Difference between WHERE and HAVING: WHERE filters Rows (before grouping), HAVING filters Groups (after grouping). Therefore WHERE cannot be used with aggregation."
   ]
  },
  {
   "cell_type": "markdown",
   "id": "23cc49d7-75ac-4199-b4e2-1774bc9cb3dc",
   "metadata": {},
   "source": [
    "### Practice Problem 1 (aggregation):\n",
    "In the job_posting_fact table calculate the total sum of the average yearly salary for all the job posting that are marked as fully remote (job_working_from_home is TRUE)   \n",
    "and divide it by the total count of salary_year_avg. To get the total average yearly salary for fully remote jobs. Ensure to only include job posting where a yearly salary is specified (not NULL)"
   ]
  },
  {
   "cell_type": "markdown",
   "id": "5ef78089-4f6a-45c1-af62-5b3eff7f3b65",
   "metadata": {},
   "source": [
    "SELECT   \n",
    "    &emsp; job_postings_fact.job_title_short,  \n",
    "    &emsp; SUM(job_postings_fact.salary_year_avg) AS sum_yearly_avg_salary,  \n",
    "    &emsp; (SUM(job_postings_fact.salary_year_avg)) / (COUNT(job_postings_fact.salary_year_avg)) as wtf  \n",
    "FROM  \n",
    "    &emsp; job_postings_fact  \n",
    "WHERE  \n",
    "    &emsp; job_postings_fact.job_work_from_home IS TRUE  \n",
    "    &emsp; AND  \n",
    "    &emsp; job_postings_fact.salary_year_avg IS NOT NULL  \n",
    "GROUP BY  \n",
    "    &emsp; job_postings_fact.job_title_short  "
   ]
  },
  {
   "cell_type": "markdown",
   "id": "07b3cf55-ca76-4452-8383-7795ab736fbd",
   "metadata": {},
   "source": [
    "### Practice Problem 2 (aggregation):"
   ]
  },
  {
   "cell_type": "markdown",
   "id": "04d4c390-f3de-4dc8-9ca1-321e25922fa7",
   "metadata": {},
   "source": [
    "In the job_posting_fact table count the total number of job postings that offer health insurance. Use the job_health_insurance column to determine if a job posting offers health insurance"
   ]
  },
  {
   "cell_type": "markdown",
   "id": "62afc6b7-d272-4460-b040-0cab1cf72fe5",
   "metadata": {},
   "source": [
    "SELECT  \n",
    "    &emsp; COUNT(job_postings_fact.job_title_short) AS job_health  \n",
    "FROM  \n",
    "    &emsp; job_postings_fact  \n",
    "WHERE  \n",
    "    &emsp; job_postings_fact.job_health_insurance = '1'  "
   ]
  },
  {
   "cell_type": "markdown",
   "id": "53629136-7ecf-4496-a3ab-8b3f1bed735a",
   "metadata": {},
   "source": [
    "### Practice Problem 3 (aggregation):\n",
    "In the job_posting_fact table count the number of jobs postings available for each country. Use the job_country column to group the job postings, and count the number of job postings  \n",
    "(job_id) within each country group."
   ]
  },
  {
   "cell_type": "markdown",
   "id": "2bf6780e-b4b8-4ba8-81c9-7a455bd43b9e",
   "metadata": {},
   "source": [
    "SELECT  \n",
    "    &emsp; job_postings_fact.job_country,  \n",
    "    &emsp; COUNT(job_postings_fact.job_id) AS jobs  \n",
    "FROM  \n",
    "    &emsp; job_postings_fact  \n",
    "GROUP BY  \n",
    "    &emsp; job_postings_fact.job_country  \n",
    "    "
   ]
  },
  {
   "cell_type": "markdown",
   "id": "47773ac5-c78f-4141-878f-22f243ba6236",
   "metadata": {},
   "source": [
    "### Practice Problem 3:  lukeb.co/sql_invoices_db\n",
    "-  Calculate the current month's total earnings per project (hours_spent * hours_rate)\n",
    "-  Calculate a scenario where the hourly rate increases by $5\n"
   ]
  },
  {
   "cell_type": "markdown",
   "id": "445cdc74-1cae-4e6d-9b79-017e18b56012",
   "metadata": {},
   "source": [
    "SELECT   \n",
    "    &emsp; invoices_fact.project_id,  \n",
    "    &emsp; invoices_fact.hours_spent,  \n",
    "    &emsp; invoices_fact.hours_rate AS rate_original,  \n",
    "    &emsp; SUM(invoices_fact.hours_spent * invoices_fact.hours_rate) AS project_original_cost,  /* Calculate the current month's total earnings per project */  \n",
    "    &emsp; invoices_fact.hours_rate + 5 AS rate_hike,  \n",
    "    &emsp; SUM(invoices_fact.hours_spent * (invoices_fact.hours_rate + 5)) AS project_projected_cost   /* Calculate a scenario where the hourly rate increases by $5 */  \n",
    "FROM   \n",
    "    &emsp; invoices_fact  \n",
    "GROUP BY  \n",
    "    &emsp; invoices_fact.project_id  \n"
   ]
  },
  {
   "cell_type": "markdown",
   "id": "f85181aa-1f78-452e-b3ee-241444402b8f",
   "metadata": {
    "jp-MarkdownHeadingCollapsed": true
   },
   "source": [
    "# Null values : Fields with no values.  \n",
    "Can be filtered out with WHERE or HAVING"
   ]
  },
  {
   "cell_type": "markdown",
   "id": "11fcc243-20a8-444d-b0f2-fb4fd11e0c80",
   "metadata": {},
   "source": [
    "### Practice problem 2:  lukeb.co/sql_jobs_db  \n",
    "Identify all job postings that have neither an annual average salary nor an hourly average salary in the job_posting_fact table. Return job_id, job_title, salary_year_avg, salary_hour_avg"
   ]
  },
  {
   "cell_type": "markdown",
   "id": "90c88e13-0238-41d1-a5fa-42bb4565f51b",
   "metadata": {},
   "source": [
    "### 1. solution"
   ]
  },
  {
   "cell_type": "markdown",
   "id": "a8e26ce0-b2f8-4d7a-a2d9-3484d80d696f",
   "metadata": {},
   "source": [
    "SELECT  \n",
    "    &emsp; job_postings_fact.job_id,  \n",
    "    &emsp; job_postings_fact.job_title,  \n",
    "    &emsp; job_postings_fact.salary_year_avg,  \n",
    "    &emsp; job_postings_fact.salary_hour_avg  \n",
    "FROM  \n",
    "    &emsp; job_postings_fact  \n",
    "WHERE  \n",
    "    &emsp; job_postings_fact.salary_year_avg IS NOT NULL  \n",
    "    &emsp; AND  \n",
    "    &emsp; job_postings_fact.salary_hour_avg IS NOT NULL  \n"
   ]
  },
  {
   "cell_type": "markdown",
   "id": "6635857a-3754-41c7-b423-f399f9214dae",
   "metadata": {},
   "source": [
    "### 2. solution ( I like it better)"
   ]
  },
  {
   "cell_type": "markdown",
   "id": "a659672f-1ae3-4339-8389-d841b8c30cd4",
   "metadata": {},
   "source": [
    "SELECT  \n",
    "    &emsp; job_postings_fact.job_id,  \n",
    "    &emsp; job_postings_fact.job_title,  \n",
    "    &emsp; job_postings_fact.salary_year_avg,  \n",
    "    &emsp; job_postings_fact.salary_hour_avg  \n",
    "FROM  \n",
    "    &emsp; job_postings_fact  \n",
    "WHERE NOT  \n",
    "    &emsp; (job_postings_fact.salary_year_avg IS NULL  \n",
    "    &emsp; OR  \n",
    "    &emsp; job_postings_fact.salary_hour_avg IS NULL)  "
   ]
  },
  {
   "cell_type": "markdown",
   "id": "d4f5f7ce-ade4-4aa8-98fd-7224e04b5305",
   "metadata": {
    "jp-MarkdownHeadingCollapsed": true
   },
   "source": [
    "# Joins"
   ]
  },
  {
   "cell_type": "markdown",
   "id": "524c7e1f-a3d1-43a0-8ce5-11d93b126e63",
   "metadata": {
    "jp-MarkdownHeadingCollapsed": true
   },
   "source": [
    "### LEFT JOIN:  \n"
   ]
  },
  {
   "cell_type": "markdown",
   "id": "3facefd4-4827-47e6-af32-64980f455af0",
   "metadata": {},
   "source": [
    "We have A and B 2 separate tables, and it will return all of the contents table A and then whatever we are matching A and B on.  \n",
    "it is only going to return the contents from B that is matches A on.    \n",
    "In other words: A and B has a common part (say a column) and this common part can be used as a reference to glue other parts of B only to A.\n",
    "In case there is corresponding value in B to A in the common column (say A has value \"1\" but has not), then NULL is filled in the corresponding row to B.\n",
    "<div align=\"left\">\n",
    "  <img src=\"sql_left_join.png\" width=\"100\" height=\"50\"/>\n",
    "</div>"
   ]
  },
  {
   "cell_type": "markdown",
   "id": "d1df5706-bb07-4acf-a7b0-b1461558afad",
   "metadata": {},
   "source": [
    "#### Join company_name of company_dim table to job_posting_fact using company_id column"
   ]
  },
  {
   "cell_type": "markdown",
   "id": "9d92e528-2bc4-4fa2-836b-6cd72010da63",
   "metadata": {},
   "source": [
    "SELECT  \n",
    "    &emsp;job_postings.job_id,  \n",
    "    &emsp;job_postings.job_title_short,  \n",
    "    &emsp;job_postings.company_id AS company_id_A,  \n",
    "    &emsp;companies.company_id AS company_id_B,  \n",
    "    &emsp;companies.name AS company_name  \n",
    "    \n",
    "FROM job_postings_fact AS job_postings  \n",
    "LEFT JOIN company_dim AS companies  \n",
    "    &emsp;ON job_postings.company_id = companies.company_id  "
   ]
  },
  {
   "cell_type": "markdown",
   "id": "eaf1a55f-83c1-4e00-9eb1-36a99e912008",
   "metadata": {
    "jp-MarkdownHeadingCollapsed": true
   },
   "source": [
    "### RIGHT JOIN  \n"
   ]
  },
  {
   "cell_type": "markdown",
   "id": "aac7ee0c-914c-4302-b109-6988ec98d9dd",
   "metadata": {},
   "source": [
    "Returns all rows from the right table and matching rows from the left table. For non-matching rows in the left table, it uses NULL values.\n",
    "<div align=\"left\">\n",
    "  <img src=\"sql_right_join.png\" width=\"100\" height=\"50\"/>\n",
    "</div>"
   ]
  },
  {
   "cell_type": "markdown",
   "id": "31690a29-684b-4776-85da-5d8cbaf541d1",
   "metadata": {
    "jp-MarkdownHeadingCollapsed": true
   },
   "source": [
    "### INNER JOIN  \n"
   ]
  },
  {
   "cell_type": "markdown",
   "id": "ca8d2029-5468-4ad6-89e4-592a9d8d669c",
   "metadata": {},
   "source": [
    "We have A and B table and it returns rows from the A table that have the corresponding row in B table.  \n",
    "<div align=\"left\">\n",
    "  <img src=\"sql_inner_join.png\" width=\"100\" height=\"50\"/>\n",
    "</div>  \n",
    "In case A has more columns that match with the same common value in B then the result comes back with all the columns A has, e.g.:  \n",
    "A table : m = a1, a2, a3, a4, a5   \n",
    "f = 1, 2, 2, 3, 3   \n",
    "<br>\n",
    "n = b1, b2, b3, b4, b5  \n",
    "f = 1, 2, 3, 4 ,5  \n",
    "\n",
    "INNER JOIN B ON A.f = B.f WHERE A.f = 2 will be  \n",
    "\n",
    "| m  | A.f | n  | B.f |\n",
    "|----|-----|----|-----|\n",
    "| a2 | 2   | b2 | 2   |\n",
    "| a3 | 2   | b2 | 2   |\n",
    "\n"
   ]
  },
  {
   "cell_type": "markdown",
   "id": "b518042b-93d0-452e-82a4-8bf8f24b0d63",
   "metadata": {},
   "source": [
    "#### I am interested in jobs where a skill is available  \n",
    "Here 3 tables should be inner joined: job_postings_fact, skills_job_dim and skills_dim"
   ]
  },
  {
   "cell_type": "markdown",
   "id": "733c2063-78a2-4631-84fa-7e39f7ee4928",
   "metadata": {},
   "source": [
    "SELECT  \n",
    "    &emsp; job_postings_fact.job_id,  \n",
    "    &emsp; job_postings_fact.job_title,  \n",
    "    &emsp; skills_job_dim.skill_id,  \n",
    "    &emsp; skills_dim.skills  \n",
    "FROM  \n",
    "    &emsp; job_postings_fact  \n",
    "INNER JOIN skills_job_dim  \n",
    "    &emsp; ON job_postings_fact.job_id = skills_job_dim.job_id  \n",
    "INNER JOIN skills_dim  \n",
    "    &emsp; ON skills_job_dim.skill_id = skills_dim.skill_id  "
   ]
  },
  {
   "cell_type": "markdown",
   "id": "fd1659b7-e1ee-4ba2-a58a-16ca9dfc93d7",
   "metadata": {
    "jp-MarkdownHeadingCollapsed": true
   },
   "source": [
    "### FULL OUTER JOIN"
   ]
  },
  {
   "cell_type": "markdown",
   "id": "58ea13f7-b579-406a-9290-2419798b05f0",
   "metadata": {},
   "source": [
    "<div align=\"left\">\n",
    "  <img src=\"sql_full_outer_join.png\" width=\"100\" height=\"50\"/>\n",
    "</div>  \n",
    "Joining 2 tables, returns all rows from the first and second tables. If there are no matching rows in one of the tables, it uses NULL to represent the missing values.SQlite does not support it natively but it can be simulated using a combination of LEFT JOIN, RIGHT JOIN, and UNION. \n",
    "Real world use case can be stocktaking, when a company has multiple shops in multiple locations and would like to see the consolidated view of inventory."
   ]
  },
  {
   "cell_type": "markdown",
   "id": "ed8e1c8d-e3ac-4e62-8502-0f66ba2597e8",
   "metadata": {
    "jp-MarkdownHeadingCollapsed": true
   },
   "source": [
    "### Practice Problem 1  \n",
    "Retrieve the list of job titles(job_title) and the corresponding company names (name) for all job postings that mention \"Data Scientist\" in the job title. Use the job_posting_fact and company_dim tables for this query."
   ]
  },
  {
   "cell_type": "markdown",
   "id": "deb83ae1-2792-4c49-8c88-56b24b5a3b05",
   "metadata": {},
   "source": [
    "SELECT  \n",
    "    &emsp;job_postings_fact.job_title,  \n",
    "    &emsp;company_dim.name AS company_name  \n",
    "FROM job_postings_fact  \n",
    "LEFT JOIN company_dim  \n",
    "    &emsp;ON job_postings_fact.company_id = company_dim.company_id  \n",
    "WHERE  \n",
    "    &emsp;job_postings_fact.job_title\n",
    "    &emsp;LIKE '%Data Scientist%'"
   ]
  },
  {
   "cell_type": "markdown",
   "id": "3811325b-295d-4899-896c-a1eff50693dd",
   "metadata": {},
   "source": [
    "### Practice Problem 2:\n",
    "Fetch all job postings, including their job titles (job_title) and the names of the skills required (skills), even if no skills are listed for a job. Ensure that the job is located in \"New York\" and offers \"Health Insurance\".  \n",
    "Use the job_posting_fact, skills_job_dim and skills_dim tables."
   ]
  },
  {
   "cell_type": "markdown",
   "id": "c309ba3e-df5a-42c0-8cab-f1607c7c2e96",
   "metadata": {},
   "source": [
    "SELECT  \n",
    "    &emsp; job_postings_fact.job_title,  \n",
    "    &emsp; job_postings_fact.job_health_insurance,  \n",
    "    &emsp; job_postings_fact.job_location,  \n",
    "    &emsp; skills_dim.skills\n",
    "    \n",
    "FROM   \n",
    "    &emsp; job_postings_fact  \n",
    "    \n",
    "LEFT JOIN skills_job_dim ON job_postings_fact.job_id = skills_job_dim.job_id  \n",
    "LEFT JOIN skills_dim ON skills_dim.skill_id = skills_job_dim.skill_id  \n",
    "\n",
    "WHERE  \n",
    "    &emsp; job_postings_fact.job_location = 'New York'  \n",
    "    &emsp; AND  \n",
    "    &emsp; job_postings_fact.job_health_insurance = '1'  "
   ]
  },
  {
   "cell_type": "markdown",
   "id": "a8b01358-7139-4a7a-b4c4-f0768bf03d43",
   "metadata": {
    "jp-MarkdownHeadingCollapsed": true
   },
   "source": [
    "# Order of execution"
   ]
  },
  {
   "cell_type": "markdown",
   "id": "e3f6a3df-5492-4597-97cb-a5289dfee2b9",
   "metadata": {},
   "source": [
    "### Order or writing  \n"
   ]
  },
  {
   "cell_type": "markdown",
   "id": "17b7ba54-e13a-4d98-9203-2c154ae1b6a2",
   "metadata": {},
   "source": [
    "1. SELECT\n",
    "2. FROM\n",
    "3. JOINs\n",
    "4. WHERE\n",
    "5. GROUP BY\n",
    "6. HAVING\n",
    "7. ORDER BY\n",
    "8. LIMIT"
   ]
  },
  {
   "cell_type": "markdown",
   "id": "7b2d8f93-0098-48a8-ad39-d6dc9c58be68",
   "metadata": {},
   "source": [
    "### Order of Execution"
   ]
  },
  {
   "cell_type": "markdown",
   "id": "83a4501f-eb4e-4aad-8d88-de7beb921dae",
   "metadata": {},
   "source": [
    "1. FROM  \n",
    "2. JOIN (combined with FROM as part of building the dataset)  \n",
    "3. WHERE (filters rows before grouping)  \n",
    "4. GROUP BY (groups the filtered rows)  \n",
    "5. HAVING (filters groups after grouping)\n",
    "6. SELECT (picks the columns or expressions to return)\n",
    "7. ORDER BY (sorts the result set)\n",
    "8. LIMIT (restricts the number of rows returned)"
   ]
  },
  {
   "cell_type": "markdown",
   "id": "bf238dc3-14f8-4b1a-a92a-b78c2106f0ca",
   "metadata": {
    "jp-MarkdownHeadingCollapsed": true
   },
   "source": [
    "# Practice problem 5"
   ]
  },
  {
   "cell_type": "markdown",
   "id": "effd835a-dc82-44e7-bfac-0faae1758ca3",
   "metadata": {},
   "source": [
    "Find the average salary and number of jobs postings for each skill for this:    \n",
    "-  Write a query to list each unique skill from the skills_dim table\n",
    "-  Count how many job postings mention each skill from the skills_job_dim table\n",
    "-  Calculate the average yearly salary for job postings associated with each skill\n",
    "-  Group the results by the name of the skill name\n",
    "-  Order by average salary\n",
    "Hint: use LEFT JOIN to combine skills_dim, skills_job_dim and job_posting_fact tables"
   ]
  },
  {
   "cell_type": "markdown",
   "id": "d3dd9537-c81e-450b-9c29-f9f62ef43b0a",
   "metadata": {},
   "source": [
    "### Solution"
   ]
  },
  {
   "cell_type": "markdown",
   "id": "d6f79a9e-0083-4664-8be2-890bad58f6fc",
   "metadata": {},
   "source": [
    "/* skills_dim table has skills and skill_id columns  \n",
    "skill-job dim table has skill_id and job_id columns  \n",
    "job fact table has job_id and salary_year_avg columns, so  \n",
    "import skills_dim table first then left join skill-job dim table and job_postings_fact tables  \n",
    "*/\n",
    "\n",
    "\n",
    "SELECT  \n",
    "    &emsp; DISTINCT(skills_dim.skills) AS skill_name,  \n",
    "    &emsp; COUNT(skills_job_dim.job_id) AS number_of_job_postings,  \n",
    "    &emsp; AVG(job_postings_fact.salary_year_avg) AS avg_yearly_salary_per_skill  \n",
    "FROM skills_dim  \n",
    "LEFT JOIN skills_job_dim ON skills_dim.skill_id = skills_job_dim.skill_id  \n",
    "LEFT JOIN job_postings_fact ON job_postings_fact.job_id = skills_job_dim.job_id  \n",
    "GROUP BY  \n",
    "    &emsp; skills_dim.skills  \n",
    "ORDER BY avg_yearly_salary_per_skill DESC  \n",
    "    "
   ]
  },
  {
   "cell_type": "markdown",
   "id": "b37a27c6-e718-4fe4-916c-11a45c46ac10",
   "metadata": {},
   "source": [
    "# ADVANCED; PostgreSQL"
   ]
  },
  {
   "cell_type": "code",
   "execution_count": null,
   "id": "fea93947-d7fe-44c2-a900-e28ac1d29ce3",
   "metadata": {},
   "outputs": [],
   "source": []
  }
 ],
 "metadata": {
  "kernelspec": {
   "display_name": "Python 3 (ipykernel)",
   "language": "python",
   "name": "python3"
  },
  "language_info": {
   "codemirror_mode": {
    "name": "ipython",
    "version": 3
   },
   "file_extension": ".py",
   "mimetype": "text/x-python",
   "name": "python",
   "nbconvert_exporter": "python",
   "pygments_lexer": "ipython3",
   "version": "3.10.12"
  }
 },
 "nbformat": 4,
 "nbformat_minor": 5
}
