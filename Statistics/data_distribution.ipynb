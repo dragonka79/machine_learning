{
 "cells": [
  {
   "cell_type": "code",
   "execution_count": 2,
   "id": "8a6aa49b-b6ba-4253-9fec-cf159034b2dc",
   "metadata": {},
   "outputs": [
    {
     "data": {
      "text/html": [
       "<div>\n",
       "<style scoped>\n",
       "    .dataframe tbody tr th:only-of-type {\n",
       "        vertical-align: middle;\n",
       "    }\n",
       "\n",
       "    .dataframe tbody tr th {\n",
       "        vertical-align: top;\n",
       "    }\n",
       "\n",
       "    .dataframe thead th {\n",
       "        text-align: right;\n",
       "    }\n",
       "</style>\n",
       "<table border=\"1\" class=\"dataframe\">\n",
       "  <thead>\n",
       "    <tr style=\"text-align: right;\">\n",
       "      <th></th>\n",
       "      <th>State</th>\n",
       "      <th>Population</th>\n",
       "      <th>Murder.Rate</th>\n",
       "      <th>Abbreviation</th>\n",
       "    </tr>\n",
       "  </thead>\n",
       "  <tbody>\n",
       "    <tr>\n",
       "      <th>0</th>\n",
       "      <td>Alabama</td>\n",
       "      <td>4779736</td>\n",
       "      <td>5.7</td>\n",
       "      <td>AL</td>\n",
       "    </tr>\n",
       "    <tr>\n",
       "      <th>1</th>\n",
       "      <td>Alaska</td>\n",
       "      <td>710231</td>\n",
       "      <td>5.6</td>\n",
       "      <td>AK</td>\n",
       "    </tr>\n",
       "    <tr>\n",
       "      <th>2</th>\n",
       "      <td>Arizona</td>\n",
       "      <td>6392017</td>\n",
       "      <td>4.7</td>\n",
       "      <td>AZ</td>\n",
       "    </tr>\n",
       "    <tr>\n",
       "      <th>3</th>\n",
       "      <td>Arkansas</td>\n",
       "      <td>2915918</td>\n",
       "      <td>5.6</td>\n",
       "      <td>AR</td>\n",
       "    </tr>\n",
       "    <tr>\n",
       "      <th>4</th>\n",
       "      <td>California</td>\n",
       "      <td>37253956</td>\n",
       "      <td>4.4</td>\n",
       "      <td>CA</td>\n",
       "    </tr>\n",
       "  </tbody>\n",
       "</table>\n",
       "</div>"
      ],
      "text/plain": [
       "        State  Population  Murder.Rate Abbreviation\n",
       "0     Alabama     4779736          5.7           AL\n",
       "1      Alaska      710231          5.6           AK\n",
       "2     Arizona     6392017          4.7           AZ\n",
       "3    Arkansas     2915918          5.6           AR\n",
       "4  California    37253956          4.4           CA"
      ]
     },
     "execution_count": 2,
     "metadata": {},
     "output_type": "execute_result"
    }
   ],
   "source": [
    "import pandas as pd\n",
    "import numpy as np\n",
    "from scipy.stats import trim_mean\n",
    "import wquantiles\n",
    "\n",
    "df = pd.read_csv('data/state.csv')\n",
    "df.head()"
   ]
  },
  {
   "cell_type": "markdown",
   "id": "00e61cdb-014e-49a2-b6e6-165576da76cf",
   "metadata": {},
   "source": [
    "### Boxplots"
   ]
  },
  {
   "cell_type": "code",
   "execution_count": 3,
   "id": "4f84a4e1-3715-405c-84cc-16a927d4358b",
   "metadata": {},
   "outputs": [
    {
     "data": {
      "text/plain": [
       "Text(0, 0.5, 'Population (millions)')"
      ]
     },
     "execution_count": 3,
     "metadata": {},
     "output_type": "execute_result"
    },
    {
     "data": {
      "image/png": "[encoded data removed]",
      "text/plain": [
       "<Figure size 640x480 with 1 Axes>"
      ]
     },
     "metadata": {},
     "output_type": "display_data"
    }
   ],
   "source": [
    "ax = (df['Population']/1_000_000).plot.box()\n",
    "ax.set_ylabel('Population (millions)')"
   ]
  },
  {
   "cell_type": "markdown",
   "id": "1c99d19a-0438-4934-ae59-4518776a02f8",
   "metadata": {},
   "source": [
    "**Median**: the horizontal line in the box.  \n",
    "The top and bottom of the box are the 75th and 25th **percentiles**, respectively.  \n",
    "**Circles**: outliers  "
   ]
  },
  {
   "cell_type": "markdown",
   "id": "0c8bbeb7-ba40-4e20-95f2-c203250d6493",
   "metadata": {},
   "source": [
    "### Frequency tables  \n",
    "A frequency table of a variable divides up the variable range into equally spaced segments and tells us how many values fall within each segment."
   ]
  },
  {
   "cell_type": "markdown",
   "id": "5ecc64ad-c273-4f93-95d4-7b54e5b220ac",
   "metadata": {},
   "source": [
    "#### Simple frequency table - showing frequency distribution"
   ]
  },
  {
   "cell_type": "code",
   "execution_count": 4,
   "id": "34c355c7-ce1c-4d46-a47b-a3d930aa963d",
   "metadata": {},
   "outputs": [
    {
     "data": {
      "text/plain": [
       "Population\n",
       "(526935.67, 4232659.0]      24\n",
       "(4232659.0, 7901692.0]      14\n",
       "(7901692.0, 11570725.0]      6\n",
       "(11570725.0, 15239758.0]     2\n",
       "(15239758.0, 18908791.0]     1\n",
       "(18908791.0, 22577824.0]     1\n",
       "(22577824.0, 26246857.0]     1\n",
       "(33584923.0, 37253956.0]     1\n",
       "(26246857.0, 29915890.0]     0\n",
       "(29915890.0, 33584923.0]     0\n",
       "Name: count, dtype: int64"
      ]
     },
     "execution_count": 4,
     "metadata": {},
     "output_type": "execute_result"
    }
   ],
   "source": [
    "binnedPopulation = pd.cut(df['Population'], 10)\n",
    "binnedPopulation.value_counts()"
   ]
  },
  {
   "cell_type": "markdown",
   "id": "99ad9662-3d50-4820-a6f7-f08b36f05d71",
   "metadata": {},
   "source": [
    "#### Formatted frequency table, elevated readability"
   ]
  },
  {
   "cell_type": "code",
   "execution_count": 5,
   "id": "5e59a4a1-0642-4d0f-9846-55dc9d63026c",
   "metadata": {},
   "outputs": [
    {
     "name": "stderr",
     "output_type": "stream",
     "text": [
      "/tmp/ipykernel_46250/948058491.py:6: FutureWarning: The default of observed=False is deprecated and will be changed to True in a future version of pandas. Pass observed=False to retain current behavior or observed=True to adopt the future default and silence this warning.\n",
      "  df.groupby(\"PopulationBin\")\n"
     ]
    },
    {
     "data": {
      "text/html": [
       "<style type=\"text/css\">\n",
       "#T_c094e th {\n",
       "  font-weight: bold;\n",
       "  text-align: center;\n",
       "}\n",
       "#T_c094e td {\n",
       "  text-align: left;\n",
       "}\n",
       "</style>\n",
       "<table id=\"T_c094e\">\n",
       "  <thead>\n",
       "    <tr>\n",
       "      <th id=\"T_c094e_level0_col0\" class=\"col_heading level0 col0\" >PopulationBin</th>\n",
       "      <th id=\"T_c094e_level0_col1\" class=\"col_heading level0 col1\" >Number_of_States</th>\n",
       "      <th id=\"T_c094e_level0_col2\" class=\"col_heading level0 col2\" >States</th>\n",
       "    </tr>\n",
       "  </thead>\n",
       "  <tbody>\n",
       "    <tr>\n",
       "      <td id=\"T_c094e_row0_col0\" class=\"data row0 col0\" >526,936 – 4,232,659</td>\n",
       "      <td id=\"T_c094e_row0_col1\" class=\"data row0 col1\" >24</td>\n",
       "      <td id=\"T_c094e_row0_col2\" class=\"data row0 col2\" >Alaska, Arkansas, Connecticut, Delaware, Hawaii, Idaho, Iowa, Kansas, Maine, Mississippi, Montana, Nebraska, Nevada, New Hampshire, New Mexico, North Dakota, Oklahoma, Oregon, Rhode Island, South Dakota, Utah, Vermont, West Virginia, Wyoming</td>\n",
       "    </tr>\n",
       "    <tr>\n",
       "      <td id=\"T_c094e_row1_col0\" class=\"data row1 col0\" >4,232,659 – 7,901,692</td>\n",
       "      <td id=\"T_c094e_row1_col1\" class=\"data row1 col1\" >14</td>\n",
       "      <td id=\"T_c094e_row1_col2\" class=\"data row1 col2\" >Alabama, Arizona, Colorado, Indiana, Kentucky, Louisiana, Maryland, Massachusetts, Minnesota, Missouri, South Carolina, Tennessee, Washington, Wisconsin</td>\n",
       "    </tr>\n",
       "    <tr>\n",
       "      <td id=\"T_c094e_row2_col0\" class=\"data row2 col0\" >7,901,692 – 11,570,725</td>\n",
       "      <td id=\"T_c094e_row2_col1\" class=\"data row2 col1\" >6</td>\n",
       "      <td id=\"T_c094e_row2_col2\" class=\"data row2 col2\" >Georgia, Michigan, New Jersey, North Carolina, Ohio, Virginia</td>\n",
       "    </tr>\n",
       "    <tr>\n",
       "      <td id=\"T_c094e_row3_col0\" class=\"data row3 col0\" >11,570,725 – 15,239,758</td>\n",
       "      <td id=\"T_c094e_row3_col1\" class=\"data row3 col1\" >2</td>\n",
       "      <td id=\"T_c094e_row3_col2\" class=\"data row3 col2\" >Illinois, Pennsylvania</td>\n",
       "    </tr>\n",
       "    <tr>\n",
       "      <td id=\"T_c094e_row4_col0\" class=\"data row4 col0\" >15,239,758 – 18,908,791</td>\n",
       "      <td id=\"T_c094e_row4_col1\" class=\"data row4 col1\" >1</td>\n",
       "      <td id=\"T_c094e_row4_col2\" class=\"data row4 col2\" >Florida</td>\n",
       "    </tr>\n",
       "    <tr>\n",
       "      <td id=\"T_c094e_row5_col0\" class=\"data row5 col0\" >18,908,791 – 22,577,824</td>\n",
       "      <td id=\"T_c094e_row5_col1\" class=\"data row5 col1\" >1</td>\n",
       "      <td id=\"T_c094e_row5_col2\" class=\"data row5 col2\" >New York</td>\n",
       "    </tr>\n",
       "    <tr>\n",
       "      <td id=\"T_c094e_row6_col0\" class=\"data row6 col0\" >22,577,824 – 26,246,857</td>\n",
       "      <td id=\"T_c094e_row6_col1\" class=\"data row6 col1\" >1</td>\n",
       "      <td id=\"T_c094e_row6_col2\" class=\"data row6 col2\" >Texas</td>\n",
       "    </tr>\n",
       "    <tr>\n",
       "      <td id=\"T_c094e_row7_col0\" class=\"data row7 col0\" >26,246,857 – 29,915,890</td>\n",
       "      <td id=\"T_c094e_row7_col1\" class=\"data row7 col1\" >0</td>\n",
       "      <td id=\"T_c094e_row7_col2\" class=\"data row7 col2\" ></td>\n",
       "    </tr>\n",
       "    <tr>\n",
       "      <td id=\"T_c094e_row8_col0\" class=\"data row8 col0\" >29,915,890 – 33,584,923</td>\n",
       "      <td id=\"T_c094e_row8_col1\" class=\"data row8 col1\" >0</td>\n",
       "      <td id=\"T_c094e_row8_col2\" class=\"data row8 col2\" ></td>\n",
       "    </tr>\n",
       "    <tr>\n",
       "      <td id=\"T_c094e_row9_col0\" class=\"data row9 col0\" >33,584,923 – 37,253,956</td>\n",
       "      <td id=\"T_c094e_row9_col1\" class=\"data row9 col1\" >1</td>\n",
       "      <td id=\"T_c094e_row9_col2\" class=\"data row9 col2\" >California</td>\n",
       "    </tr>\n",
       "  </tbody>\n",
       "</table>\n"
      ],
      "text/plain": [
       "<pandas.io.formats.style.Styler at 0x7f9cde230430>"
      ]
     },
     "execution_count": 5,
     "metadata": {},
     "output_type": "execute_result"
    }
   ],
   "source": [
    "# Cut Population into 10 bins\n",
    "df[\"PopulationBin\"] = pd.cut(df[\"Population\"], bins=10)\n",
    "\n",
    "# Group by bins: count states + list state names\n",
    "population_freq = (\n",
    "    df.groupby(\"PopulationBin\")\n",
    "      .agg(\n",
    "          Number_of_States=(\"State\", \"count\"),\n",
    "          States=(\"State\", lambda x: \", \".join(x))\n",
    "      )\n",
    "      .reset_index()\n",
    ")\n",
    "\n",
    "# Style the table for Jupyter with thousand separators\n",
    "styled_table = (\n",
    "    population_freq.style\n",
    "    .format({\n",
    "        \"Number_of_States\": \"{:,}\",  # add comma as thousand separator\n",
    "        \"PopulationBin\": lambda x: f\"{x.left:,.0f} – {x.right:,.0f}\"\n",
    "    })\n",
    "    .set_table_styles(\n",
    "        [\n",
    "            {\"selector\": \"th\", \"props\": [(\"font-weight\", \"bold\"), (\"text-align\", \"center\")]},\n",
    "            {\"selector\": \"td\", \"props\": [(\"text-align\", \"left\")]}\n",
    "        ]\n",
    "    )\n",
    "    .hide(axis=\"index\")   # hide the pandas index\n",
    ")\n",
    "\n",
    "styled_table"
   ]
  },
  {
   "cell_type": "markdown",
   "id": "f16b7526-e8ac-446f-b5be-a6c0dd220f57",
   "metadata": {},
   "source": [
    "### Histogram"
   ]
  },
  {
   "cell_type": "code",
   "execution_count": 8,
   "id": "cad4c108-1507-4c26-b974-99e58f0de29c",
   "metadata": {},
   "outputs": [
    {
     "data": {
      "text/plain": [
       "Text(0.5, 0, 'Population (millions)')"
      ]
     },
     "execution_count": 8,
     "metadata": {},
     "output_type": "execute_result"
    },
    {
     "data": {
      "image/png": "[encoded data removed]",
      "text/plain": [
       "<Figure size 600x400 with 1 Axes>"
      ]
     },
     "metadata": {},
     "output_type": "display_data"
    }
   ],
   "source": [
    "ax = (df['Population'] / 1_000_000).plot.hist(bins=10,figsize=(6, 4), color = 'orange', edgecolor = 'blue')\n",
    "ax.set_xlabel('Population (millions)')"
   ]
  },
  {
   "cell_type": "markdown",
   "id": "a75b9a3b-2b6c-45fb-ac71-889d7ef6deeb",
   "metadata": {},
   "source": [
    "### Density plot - Sűrűségdiagram"
   ]
  },
  {
   "cell_type": "code",
   "execution_count": 7,
   "id": "7ca061e5-f610-4fbd-965f-673b8c629f08",
   "metadata": {},
   "outputs": [
    {
     "data": {
      "text/plain": [
       "Text(0.5, 0, 'Murder Rate (per 100,000)')"
      ]
     },
     "execution_count": 7,
     "metadata": {},
     "output_type": "execute_result"
    },
    {
     "data": {
      "image/png": "[encoded data removed]",
      "text/plain": [
       "<Figure size 640x480 with 1 Axes>"
      ]
     },
     "metadata": {},
     "output_type": "display_data"
    }
   ],
   "source": [
    "ax = df['Murder.Rate'].plot.hist(density=True, xlim=[0,12], bins=range(1,12))\n",
    "df['Murder.Rate'].plot.density(ax=ax)\n",
    "ax.set_xlabel('Murder Rate (per 100,000)')"
   ]
  },
  {
   "cell_type": "code",
   "execution_count": null,
   "id": "908f541e-7e75-406b-9dc7-dfdb48e2ef21",
   "metadata": {},
   "outputs": [],
   "source": []
  }
 ],
 "metadata": {
  "kernelspec": {
   "display_name": "Python 3 (ipykernel)",
   "language": "python",
   "name": "python3"
  },
  "language_info": {
   "codemirror_mode": {
    "name": "ipython",
    "version": 3
   },
   "file_extension": ".py",
   "mimetype": "text/x-python",
   "name": "python",
   "nbconvert_exporter": "python",
   "pygments_lexer": "ipython3",
   "version": "3.10.12"
  }
 },
 "nbformat": 4,
 "nbformat_minor": 5
}
