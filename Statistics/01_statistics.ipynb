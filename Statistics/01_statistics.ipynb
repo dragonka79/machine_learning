{
 "cells": [
  {
   "cell_type": "markdown",
   "id": "8f910926-85ff-4186-a8a9-64d23bc40aa5",
   "metadata": {},
   "source": [
    "## Calculating mean, trimmed mean, median, weighted mean and weighted median"
   ]
  },
  {
   "cell_type": "markdown",
   "id": "6ed210bf-21cd-4f16-8ed8-c16f48293f9d",
   "metadata": {},
   "source": [
    "\n",
    "• The basic metric for location is the mean, but it can be sensitive to extreme values (outlier).  \n",
    "• Other metrics (median, trimmed mean) are less sensitive to outliers and unusual distributions and hence are more robust.  "
   ]
  },
  {
   "cell_type": "markdown",
   "id": "9a01edcb-c495-465c-939b-ca0743cd394b",
   "metadata": {},
   "source": [
    "#### The Data"
   ]
  },
  {
   "cell_type": "code",
   "execution_count": 2,
   "id": "8a6aa49b-b6ba-4253-9fec-cf159034b2dc",
   "metadata": {},
   "outputs": [
    {
     "data": {
      "text/html": [
       "<div>\n",
       "<style scoped>\n",
       "    .dataframe tbody tr th:only-of-type {\n",
       "        vertical-align: middle;\n",
       "    }\n",
       "\n",
       "    .dataframe tbody tr th {\n",
       "        vertical-align: top;\n",
       "    }\n",
       "\n",
       "    .dataframe thead th {\n",
       "        text-align: right;\n",
       "    }\n",
       "</style>\n",
       "<table border=\"1\" class=\"dataframe\">\n",
       "  <thead>\n",
       "    <tr style=\"text-align: right;\">\n",
       "      <th></th>\n",
       "      <th>State</th>\n",
       "      <th>Population</th>\n",
       "      <th>Murder.Rate</th>\n",
       "      <th>Abbreviation</th>\n",
       "    </tr>\n",
       "  </thead>\n",
       "  <tbody>\n",
       "    <tr>\n",
       "      <th>0</th>\n",
       "      <td>Alabama</td>\n",
       "      <td>4779736</td>\n",
       "      <td>5.7</td>\n",
       "      <td>AL</td>\n",
       "    </tr>\n",
       "    <tr>\n",
       "      <th>1</th>\n",
       "      <td>Alaska</td>\n",
       "      <td>710231</td>\n",
       "      <td>5.6</td>\n",
       "      <td>AK</td>\n",
       "    </tr>\n",
       "    <tr>\n",
       "      <th>2</th>\n",
       "      <td>Arizona</td>\n",
       "      <td>6392017</td>\n",
       "      <td>4.7</td>\n",
       "      <td>AZ</td>\n",
       "    </tr>\n",
       "    <tr>\n",
       "      <th>3</th>\n",
       "      <td>Arkansas</td>\n",
       "      <td>2915918</td>\n",
       "      <td>5.6</td>\n",
       "      <td>AR</td>\n",
       "    </tr>\n",
       "    <tr>\n",
       "      <th>4</th>\n",
       "      <td>California</td>\n",
       "      <td>37253956</td>\n",
       "      <td>4.4</td>\n",
       "      <td>CA</td>\n",
       "    </tr>\n",
       "  </tbody>\n",
       "</table>\n",
       "</div>"
      ],
      "text/plain": [
       "        State  Population  Murder.Rate Abbreviation\n",
       "0     Alabama     4779736          5.7           AL\n",
       "1      Alaska      710231          5.6           AK\n",
       "2     Arizona     6392017          4.7           AZ\n",
       "3    Arkansas     2915918          5.6           AR\n",
       "4  California    37253956          4.4           CA"
      ]
     },
     "execution_count": 2,
     "metadata": {},
     "output_type": "execute_result"
    }
   ],
   "source": [
    "import pandas as pd\n",
    "import numpy as np\n",
    "from scipy.stats import trim_mean\n",
    "import wquantiles\n",
    "\n",
    "df = pd.read_csv('data/state.csv')\n",
    "df.head()"
   ]
  },
  {
   "cell_type": "markdown",
   "id": "03828d76-a725-4305-9b7a-bd007385a6a7",
   "metadata": {},
   "source": [
    "#### Mean"
   ]
  },
  {
   "cell_type": "code",
   "execution_count": 3,
   "id": "5d482401-51bb-4adb-b394-726e411839f2",
   "metadata": {},
   "outputs": [
    {
     "data": {
      "text/plain": [
       "np.float64(6162876.3)"
      ]
     },
     "execution_count": 3,
     "metadata": {},
     "output_type": "execute_result"
    }
   ],
   "source": [
    "df['Population'].mean()"
   ]
  },
  {
   "cell_type": "markdown",
   "id": "d2feb262-0704-4234-968c-ef7eed5e2174",
   "metadata": {},
   "source": [
    "#### Trimmed mean"
   ]
  },
  {
   "cell_type": "code",
   "execution_count": 4,
   "id": "2620283b-c122-4497-85ac-df4e7f8ca880",
   "metadata": {},
   "outputs": [
    {
     "data": {
      "text/plain": [
       "np.float64(4783697.125)"
      ]
     },
     "execution_count": 4,
     "metadata": {},
     "output_type": "execute_result"
    }
   ],
   "source": [
    "trim_mean(df['Population'], 0.1) # drop 10% from each end"
   ]
  },
  {
   "cell_type": "markdown",
   "id": "fef2faa8-3957-49c6-938c-84075aca098e",
   "metadata": {},
   "source": [
    "#### Median"
   ]
  },
  {
   "cell_type": "code",
   "execution_count": 5,
   "id": "f423f7a2-4e40-4490-9a62-ae6d5e6299d8",
   "metadata": {},
   "outputs": [
    {
     "data": {
      "text/plain": [
       "np.float64(4436369.5)"
      ]
     },
     "execution_count": 5,
     "metadata": {},
     "output_type": "execute_result"
    }
   ],
   "source": [
    "df['Population'].median()"
   ]
  },
  {
   "cell_type": "markdown",
   "id": "3b706e15-23b7-4351-a350-954c0a993f42",
   "metadata": {},
   "source": [
    "#### Weighted mean"
   ]
  },
  {
   "cell_type": "code",
   "execution_count": 6,
   "id": "2bdfbccb-1be1-4b0a-a716-03d858b76e91",
   "metadata": {},
   "outputs": [
    {
     "data": {
      "text/plain": [
       "np.float64(4.445833981123393)"
      ]
     },
     "execution_count": 6,
     "metadata": {},
     "output_type": "execute_result"
    }
   ],
   "source": [
    "np.average(df['Murder.Rate'], weights=df['Population'])"
   ]
  },
  {
   "cell_type": "markdown",
   "id": "100d4d53-532c-4ea4-905f-c5ad91b3207a",
   "metadata": {},
   "source": [
    "#### Weighted median"
   ]
  },
  {
   "cell_type": "code",
   "execution_count": 7,
   "id": "542403d1-7214-4b22-bb70-3ba6961e1a0d",
   "metadata": {},
   "outputs": [
    {
     "data": {
      "text/plain": [
       "np.float64(4.4)"
      ]
     },
     "execution_count": 7,
     "metadata": {},
     "output_type": "execute_result"
    }
   ],
   "source": [
    "wquantiles.median(df['Murder.Rate'], weights=df['Population'])"
   ]
  },
  {
   "cell_type": "markdown",
   "id": "8f8b90df-3a1d-4790-ab08-c06d2b0a2bf6",
   "metadata": {},
   "source": [
    "## Variability (dispersion)"
   ]
  },
  {
   "cell_type": "markdown",
   "id": "32904599-09af-4f5d-b869-56e44c08024b",
   "metadata": {},
   "source": [
    "Variability measures how tightly the data are clustered; how close the values are to each other.  \n",
    "\n",
    "- **Deviation (error, residual)**: the difference between the measured values and the estimate values.  \n",
    "- **Variance(szórásnégyzet)**: measures of how spread out data points are from the mean, calculates the average of the squared differences between each observer data point and the mean, so:  \n",
    "Calculate the difference between the data point and the mean for each data point, then raise them to the power of two individually, then sum those powers up, then divide the sum by (the number of the data point -1):   \n",
    "$s^2 = \\frac{\\sum_{i=1}^{N}(x_{i}-\\bar{x})^2}{n-1}$  \n",
    "- **Standard deviation (szórás)**: The square root of the variance.  s= $\\sqrt{variance}$  \n",
    "- **Mean absolute deviation**: The mean of the absolute values of the deviations from the mean = $\\frac{\\sum_{i=1}^{N}|x_{i}-\\bar{x}|}{n-1}$  \n",
    "- **Median absolute deviation from the median**: The median of the absolute values of the deviations from the median.  \n",
    "- **Range**: The difference between the largest and the smallest value in a data set.  \n",
    "- **P percentile**: This is the value at which P% of the data is less than the value, and (100 - P)% is greater than the value (or equal to it).  \n",
    "e.g. 10%: 10% of the data is less than the value and 90% is greater than (or equal to) the value.  \n",
    "Median = 50th percentile  \n",
    "- **Interquartile range (IQR)**: The difference between the 75th percentile and the 25th percentile  "
   ]
  },
  {
   "cell_type": "markdown",
   "id": "3f6b578b-51ec-4702-97cf-7c6f5b10a8ae",
   "metadata": {},
   "source": [
    "The variance and standard devia‐tion are especially sensitive to outliers.  \n",
    "A robust estimate of variability is the median absolute deviation from the median or MAD:  \n",
    "**Median absolute deviation** = $Median(|x_{1} − m|, |x_{2} − m| , ..., |x_{N} − m|)$  \n",
    "Like the median, the MAD is not influenced by extreme values."
   ]
  },
  {
   "cell_type": "markdown",
   "id": "d2e306af-a5b4-41b7-a8c4-49b9f09c535e",
   "metadata": {},
   "source": [
    "#### Pth Percentile"
   ]
  },
  {
   "cell_type": "markdown",
   "id": "2ae7727f-91e1-411d-b662-28e06ccf28e5",
   "metadata": {},
   "source": [
    "To find 60th percentile of the data set, say we have 100 data is this set,  order the data, from the lowest to the highest value, then pick the 60th data in this order: that will be the 60th percentile of the data set.  \n",
    "Note: the 60th percentile is equal to .6 *quantile*.  "
   ]
  },
  {
   "cell_type": "markdown",
   "id": "878498e5-ceb5-442e-899f-19df56b16514",
   "metadata": {},
   "source": [
    "#### Standard deviation"
   ]
  },
  {
   "cell_type": "code",
   "execution_count": 8,
   "id": "337c71f6-f3bd-4e3c-bb4f-64e651c051b0",
   "metadata": {},
   "outputs": [
    {
     "data": {
      "text/plain": [
       "np.float64(6848235.347401142)"
      ]
     },
     "execution_count": 8,
     "metadata": {},
     "output_type": "execute_result"
    }
   ],
   "source": [
    "import statsmodels\n",
    "\n",
    "df['Population'].std()\n"
   ]
  },
  {
   "cell_type": "markdown",
   "id": "71eb59ac-058c-4d3f-a0ad-83b3724d3ed1",
   "metadata": {},
   "source": [
    "#### IQR"
   ]
  },
  {
   "cell_type": "code",
   "execution_count": 9,
   "id": "801f59f8-1181-4b88-b0b2-d6d4465c673a",
   "metadata": {},
   "outputs": [
    {
     "data": {
      "text/plain": [
       "np.float64(4847308.0)"
      ]
     },
     "execution_count": 9,
     "metadata": {},
     "output_type": "execute_result"
    }
   ],
   "source": [
    "df['Population'].quantile(0.75) - df['Population'].quantile(0.25)\n"
   ]
  },
  {
   "cell_type": "markdown",
   "id": "aca13420-07eb-4680-a75b-148ec2d291f8",
   "metadata": {},
   "source": [
    "#### MAD"
   ]
  },
  {
   "cell_type": "code",
   "execution_count": 10,
   "id": "88616616-e3fc-4109-9e77-164d336d4541",
   "metadata": {},
   "outputs": [
    {
     "data": {
      "text/plain": [
       "np.float64(3849876.1459979336)"
      ]
     },
     "execution_count": 10,
     "metadata": {},
     "output_type": "execute_result"
    }
   ],
   "source": [
    "from statsmodels.robust.scale import mad\n",
    "# mad(df['Population'])\n",
    "\n",
    "statsmodels.robust.scale.mad(df['Population'])"
   ]
  },
  {
   "cell_type": "markdown",
   "id": "711093de-b33d-4049-8d08-b361d4d254d7",
   "metadata": {},
   "source": [
    "## Data Distribution"
   ]
  },
  {
   "cell_type": "markdown",
   "id": "c18cc793-2c5a-4b09-8880-38e7a11284d9",
   "metadata": {},
   "source": [
    "### Boxplots\n",
    "A quick way to visualize the distribution of data. Are based on percentiles and give a quick way to visualize the distribution of data."
   ]
  },
  {
   "cell_type": "markdown",
   "id": "4e3dc46f-4d54-40ad-a43b-7cec1c079fbf",
   "metadata": {},
   "source": [
    "### Frequency tables, histograms and density plots"
   ]
  },
  {
   "cell_type": "markdown",
   "id": "d7428eca-df30-418e-a0aa-eeadcd2e6a7e",
   "metadata": {},
   "source": [
    "A **frequency table** of a variable divides up the variable range into equally spaced segments and tells us how many values fall within each segment.  \n",
    "A **histogram** is a way to visualize a frequency table, with bins on the x-axis and the data count on the y-axis.  \n",
    "A **density plot** shows the distribution of data valuesas a continuous line."
   ]
  },
  {
   "cell_type": "markdown",
   "id": "2bc5c8c2-9b80-4969-88b2-ca407e2307c7",
   "metadata": {},
   "source": [
    "#### Density plot  \n",
    "The total area under the density curve = 1, and instead of counts in bins you calculate areas under the curve between any two points on the x-axis, which correspond to the proportion ofthe distribution lying between those two points."
   ]
  },
  {
   "cell_type": "code",
   "execution_count": 11,
   "id": "7a7d28e9-3216-480a-ba9c-5f9798ca8ea6",
   "metadata": {},
   "outputs": [
    {
     "data": {
      "text/plain": [
       "Text(0.5, 0, 'Murder Rate (per 100,000)')"
      ]
     },
     "execution_count": 11,
     "metadata": {},
     "output_type": "execute_result"
    },
    {
     "data": {
      "image/png": "[encoded data removed]",
      "text/plain": [
       "<Figure size 640x480 with 1 Axes>"
      ]
     },
     "metadata": {},
     "output_type": "display_data"
    }
   ],
   "source": [
    "ax = df['Murder.Rate'].plot.hist(density=True, xlim=[0,12], bins=range(1,12))\n",
    "df['Murder.Rate'].plot.density(ax=ax)\n",
    "ax.set_xlabel('Murder Rate (per 100,000)')"
   ]
  },
  {
   "cell_type": "code",
   "execution_count": null,
   "id": "30b39cb7-706f-45d1-85e3-9bd7f209e314",
   "metadata": {},
   "outputs": [],
   "source": []
  }
 ],
 "metadata": {
  "kernelspec": {
   "display_name": "Python 3 (ipykernel)",
   "language": "python",
   "name": "python3"
  },
  "language_info": {
   "codemirror_mode": {
    "name": "ipython",
    "version": 3
   },
   "file_extension": ".py",
   "mimetype": "text/x-python",
   "name": "python",
   "nbconvert_exporter": "python",
   "pygments_lexer": "ipython3",
   "version": "3.10.12"
  }
 },
 "nbformat": 4,
 "nbformat_minor": 5
}
