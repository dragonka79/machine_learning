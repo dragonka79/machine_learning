{
 "cells": [
  {
   "cell_type": "code",
   "execution_count": 47,
   "id": "33f1d349-5523-4ec9-9d0b-ed7a53b7fe46",
   "metadata": {},
   "outputs": [],
   "source": [
    "import jellyfish"
   ]
  },
  {
   "cell_type": "code",
   "execution_count": 48,
   "id": "25cce047-ff67-432b-834c-53079e7724d7",
   "metadata": {},
   "outputs": [
    {
     "data": {
      "text/plain": [
       "(['Debrecen',\n",
       "  'Budapest',\n",
       "  'budapest',\n",
       "  'debrecen',\n",
       "  'Bduapets',\n",
       "  'Budapest',\n",
       "  'Budalest',\n",
       "  'budapes',\n",
       "  'Debrecen',\n",
       "  'derbrecen',\n",
       "  'Debercen',\n",
       "  'Debrecen'],\n",
       " ['Futapest', 'dabratyin', 'necerbed'])"
      ]
     },
     "execution_count": 48,
     "metadata": {},
     "output_type": "execute_result"
    }
   ],
   "source": [
    "varosnevek = [\n",
    " 'Debrecen', 'Budapest', 'budapest', 'Futapest','debrecen', 'dabratyin',\n",
    " 'necerbed', 'Bduapets', 'Budapest', 'Budalest', 'budapes', 'Debrecen',\n",
    " 'derbrecen', 'Debercen', 'Debrecen'\n",
    "]\n",
    "\n",
    "varoslista = ['Debrecen', 'Budapest']\n",
    "hasonlo_lista = []\n",
    "nem_hasonlo_lista = []\n",
    "\n",
    "threshold = 0.9\n",
    "\n",
    "for j in varosnevek:\n",
    "    matched = False\n",
    "    j_norm = j.casefold().strip()          # normalize case\n",
    "    for i in varoslista:\n",
    "        i_norm = i.casefold().strip()\n",
    "        if jellyfish.jaro_similarity(i_norm, j_norm) > threshold:\n",
    "            hasonlo_lista.append(j)\n",
    "            matched = True\n",
    "            break                          # stop after first good match\n",
    "    if not matched:\n",
    "        nem_hasonlo_lista.append(j)\n",
    "\n",
    "hasonlo_lista, nem_hasonlo_lista\n"
   ]
  },
  {
   "cell_type": "markdown",
   "id": "18f2c131-f917-459f-a8a3-db892aa56e1a",
   "metadata": {},
   "source": [
    "### “Best canonical” version.  \n",
    "When you have multiple canonicals (Debrecen, Budapest, maybe later more), it can be useful to not just say “similar” but also which one it’s closest to. That’s what the “best canonical” method does.  \n",
    "Why it’s useful  \n",
    "  \n",
    "✅ You can cluster variants of each city under its canonical form.  \n",
    "  \n",
    "✅ You avoid duplicates across hasonlo and nem_hasonlo.  \n",
    "  \n",
    "✅ You preserve the mapping (\"Bduapets\" → \"Budapest\") which is often the real goal.  \n",
    "  \n",
    "✅ Easier to scale: if later you add \"Miskolc\" or \"Szeged\" to varoslista, the method still works.  "
   ]
  },
  {
   "cell_type": "code",
   "execution_count": 50,
   "id": "bcc01ddc-9eee-4bd6-a3c6-7e6f3a36da21",
   "metadata": {},
   "outputs": [
    {
     "data": {
      "text/plain": [
       "(defaultdict(list,\n",
       "             {'Debrecen': ['Debrecen',\n",
       "               'debrecen',\n",
       "               'Debrecen',\n",
       "               'derbrecen',\n",
       "               'Debercen',\n",
       "               'Debrecen'],\n",
       "              'Budapest': ['Budapest',\n",
       "               'budapest',\n",
       "               'Bduapets',\n",
       "               'Budapest',\n",
       "               'Budalest',\n",
       "               'budapes']}),\n",
       " ['Futapest', 'dabratyin', 'necerbed'])"
      ]
     },
     "execution_count": 50,
     "metadata": {},
     "output_type": "execute_result"
    }
   ],
   "source": [
    "from collections import defaultdict\n",
    "\n",
    "matches_by_canon = defaultdict(list)\n",
    "unmatched = []\n",
    "\n",
    "for j in varosnevek:\n",
    "    j_norm = j.casefold().strip()\n",
    "    best_i, best_score = None, 0\n",
    "    for i in varoslista:\n",
    "        i_norm = i.casefold().strip()\n",
    "        s = jellyfish.jaro_similarity(i_norm, j_norm)\n",
    "        if s > best_score:\n",
    "            best_score, best_i = s, i\n",
    "    if best_score > threshold:\n",
    "        matches_by_canon[best_i].append(j)\n",
    "    else:\n",
    "        unmatched.append(j)\n",
    "\n",
    "matches_by_canon, unmatched"
   ]
  },
  {
   "cell_type": "code",
   "execution_count": null,
   "id": "16172d5b-a0d1-4735-aa8c-9cb695a91c0e",
   "metadata": {},
   "outputs": [],
   "source": []
  }
 ],
 "metadata": {
  "kernelspec": {
   "display_name": "Python 3 (ipykernel)",
   "language": "python",
   "name": "python3"
  },
  "language_info": {
   "codemirror_mode": {
    "name": "ipython",
    "version": 3
   },
   "file_extension": ".py",
   "mimetype": "text/x-python",
   "name": "python",
   "nbconvert_exporter": "python",
   "pygments_lexer": "ipython3",
   "version": "3.10.12"
  }
 },
 "nbformat": 4,
 "nbformat_minor": 5
}
